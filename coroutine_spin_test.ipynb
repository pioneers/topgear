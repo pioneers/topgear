{
 "metadata": {
  "name": "",
  "signature": "sha256:246de87d1823dcfd28158f479ebeba5932bd42b37de3a5679728fa970c2fcc5c"
 },
 "nbformat": 3,
 "nbformat_minor": 0,
 "worksheets": [
  {
   "cells": [
    {
     "cell_type": "markdown",
     "metadata": {},
     "source": [
      "<img src=\"http://mirageforum.com/forum/attachment.php?attachmentid=159&d=1370617142\">"
     ]
    },
    {
     "cell_type": "markdown",
     "metadata": {},
     "source": [
      "back to [Index](index.ipynb)"
     ]
    },
    {
     "cell_type": "heading",
     "level": 1,
     "metadata": {},
     "source": [
      "coroutine_spin_test"
     ]
    },
    {
     "cell_type": "markdown",
     "metadata": {},
     "source": [
      "2014-07-19"
     ]
    },
    {
     "cell_type": "markdown",
     "metadata": {},
     "source": [
      "testing performance of coroutines"
     ]
    },
    {
     "cell_type": "code",
     "collapsed": false,
     "input": [
      "# Cross-notebook include shim\n",
      "with open(\"nbinclude.ipynb\") as nbinclude_f: # don't rename nbinclude_f\n",
      "    import IPython.nbformat.current\n",
      "    get_ipython().run_cell(IPython.nbformat.current.read(nbinclude_f, 'json').worksheets[0].cells[0].input)"
     ],
     "language": "python",
     "metadata": {},
     "outputs": [],
     "prompt_number": 38
    },
    {
     "cell_type": "code",
     "collapsed": false,
     "input": [
      "class CoroutineSpinner:\n",
      "    def __init__(self, coroutine):\n",
      "        self.coroutine=coroutine\n",
      "        self.running=False\n",
      "    def run(self):\n",
      "        self.running=True\n",
      "        while(self.running):\n",
      "            delay=next(self.coroutine)\n",
      "            if delay < 0:\n",
      "                return\n",
      "            time.sleep(delay)"
     ],
     "language": "python",
     "metadata": {},
     "outputs": [],
     "prompt_number": 39
    },
    {
     "cell_type": "code",
     "collapsed": false,
     "input": [
      "import time\n",
      "import numpy as np\n",
      "times=np.zeros(shape=[100], dtype=np.float32)\n",
      "def time_test():\n",
      "    i=0\n",
      "    last_time=time.time()\n",
      "    while True:\n",
      "        now=time.time()\n",
      "        times[i]=now-last_time\n",
      "#         print i, times[i]\n",
      "        last_time=now\n",
      "        i+=1\n",
      "        if i == 100:\n",
      "            yield -1\n",
      "        yield .01"
     ],
     "language": "python",
     "metadata": {},
     "outputs": [],
     "prompt_number": 40
    },
    {
     "cell_type": "code",
     "collapsed": false,
     "input": [
      "cs=CoroutineSpinner(time_test())"
     ],
     "language": "python",
     "metadata": {},
     "outputs": [],
     "prompt_number": 41
    },
    {
     "cell_type": "code",
     "collapsed": false,
     "input": [
      "cs.run()"
     ],
     "language": "python",
     "metadata": {},
     "outputs": [],
     "prompt_number": 42
    },
    {
     "cell_type": "code",
     "collapsed": false,
     "input": [
      "%matplotlib inline"
     ],
     "language": "python",
     "metadata": {},
     "outputs": [],
     "prompt_number": 43
    },
    {
     "cell_type": "code",
     "collapsed": false,
     "input": [
      "import matplotlib.pyplot as plt"
     ],
     "language": "python",
     "metadata": {},
     "outputs": [],
     "prompt_number": 44
    },
    {
     "cell_type": "code",
     "collapsed": false,
     "input": [
      "plt.plot(times)\n",
      "plt.xlabel"
     ],
     "language": "python",
     "metadata": {},
     "outputs": [
      {
       "metadata": {},
       "output_type": "pyout",
       "prompt_number": 45,
       "text": [
        "<function matplotlib.pyplot.xlabel>"
       ]
      },
      {
       "metadata": {},
       "output_type": "display_data",
       "png": "[encoded data removed]",
       "text": [
        "<matplotlib.figure.Figure at 0x181e7b0>"
       ]
      }
     ],
     "prompt_number": 45
    },
    {
     "cell_type": "code",
     "collapsed": false,
     "input": [],
     "language": "python",
     "metadata": {},
     "outputs": [],
     "prompt_number": 37
    },
    {
     "cell_type": "code",
     "collapsed": false,
     "input": [],
     "language": "python",
     "metadata": {},
     "outputs": []
    }
   ],
   "metadata": {}
  }
 ]
}