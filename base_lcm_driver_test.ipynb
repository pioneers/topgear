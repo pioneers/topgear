{
 "metadata": {
  "name": "",
  "signature": "sha256:0ded4fbb3b695ba2970215e4e25d38b51520b8156bbdff2477c1a895e012b0e6"
 },
 "nbformat": 3,
 "nbformat_minor": 0,
 "worksheets": [
  {
   "cells": [
    {
     "cell_type": "markdown",
     "metadata": {},
     "source": [
      "<img src=\"http://mirageforum.com/forum/attachment.php?attachmentid=159&d=1370617142\">"
     ]
    },
    {
     "cell_type": "markdown",
     "metadata": {},
     "source": [
      "back to [Index](index.ipynb)"
     ]
    },
    {
     "cell_type": "heading",
     "level": 1,
     "metadata": {},
     "source": [
      "base_lcm_driver_test"
     ]
    },
    {
     "cell_type": "markdown",
     "metadata": {},
     "source": [
      "2014-08-07"
     ]
    },
    {
     "cell_type": "markdown",
     "metadata": {},
     "source": [
      "Example student code.\n",
      "This needs to be run on the robot in order to work."
     ]
    },
    {
     "cell_type": "code",
     "collapsed": false,
     "input": [
      "# Cross-notebook include shim\n",
      "with open(\"nbinclude.ipynb\") as nbinclude_f: # don't rename nbinclude_f\n",
      "    import IPython.nbformat.current\n",
      "    get_ipython().run_cell(IPython.nbformat.current.read(nbinclude_f, 'json').worksheets[0].cells[0].input)"
     ],
     "language": "python",
     "metadata": {},
     "outputs": [],
     "prompt_number": 3
    },
    {
     "cell_type": "code",
     "collapsed": false,
     "input": [
      "import time, lcm\n",
      "from python.forseti2 import piemos_cmd\n",
      "from python.fearing import base_cmd, reflectance_scan, xbox_joystick_state\n",
      "import python.fearing"
     ],
     "language": "python",
     "metadata": {},
     "outputs": [],
     "prompt_number": 6
    },
    {
     "cell_type": "code",
     "collapsed": false,
     "input": [
      "python.fearing.xbox_joystick_state"
     ],
     "language": "python",
     "metadata": {},
     "outputs": []
    },
    {
     "cell_type": "code",
     "collapsed": false,
     "input": [
      "lc=lcm.LCM('udpm://239.255.76.67:7667?ttl=1')"
     ],
     "language": "python",
     "metadata": {},
     "outputs": [],
     "prompt_number": 5
    },
    {
     "cell_type": "code",
     "collapsed": false,
     "input": [
      "cmd = base_cmd()\n",
      "cmd.header = python.fearing.header()"
     ],
     "language": "python",
     "metadata": {},
     "outputs": [],
     "prompt_number": 4
    },
    {
     "cell_type": "code",
     "collapsed": false,
     "input": [
      "cmd.left_cmd=0\n",
      "cmd.right_cmd=0\n",
      "lc.publish('robot0/cmd', cmd.encode())"
     ],
     "language": "python",
     "metadata": {},
     "outputs": [],
     "prompt_number": 5
    },
    {
     "cell_type": "code",
     "collapsed": false,
     "input": [
      "%%file lbot.py\n",
      "import time, lcm\n",
      "from python.forseti2 import piemos_cmd\n",
      "from python.fearing import base_cmd, reflectance_scan, xbox_joystick_state\n",
      "import python.fearing\n",
      "class Robot:\n",
      "    def __init__(self):\n",
      "        self.lcm=lcm.LCM('udpm://239.255.76.67:7667?ttl=1')\n",
      "        self.msg=base_cmd()\n",
      "        self.msg.header = python.fearing.header()\n",
      "    def drive(self, l, r):\n",
      "        self.msg.left_cmd=l\n",
      "        self.msg.right_cmd=r\n",
      "        self.lcm.publish('robot0/cmd', self.msg.encode())\n",
      "    def read_sensors(self):\n",
      "        class Container:\n",
      "            values=None\n",
      "        c=Container()\n",
      "        lc=lcm.LCM('udpm://239.255.76.67:7667?ttl=1')\n",
      "        def callback(chan, data):\n",
      "            c.values=reflectance_scan.decode(data).reflectaces\n",
      "        lc.subscribe('robot0/state', callback)\n",
      "        while c.values is None:\n",
      "            lc.handle()\n",
      "        return c.values\n",
      "    def read_joysticks(self):\n",
      "        class Container:\n",
      "            values=None\n",
      "        c=Container()\n",
      "        lc=lcm.LCM('udpm://239.255.76.67:7667?ttl=1')\n",
      "        def callback(chan, data):\n",
      "            c.values=xbox_joystick_state.decode(data).axes\n",
      "        lc.subscribe('robot0/joy', callback)\n",
      "        while c.values is None:\n",
      "            lc.handle()\n",
      "        return c.values\n"
     ],
     "language": "python",
     "metadata": {},
     "outputs": [
      {
       "output_type": "stream",
       "stream": "stdout",
       "text": [
        "Overwriting lbot.py\n"
       ]
      }
     ],
     "prompt_number": 30
    },
    {
     "cell_type": "code",
     "collapsed": false,
     "input": [
      "class LCMBot:\n",
      "    def __init__(self):\n",
      "        self.lcm=lcm.LCM('udpm://239.255.76.67:7667?ttl=1')\n",
      "        self.msg=base_cmd()\n",
      "        self.msg.header = python.fearing.header()\n",
      "    def drive(self, l, r):\n",
      "        self.msg.left_cmd=l\n",
      "        self.msg.right_cmd=r\n",
      "        self.lcm.publish('robot0/cmd', self.msg.encode())\n",
      "    def read_sensors(self):\n",
      "        class Container:\n",
      "            values=None\n",
      "        c=Container()\n",
      "        lc=lcm.LCM('udpm://239.255.76.67:7667?ttl=1')\n",
      "        def callback(chan, data):\n",
      "            c.values=reflectance_scan.decode(data).reflectaces\n",
      "        lc.subscribe('robot0/state', callback)\n",
      "        while c.values is None:\n",
      "            lc.handle()\n",
      "        return c.values\n",
      "    def read_joysticks(self):\n",
      "        class Container:\n",
      "            values=None\n",
      "        c=Container()\n",
      "        lc=lcm.LCM('udpm://239.255.76.67:7667?ttl=1')\n",
      "        def callback(chan, data):\n",
      "            c.values=xbox_joystick_state.decode(data).axes\n",
      "        lc.subscribe('robot0/joy', callback)\n",
      "        while c.values is None:\n",
      "            lc.handle()\n",
      "        return c.values\n"
     ],
     "language": "python",
     "metadata": {},
     "outputs": [],
     "prompt_number": 30
    },
    {
     "cell_type": "code",
     "collapsed": false,
     "input": [
      "lcmbot=LCMBot()"
     ],
     "language": "python",
     "metadata": {},
     "outputs": [],
     "prompt_number": 31
    },
    {
     "cell_type": "code",
     "collapsed": false,
     "input": [
      "lcmbot.drive(0,.1)"
     ],
     "language": "python",
     "metadata": {},
     "outputs": [],
     "prompt_number": 32
    },
    {
     "cell_type": "code",
     "collapsed": false,
     "input": [
      "lcmbot.drive(0,0)"
     ],
     "language": "python",
     "metadata": {},
     "outputs": [],
     "prompt_number": 33
    },
    {
     "cell_type": "code",
     "collapsed": false,
     "input": [
      "lcmbot.read_sensors()"
     ],
     "language": "python",
     "metadata": {},
     "outputs": [
      {
       "metadata": {},
       "output_type": "pyout",
       "prompt_number": 34,
       "text": [
        "(0.8327229022979736,\n",
        " 0.6495726704597473,\n",
        " 0.5724053978919983,\n",
        " 0.6454212665557861,\n",
        " 0.6080586314201355,\n",
        " 0.6871795058250427)"
       ]
      }
     ],
     "prompt_number": 34
    },
    {
     "cell_type": "code",
     "collapsed": false,
     "input": [
      "def read_joysticks():\n",
      "    class Container:\n",
      "        values=None\n",
      "    c=Container()\n",
      "    lc=lcm.LCM('udpm://239.255.76.67:7667?ttl=1')\n",
      "    def callback(chan, data):\n",
      "        c.values=xbox_joystick_state.decode(data).axes\n",
      "    lc.subscribe('robot0/joy', callback)\n",
      "    while c.values is None:\n",
      "        lc.handle()\n",
      "    return c.values"
     ],
     "language": "python",
     "metadata": {},
     "outputs": [],
     "prompt_number": 7
    },
    {
     "cell_type": "code",
     "collapsed": false,
     "input": [
      "%timeit read_joysticks()"
     ],
     "language": "python",
     "metadata": {},
     "outputs": [
      {
       "output_type": "stream",
       "stream": "stdout",
       "text": [
        "10 loops, best of 3: 31.6 ms per loop\n"
       ]
      }
     ],
     "prompt_number": 24
    },
    {
     "cell_type": "code",
     "collapsed": false,
     "input": [
      "def read_sensors():\n",
      "    class Container:\n",
      "        values=None\n",
      "    c=Container()\n",
      "    lc=lcm.LCM('udpm://239.255.76.67:7667?ttl=1')\n",
      "    def callback(chan, data):\n",
      "        c.values=reflectance_scan.decode(data).reflectaces\n",
      "    lc.subscribe('robot0/state', callback)\n",
      "    while c.values is None:\n",
      "        lc.handle()\n",
      "    return c.values"
     ],
     "language": "python",
     "metadata": {},
     "outputs": [],
     "prompt_number": 26
    },
    {
     "cell_type": "code",
     "collapsed": false,
     "input": [
      "%timeit read_sensors()"
     ],
     "language": "python",
     "metadata": {},
     "outputs": [
      {
       "output_type": "stream",
       "stream": "stdout",
       "text": [
        "10 loops, best of 3: 45.1 ms per loop\n"
       ]
      }
     ],
     "prompt_number": 27
    },
    {
     "cell_type": "code",
     "collapsed": false,
     "input": [
      "read_sensors()"
     ],
     "language": "python",
     "metadata": {},
     "outputs": [
      {
       "metadata": {},
       "output_type": "pyout",
       "prompt_number": 14,
       "text": [
        "(0.6691086888313293,\n",
        " 0.2271062433719635,\n",
        " 0.04395604506134987,\n",
        " 0.04688645154237747,\n",
        " 0.05274725705385208,\n",
        " 0.3948718309402466)"
       ]
      }
     ],
     "prompt_number": 14
    },
    {
     "cell_type": "code",
     "collapsed": false,
     "input": [
      "import IPython, sys, time"
     ],
     "language": "python",
     "metadata": {},
     "outputs": [],
     "prompt_number": 110
    },
    {
     "cell_type": "code",
     "collapsed": false,
     "input": [
      "while True:\n",
      "    vals=read_sensors()\n",
      "    IPython.display.clear_output()\n",
      "    for val in vals:\n",
      "        print '>'*int(100*val) + ' '*int(100*(1.0-val)) + str(val)\n",
      "    sys.stdout.flush()\n",
      "    "
     ],
     "language": "python",
     "metadata": {},
     "outputs": [
      {
       "output_type": "stream",
       "stream": "stdout",
       "text": [
        ">>>>>>>>>>>>>>>>>>>>>>>>>>>>>>>>>>>>>>>>>>>>>>>>>>>>>>>>>>>>>>>>>>                                 0.669108688831\n",
        ">>>>>>>>>>>>>>>>>>>>>>>>>>>>>                                                                      0.299389511347\n",
        ">>>>                                                                                               0.0495726540685\n",
        ">>>>                                                                                               0.0485958531499\n",
        ">>>>>                                                                                              0.0507936552167\n",
        ">>>>>>>>>>>>>>>>>>>>>>>>>>>>>>>>                                                                   0.326984137297\n"
       ]
      },
      {
       "ename": "KeyboardInterrupt",
       "evalue": "",
       "output_type": "pyerr",
       "traceback": [
        "\u001b[1;31m---------------------------------------------------------------------------\u001b[0m\n\u001b[1;31mKeyboardInterrupt\u001b[0m                         Traceback (most recent call last)",
        "\u001b[1;32m<ipython-input-119-809fd1f97f5a>\u001b[0m in \u001b[0;36m<module>\u001b[1;34m()\u001b[0m\n\u001b[0;32m      1\u001b[0m \u001b[1;32mwhile\u001b[0m \u001b[0mTrue\u001b[0m\u001b[1;33m:\u001b[0m\u001b[1;33m\u001b[0m\u001b[0m\n\u001b[1;32m----> 2\u001b[1;33m     \u001b[0mvals\u001b[0m\u001b[1;33m=\u001b[0m\u001b[0mread_sensors\u001b[0m\u001b[1;33m(\u001b[0m\u001b[1;33m)\u001b[0m\u001b[1;33m\u001b[0m\u001b[0m\n\u001b[0m\u001b[0;32m      3\u001b[0m     \u001b[0mIPython\u001b[0m\u001b[1;33m.\u001b[0m\u001b[0mdisplay\u001b[0m\u001b[1;33m.\u001b[0m\u001b[0mclear_output\u001b[0m\u001b[1;33m(\u001b[0m\u001b[1;33m)\u001b[0m\u001b[1;33m\u001b[0m\u001b[0m\n\u001b[0;32m      4\u001b[0m     \u001b[1;32mfor\u001b[0m \u001b[0mval\u001b[0m \u001b[1;32min\u001b[0m \u001b[0mvals\u001b[0m\u001b[1;33m:\u001b[0m\u001b[1;33m\u001b[0m\u001b[0m\n\u001b[0;32m      5\u001b[0m         \u001b[1;32mprint\u001b[0m \u001b[1;34m'>'\u001b[0m\u001b[1;33m*\u001b[0m\u001b[0mint\u001b[0m\u001b[1;33m(\u001b[0m\u001b[1;36m100\u001b[0m\u001b[1;33m*\u001b[0m\u001b[0mval\u001b[0m\u001b[1;33m)\u001b[0m \u001b[1;33m+\u001b[0m \u001b[1;34m' '\u001b[0m\u001b[1;33m*\u001b[0m\u001b[0mint\u001b[0m\u001b[1;33m(\u001b[0m\u001b[1;36m100\u001b[0m\u001b[1;33m*\u001b[0m\u001b[1;33m(\u001b[0m\u001b[1;36m1.0\u001b[0m\u001b[1;33m-\u001b[0m\u001b[0mval\u001b[0m\u001b[1;33m)\u001b[0m\u001b[1;33m)\u001b[0m \u001b[1;33m+\u001b[0m \u001b[0mstr\u001b[0m\u001b[1;33m(\u001b[0m\u001b[0mval\u001b[0m\u001b[1;33m)\u001b[0m\u001b[1;33m\u001b[0m\u001b[0m\n",
        "\u001b[1;32m<ipython-input-72-897172fa8374>\u001b[0m in \u001b[0;36mread_sensors\u001b[1;34m()\u001b[0m\n\u001b[0;32m      9\u001b[0m     \u001b[0mlc\u001b[0m\u001b[1;33m.\u001b[0m\u001b[0msubscribe\u001b[0m\u001b[1;33m(\u001b[0m\u001b[1;34m'robot0/state'\u001b[0m\u001b[1;33m,\u001b[0m \u001b[0mcallback\u001b[0m\u001b[1;33m)\u001b[0m\u001b[1;33m\u001b[0m\u001b[0m\n\u001b[0;32m     10\u001b[0m     \u001b[1;32mwhile\u001b[0m \u001b[0mc\u001b[0m\u001b[1;33m.\u001b[0m\u001b[0mvalues\u001b[0m \u001b[1;32mis\u001b[0m \u001b[0mNone\u001b[0m\u001b[1;33m:\u001b[0m\u001b[1;33m\u001b[0m\u001b[0m\n\u001b[1;32m---> 11\u001b[1;33m         \u001b[0mlc\u001b[0m\u001b[1;33m.\u001b[0m\u001b[0mhandle\u001b[0m\u001b[1;33m(\u001b[0m\u001b[1;33m)\u001b[0m\u001b[1;33m\u001b[0m\u001b[0m\n\u001b[0m\u001b[0;32m     12\u001b[0m     \u001b[1;32mreturn\u001b[0m \u001b[0mc\u001b[0m\u001b[1;33m.\u001b[0m\u001b[0mvalues\u001b[0m\u001b[1;33m\u001b[0m\u001b[0m\n",
        "\u001b[1;31mKeyboardInterrupt\u001b[0m: "
       ]
      }
     ],
     "prompt_number": 119
    },
    {
     "cell_type": "code",
     "collapsed": false,
     "input": [],
     "language": "python",
     "metadata": {},
     "outputs": []
    }
   ],
   "metadata": {}
  }
 ]
}