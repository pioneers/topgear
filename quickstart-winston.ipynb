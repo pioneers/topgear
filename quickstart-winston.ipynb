{
 "metadata": {
  "colabVersion": "0.1",
  "name": "",
  "signature": "sha256:c0bfd009d6b92f92c31db6f6b0a822a5513d5317206ba368c8595ed756f25453"
 },
 "nbformat": 3,
 "nbformat_minor": 0,
 "worksheets": [
  {
   "cells": [
    {
     "cell_type": "markdown",
     "metadata": {},
     "source": [
      "<img src=\"http://mirageforum.com/forum/attachment.php?attachmentid=159&d=1370617142\">"
     ]
    },
    {
     "cell_type": "markdown",
     "metadata": {},
     "source": [
      "back to [Index](index.ipynb)"
     ]
    },
    {
     "cell_type": "markdown",
     "metadata": {},
     "source": [
      "### Important Information"
     ]
    },
    {
     "cell_type": "markdown",
     "metadata": {},
     "source": [
      "The API:\n",
      "\n",
      "r.drive(left, right) makes the motors move. The values range from -1 to 1."
     ]
    },
    {
     "cell_type": "heading",
     "level": 1,
     "metadata": {},
     "source": [
      "Quickstart-Robot"
     ]
    },
    {
     "cell_type": "markdown",
     "metadata": {},
     "source": [
      "Let's make a robot drive forward:"
     ]
    },
    {
     "cell_type": "markdown",
     "metadata": {},
     "source": [
      "<div class=\"alert alert-success\">\n",
      "Click on the cell below, and press `SHIFT` + `ENTER` to run\n",
      "</div>"
     ]
    },
    {
     "cell_type": "code",
     "collapsed": false,
     "input": [
      "import lbot, time, IPython, sys, time\n",
      "r = lbot.Robot()\n",
      "r.drive(.1, .1)"
     ],
     "language": "python",
     "metadata": {
      "cellView": null,
      "executionInfo": null
     },
     "outputs": [],
     "prompt_number": 85
    },
    {
     "cell_type": "markdown",
     "metadata": {},
     "source": [
      "The robot should now be driving forward!\n",
      "\n",
      "Stop the robot by running the cell below:"
     ]
    },
    {
     "cell_type": "code",
     "collapsed": false,
     "input": [
      "r.drive(0,0)"
     ],
     "language": "python",
     "metadata": {
      "cellView": null,
      "executionInfo": null
     },
     "outputs": [],
     "prompt_number": 86
    },
    {
     "cell_type": "heading",
     "level": 3,
     "metadata": {},
     "source": [
      "Robot Commands"
     ]
    },
    {
     "cell_type": "markdown",
     "metadata": {},
     "source": [
      "In the empty cell below, try making the robot spin to the right:"
     ]
    },
    {
     "cell_type": "markdown",
     "metadata": {},
     "source": [
      "<div class=\"alert alert-success\">\n",
      "Click on the cell below (\"Your code goes here!~\") and start typing code!\n",
      "</div>"
     ]
    },
    {
     "cell_type": "code",
     "collapsed": false,
     "input": [
      "import lbot, time, IPython, sys, time\n",
      "r = lbot.Robot()\n",
      "r.drive(.1, .05)"
     ],
     "language": "python",
     "metadata": {
      "cellView": null,
      "executionInfo": null
     },
     "outputs": [],
     "prompt_number": 87
    },
    {
     "cell_type": "markdown",
     "metadata": {},
     "source": [
      "Then, in the empty cell below, try to make the robot stop."
     ]
    },
    {
     "cell_type": "code",
     "collapsed": false,
     "input": [
      "r.drive(0,0)"
     ],
     "language": "python",
     "metadata": {
      "cellView": null,
      "executionInfo": null
     },
     "outputs": [],
     "prompt_number": 92
    },
    {
     "cell_type": "markdown",
     "metadata": {},
     "source": [
      "now, try making the robot drive backwards:"
     ]
    },
    {
     "cell_type": "code",
     "collapsed": false,
     "input": [
      "r.drive(-.1, -.1)"
     ],
     "language": "python",
     "metadata": {
      "cellView": null,
      "executionInfo": null
     },
     "outputs": [],
     "prompt_number": 89
    },
    {
     "cell_type": "heading",
     "level": 3,
     "metadata": {},
     "source": [
      "How to use this interface"
     ]
    },
    {
     "cell_type": "markdown",
     "metadata": {},
     "source": [
      "These code blocks are called cells."
     ]
    },
    {
     "cell_type": "markdown",
     "metadata": {},
     "source": [
      "The menu and toolbar:\n",
      "<img src=\"ipython-in-depth/examples/Notebook/images/menubar_toolbar.png\">"
     ]
    },
    {
     "cell_type": "markdown",
     "metadata": {},
     "source": [
      "Try clicking on `Insert` ==> `Insert Cell Below`."
     ]
    },
    {
     "cell_type": "code",
     "collapsed": false,
     "input": [
      "r.drive(.1, .05)"
     ],
     "language": "python",
     "metadata": {},
     "outputs": [],
     "prompt_number": 91
    },
    {
     "cell_type": "heading",
     "level": 3,
     "metadata": {},
     "source": [
      "Fancy Robot Commands"
     ]
    },
    {
     "cell_type": "markdown",
     "metadata": {},
     "source": [
      "By making new cells below this one, try commanding the robot to drive in different radius circles."
     ]
    },
    {
     "cell_type": "markdown",
     "metadata": {},
     "source": [
      "Make a cell below here that spins the robot in ~5 inch diameter circles. (Don't spend too much time tuning)"
     ]
    },
    {
     "cell_type": "code",
     "collapsed": false,
     "input": [
      "r.drive(.05, .15)"
     ],
     "language": "python",
     "metadata": {
      "cellView": null,
      "executionInfo": null
     },
     "outputs": [],
     "prompt_number": 98
    },
    {
     "cell_type": "code",
     "collapsed": false,
     "input": [
      "r.drive(0, 0)"
     ],
     "language": "python",
     "metadata": {},
     "outputs": [],
     "prompt_number": 99
    },
    {
     "cell_type": "markdown",
     "metadata": {},
     "source": [
      "Make a cell below here that spins the robot in ~10 inch diameter circles. (Don't spend too much time tuning)"
     ]
    },
    {
     "cell_type": "code",
     "collapsed": false,
     "input": [
      "# Your code goes here!~"
     ],
     "language": "python",
     "metadata": {
      "cellView": null,
      "executionInfo": null
     },
     "outputs": [],
     "prompt_number": 77
    },
    {
     "cell_type": "code",
     "collapsed": false,
     "input": [
      "# Your code goes here!~"
     ],
     "language": "python",
     "metadata": {},
     "outputs": [],
     "prompt_number": 89
    },
    {
     "cell_type": "heading",
     "level": 3,
     "metadata": {},
     "source": [
      "Robot Trajectories"
     ]
    },
    {
     "cell_type": "markdown",
     "metadata": {},
     "source": [
      "Commands can be strung together to make a robot follow paths."
     ]
    },
    {
     "cell_type": "markdown",
     "metadata": {},
     "source": [
      "Compare the behavior of the two cells, and try to record an explaination:"
     ]
    },
    {
     "cell_type": "code",
     "collapsed": false,
     "input": [
      "r.drive(0,.2)\n",
      "r.drive(0,0)"
     ],
     "language": "python",
     "metadata": {
      "cellView": null,
      "executionInfo": null
     },
     "outputs": [],
     "prompt_number": 100
    },
    {
     "cell_type": "markdown",
     "metadata": {},
     "source": [
      "<div class=\"alert alert-success\">\n",
      "Double click on the cell below (\"What happened: Why:\") to record your thoughts. Press `SHIFT` + `ENTER` to render the text.\n",
      "</div>"
     ]
    },
    {
     "cell_type": "markdown",
     "metadata": {},
     "source": [
      "What happened: The robot moved a little then stopped\n",
      "\n",
      "Why: The lines got executed one after another"
     ]
    },
    {
     "cell_type": "code",
     "collapsed": false,
     "input": [
      "r.drive(.15,.15)\n",
      "time.sleep(.5)\n",
      "r.drive(0,0)"
     ],
     "language": "python",
     "metadata": {
      "cellView": null,
      "executionInfo": null
     },
     "outputs": [],
     "prompt_number": 102
    },
    {
     "cell_type": "markdown",
     "metadata": {},
     "source": [
      "What happened: THe robot moved quite a bit then stopped\n",
      "\n",
      "Why: the time.sleep line allowed the code above to last for a longer amount of time so it continued driving lonver"
     ]
    },
    {
     "cell_type": "heading",
     "level": 3,
     "metadata": {},
     "source": [
      " Using Robot Trajectories with Sleep"
     ]
    },
    {
     "cell_type": "markdown",
     "metadata": {},
     "source": [
      "\n"
     ]
    },
    {
     "cell_type": "markdown",
     "metadata": {},
     "source": [
      "Try making the robot turn 90 degrees using what you've learned (hint: time.sleep might help!)"
     ]
    },
    {
     "cell_type": "code",
     "collapsed": false,
     "input": [
      "r.drive(.3,-.3)\n",
      "time.sleep(.5)\n",
      "r.drive(0,0)\n"
     ],
     "language": "python",
     "metadata": {
      "cellView": null,
      "executionInfo": null
     },
     "outputs": [],
     "prompt_number": 105
    },
    {
     "cell_type": "markdown",
     "metadata": {},
     "source": [
      "Try making the robot drive 5 inches."
     ]
    },
    {
     "cell_type": "code",
     "collapsed": false,
     "input": [
      "# Your code goes here!~"
     ],
     "language": "python",
     "metadata": {
      "cellView": null,
      "executionInfo": null
     },
     "outputs": [],
     "prompt_number": 84
    },
    {
     "cell_type": "markdown",
     "metadata": {},
     "source": [
      "Now, use these together to make the robot drive forwards, turn 180 degrees, drive back, and then turn back to the original angle."
     ]
    },
    {
     "cell_type": "code",
     "collapsed": false,
     "input": [
      "# Your code goes here!~"
     ],
     "language": "python",
     "metadata": {
      "cellView": null,
      "executionInfo": null
     },
     "outputs": [],
     "prompt_number": 87
    },
    {
     "cell_type": "heading",
     "level": 3,
     "metadata": {},
     "source": [
      " Variables"
     ]
    },
    {
     "cell_type": "markdown",
     "metadata": {},
     "source": [
      "We can pass variables to functions:"
     ]
    },
    {
     "cell_type": "code",
     "collapsed": false,
     "input": [
      "left = .1\n",
      "right = .1\n",
      "\n",
      "r.drive(left, right)"
     ],
     "language": "python",
     "metadata": {
      "cellView": null,
      "executionInfo": null
     },
     "outputs": [],
     "prompt_number": 88
    },
    {
     "cell_type": "markdown",
     "metadata": {},
     "source": [
      "We can also assign variables:"
     ]
    },
    {
     "cell_type": "code",
     "collapsed": false,
     "input": [
      "left = .1\n",
      "right = .1\n",
      "\n",
      "print left\n",
      "print right\n",
      "\n",
      "left = left * 2\n",
      "\n",
      "print left\n",
      "print right\n",
      "\n",
      "r.drive(left, right)\n"
     ],
     "language": "python",
     "metadata": {
      "cellView": null,
      "executionInfo": null
     },
     "outputs": [
      {
       "output_type": "stream",
       "stream": "stdout",
       "text": [
        "0.1\n",
        "0.1\n",
        "0.2\n",
        "0.1\n"
       ]
      }
     ],
     "prompt_number": 106
    },
    {
     "cell_type": "code",
     "collapsed": false,
     "input": [
      "r.drive(0,0)"
     ],
     "language": "python",
     "metadata": {},
     "outputs": [],
     "prompt_number": 159
    },
    {
     "cell_type": "code",
     "collapsed": false,
     "input": [
      "for i in range(10):\n",
      "    value = i*5\n",
      "    print i\n",
      "    print value"
     ],
     "language": "python",
     "metadata": {
      "cellView": null,
      "executionInfo": null
     },
     "outputs": [
      {
       "output_type": "stream",
       "stream": "stdout",
       "text": [
        "0\n",
        "0\n",
        "1\n",
        "5\n",
        "2\n",
        "10\n",
        "3\n",
        "15\n",
        "4\n",
        "20\n",
        "5\n",
        "25\n",
        "6\n",
        "30\n",
        "7\n",
        "35\n",
        "8\n",
        "40\n",
        "9\n",
        "45\n"
       ]
      }
     ],
     "prompt_number": 109
    },
    {
     "cell_type": "heading",
     "level": 3,
     "metadata": {},
     "source": [
      " Using Robot Trajectories With loops\n"
     ]
    },
    {
     "cell_type": "markdown",
     "metadata": {},
     "source": [
      "Now, using the for loop, make a robot drive in a square:"
     ]
    },
    {
     "cell_type": "code",
     "collapsed": false,
     "input": [
      "for i in range(4):\n",
      "    r.drive(-.3,.3)\n",
      "    time.sleep(.5)\n",
      "    r.drive(0,0)\n",
      "    r.drive(.2,.2)\n",
      "    time.sleep(.7)\n",
      "    r.drive(0,0)\n"
     ],
     "language": "python",
     "metadata": {
      "cellView": null,
      "executionInfo": null
     },
     "outputs": [],
     "prompt_number": 111
    },
    {
     "cell_type": "heading",
     "level": 3,
     "metadata": {},
     "source": [
      " Sensors"
     ]
    },
    {
     "cell_type": "markdown",
     "metadata": {},
     "source": [
      "Run the cell below a couple times under various lighting conditions.\n",
      "For example, try:\n",
      "* facing up\n",
      "* on retro-reflective tape\n",
      "* on carpet\n",
      "* on the table surface"
     ]
    },
    {
     "cell_type": "markdown",
     "metadata": {},
     "source": [
      "<div class=\"alert alert-success\">\n",
      "Press `CTRL` + `ENTER` to run a cell repeatedly while the cell is selected\n",
      "</div>"
     ]
    },
    {
     "cell_type": "code",
     "collapsed": false,
     "input": [
      "reflectances = r.read_sensors()\n",
      "print reflectances\n",
      "print len(reflectances)"
     ],
     "language": "python",
     "metadata": {},
     "outputs": [
      {
       "output_type": "stream",
       "stream": "stdout",
       "text": [
        "(0.6039072275161743, 0.18119658529758453, 0.06275946646928787, 0.11672772467136383, 0.07399267703294754, 0.3672771751880646)\n",
        "6\n"
       ]
      }
     ],
     "prompt_number": 121
    },
    {
     "cell_type": "markdown",
     "metadata": {},
     "source": [
      "The output of `read_sensors` is a **tuple**: a group of values."
     ]
    },
    {
     "cell_type": "code",
     "collapsed": false,
     "input": [
      "tups = (12, -1)\n",
      "print tups\n",
      "print len(tups)"
     ],
     "language": "python",
     "metadata": {},
     "outputs": [
      {
       "output_type": "stream",
       "stream": "stdout",
       "text": [
        "(12, -1)\n",
        "2\n"
       ]
      }
     ],
     "prompt_number": 38
    },
    {
     "cell_type": "code",
     "collapsed": false,
     "input": [
      "print tups[0]\n",
      "print tups[1]"
     ],
     "language": "python",
     "metadata": {},
     "outputs": [
      {
       "output_type": "stream",
       "stream": "stdout",
       "text": [
        "12\n",
        "-1\n"
       ]
      }
     ],
     "prompt_number": 27
    },
    {
     "cell_type": "markdown",
     "metadata": {},
     "source": [
      "Use the examples above to print out the value of the third reflectance sensor."
     ]
    },
    {
     "cell_type": "code",
     "collapsed": false,
     "input": [
      "print reflectances[2]"
     ],
     "language": "python",
     "metadata": {},
     "outputs": [
      {
       "output_type": "stream",
       "stream": "stdout",
       "text": [
        "0.0627594664693\n"
       ]
      }
     ],
     "prompt_number": 122
    },
    {
     "cell_type": "markdown",
     "metadata": {},
     "source": [
      "Use your knowlege of loops and tuples to print all the values of read_sensors."
     ]
    },
    {
     "cell_type": "code",
     "collapsed": false,
     "input": [
      "for i in range(6):\n",
      "    print reflectances[i]"
     ],
     "language": "python",
     "metadata": {},
     "outputs": [
      {
       "output_type": "stream",
       "stream": "stdout",
       "text": [
        "0.603907227516\n",
        "0.181196585298\n",
        "0.0627594664693\n",
        "0.116727724671\n",
        "0.0739926770329\n",
        "0.367277175188\n"
       ]
      }
     ],
     "prompt_number": 124
    },
    {
     "cell_type": "heading",
     "level": 3,
     "metadata": {},
     "source": [
      "Streaming data"
     ]
    },
    {
     "cell_type": "code",
     "collapsed": false,
     "input": [
      "for i in range(5):\n",
      "    print i\n",
      "    time.sleep(1)"
     ],
     "language": "python",
     "metadata": {},
     "outputs": [
      {
       "output_type": "stream",
       "stream": "stdout",
       "text": [
        "0\n",
        "1"
       ]
      },
      {
       "output_type": "stream",
       "stream": "stdout",
       "text": [
        "\n",
        "2"
       ]
      },
      {
       "output_type": "stream",
       "stream": "stdout",
       "text": [
        "\n",
        "3"
       ]
      },
      {
       "output_type": "stream",
       "stream": "stdout",
       "text": [
        "\n",
        "4"
       ]
      },
      {
       "output_type": "stream",
       "stream": "stdout",
       "text": [
        "\n"
       ]
      }
     ],
     "prompt_number": 125
    },
    {
     "cell_type": "code",
     "collapsed": false,
     "input": [
      "for i in range(5):\n",
      "    IPython.display.clear_output()\n",
      "    print i\n",
      "    sys.stdout.flush()\n",
      "    time.sleep(1)"
     ],
     "language": "python",
     "metadata": {},
     "outputs": [
      {
       "output_type": "stream",
       "stream": "stdout",
       "text": [
        "4\n"
       ]
      }
     ],
     "prompt_number": 126
    },
    {
     "cell_type": "heading",
     "level": 3,
     "metadata": {},
     "source": [
      "Streaming the reflectance values"
     ]
    },
    {
     "cell_type": "markdown",
     "metadata": {},
     "source": [
      "Try this:\n",
      "\n",
      "(To stop it remember that there is a stop button in the toolbar ar the top)"
     ]
    },
    {
     "cell_type": "code",
     "collapsed": false,
     "input": [
      "while True:\n",
      "    values = r.read_sensors()\n",
      "    IPython.display.clear_output()\n",
      "    for val in values:\n",
      "        print '='*int(30*val) + int(30*(1.-val))*' ' + str(val)\n",
      "    sys.stdout.flush()\n",
      "    time.sleep(.01)"
     ],
     "language": "python",
     "metadata": {},
     "outputs": [
      {
       "output_type": "stream",
       "stream": "stdout",
       "text": [
        "===========                  0.391941428185\n",
        "=                            0.0393162406981\n",
        "=                            0.0415140427649\n",
        "=                            0.0468864515424\n",
        "==                           0.0727716758847\n",
        "===========                  0.378510415554\n"
       ]
      },
      {
       "ename": "KeyboardInterrupt",
       "evalue": "",
       "output_type": "pyerr",
       "traceback": [
        "\u001b[1;31m---------------------------------------------------------------------------\u001b[0m\n\u001b[1;31mKeyboardInterrupt\u001b[0m                         Traceback (most recent call last)",
        "\u001b[1;32m<ipython-input-183-1682ec94e1c0>\u001b[0m in \u001b[0;36m<module>\u001b[1;34m()\u001b[0m\n\u001b[0;32m      5\u001b[0m         \u001b[1;32mprint\u001b[0m \u001b[1;34m'='\u001b[0m\u001b[1;33m*\u001b[0m\u001b[0mint\u001b[0m\u001b[1;33m(\u001b[0m\u001b[1;36m30\u001b[0m\u001b[1;33m*\u001b[0m\u001b[0mval\u001b[0m\u001b[1;33m)\u001b[0m \u001b[1;33m+\u001b[0m \u001b[0mint\u001b[0m\u001b[1;33m(\u001b[0m\u001b[1;36m30\u001b[0m\u001b[1;33m*\u001b[0m\u001b[1;33m(\u001b[0m\u001b[1;36m1.\u001b[0m\u001b[1;33m-\u001b[0m\u001b[0mval\u001b[0m\u001b[1;33m)\u001b[0m\u001b[1;33m)\u001b[0m\u001b[1;33m*\u001b[0m\u001b[1;34m' '\u001b[0m \u001b[1;33m+\u001b[0m \u001b[0mstr\u001b[0m\u001b[1;33m(\u001b[0m\u001b[0mval\u001b[0m\u001b[1;33m)\u001b[0m\u001b[1;33m\u001b[0m\u001b[0m\n\u001b[0;32m      6\u001b[0m     \u001b[0msys\u001b[0m\u001b[1;33m.\u001b[0m\u001b[0mstdout\u001b[0m\u001b[1;33m.\u001b[0m\u001b[0mflush\u001b[0m\u001b[1;33m(\u001b[0m\u001b[1;33m)\u001b[0m\u001b[1;33m\u001b[0m\u001b[0m\n\u001b[1;32m----> 7\u001b[1;33m     \u001b[0mtime\u001b[0m\u001b[1;33m.\u001b[0m\u001b[0msleep\u001b[0m\u001b[1;33m(\u001b[0m\u001b[1;36m.01\u001b[0m\u001b[1;33m)\u001b[0m\u001b[1;33m\u001b[0m\u001b[0m\n\u001b[0m",
        "\u001b[1;31mKeyboardInterrupt\u001b[0m: "
       ]
      }
     ],
     "prompt_number": 183
    },
    {
     "cell_type": "heading",
     "level": 3,
     "metadata": {},
     "source": [
      " Let's explore comparisons!"
     ]
    },
    {
     "cell_type": "code",
     "collapsed": false,
     "input": [
      "5 < 4"
     ],
     "language": "python",
     "metadata": {
      "cellView": null,
      "executionInfo": null
     },
     "outputs": [
      {
       "metadata": {},
       "output_type": "pyout",
       "prompt_number": 130,
       "text": [
        "False"
       ]
      }
     ],
     "prompt_number": 130
    },
    {
     "cell_type": "code",
     "collapsed": false,
     "input": [
      "5 > 4"
     ],
     "language": "python",
     "metadata": {
      "cellView": null,
      "executionInfo": null
     },
     "outputs": [
      {
       "metadata": {},
       "output_type": "pyout",
       "prompt_number": 131,
       "text": [
        "True"
       ]
      }
     ],
     "prompt_number": 131
    },
    {
     "cell_type": "code",
     "collapsed": false,
     "input": [
      "5 >= 4"
     ],
     "language": "python",
     "metadata": {
      "cellView": null,
      "executionInfo": null
     },
     "outputs": [
      {
       "metadata": {},
       "output_type": "pyout",
       "prompt_number": 132,
       "text": [
        "True"
       ]
      }
     ],
     "prompt_number": 132
    },
    {
     "cell_type": "code",
     "collapsed": false,
     "input": [
      "4 >= 4"
     ],
     "language": "python",
     "metadata": {
      "cellView": null,
      "executionInfo": null
     },
     "outputs": [
      {
       "metadata": {},
       "output_type": "pyout",
       "prompt_number": 133,
       "text": [
        "True"
       ]
      }
     ],
     "prompt_number": 133
    },
    {
     "cell_type": "code",
     "collapsed": false,
     "input": [
      "4 <= 3"
     ],
     "language": "python",
     "metadata": {
      "cellView": null,
      "executionInfo": null
     },
     "outputs": [
      {
       "metadata": {},
       "output_type": "pyout",
       "prompt_number": 134,
       "text": [
        "False"
       ]
      }
     ],
     "prompt_number": 134
    },
    {
     "cell_type": "code",
     "collapsed": false,
     "input": [
      "5 == 4"
     ],
     "language": "python",
     "metadata": {
      "cellView": null,
      "executionInfo": null
     },
     "outputs": [
      {
       "metadata": {},
       "output_type": "pyout",
       "prompt_number": 135,
       "text": [
        "False"
       ]
      }
     ],
     "prompt_number": 135
    },
    {
     "cell_type": "code",
     "collapsed": false,
     "input": [
      "5 == 5.0"
     ],
     "language": "python",
     "metadata": {
      "cellView": null,
      "executionInfo": null
     },
     "outputs": [
      {
       "metadata": {},
       "output_type": "pyout",
       "prompt_number": 136,
       "text": [
        "True"
       ]
      }
     ],
     "prompt_number": 136
    },
    {
     "cell_type": "code",
     "collapsed": false,
     "input": [
      "5 != 4"
     ],
     "language": "python",
     "metadata": {
      "cellView": null,
      "executionInfo": null
     },
     "outputs": [
      {
       "metadata": {},
       "output_type": "pyout",
       "prompt_number": 137,
       "text": [
        "True"
       ]
      }
     ],
     "prompt_number": 137
    },
    {
     "cell_type": "code",
     "collapsed": false,
     "input": [
      "2 + 2 == 4"
     ],
     "language": "python",
     "metadata": {
      "cellView": null,
      "executionInfo": null
     },
     "outputs": [
      {
       "metadata": {},
       "output_type": "pyout",
       "prompt_number": 138,
       "text": [
        "True"
       ]
      }
     ],
     "prompt_number": 138
    },
    {
     "cell_type": "code",
     "collapsed": false,
     "input": [
      "2 >= 3"
     ],
     "language": "python",
     "metadata": {
      "cellView": null,
      "executionInfo": null
     },
     "outputs": [
      {
       "metadata": {},
       "output_type": "pyout",
       "prompt_number": 139,
       "text": [
        "False"
       ]
      }
     ],
     "prompt_number": 139
    },
    {
     "cell_type": "markdown",
     "metadata": {},
     "source": [
      "What do the following comparison operators do?\n",
      "\n",
      "1. \">\":\n",
      "\n",
      "2. \"<\":\n",
      "\n",
      "3. \">=\":\n",
      "\n",
      "4. \"<=\":\n",
      "\n",
      "5. \"!=\":"
     ]
    },
    {
     "cell_type": "markdown",
     "metadata": {},
     "source": [
      "### Playing with logicals"
     ]
    },
    {
     "cell_type": "markdown",
     "metadata": {},
     "source": [
      "See if the value read in by the first sensor is greater than or equal to .3\n",
      "\n",
      "Store the result in variable boo"
     ]
    },
    {
     "cell_type": "code",
     "collapsed": false,
     "input": [
      "reflectances = r.read_sensors()\n",
      "boo = (reflectances[1] >= .3)\n",
      "print reflectances[1]\n",
      "print boo"
     ],
     "language": "python",
     "metadata": {},
     "outputs": [
      {
       "output_type": "stream",
       "stream": "stdout",
       "text": [
        "0.0556776598096\n",
        "False\n"
       ]
      }
     ],
     "prompt_number": 154
    },
    {
     "cell_type": "markdown",
     "metadata": {},
     "source": [
      "### Now let's use sensors while driving the robot"
     ]
    },
    {
     "cell_type": "markdown",
     "metadata": {},
     "source": [
      "Try to do the following:\n",
      "\n",
      "* Set the robot to be perpendicular to some retro reflective tape a few inches away\n",
      "\n",
      "* Let the robot drive until the robot reaches the tape\n",
      "\n",
      "* Run the cell multiple times for varrying distance from the reflective tape.\n",
      "\n",
      "Think about your tests under different lighting conditions and logical operators."
     ]
    },
    {
     "cell_type": "code",
     "collapsed": false,
     "input": [
      "beforeline = True\n",
      "while beforeline:\n",
      "    reflectances = r.read_sensors()\n",
      "    boo = 0\n",
      "    r.drive(.2,.2)\n",
      "    for i in range (6):\n",
      "        if reflectances[i] < .5:\n",
      "            boo = boo + 1\n",
      "    if boo > 5:\n",
      "        r.drive(0,0)\n",
      "        beforeline = False\n",
      "    \n",
      "    "
     ],
     "language": "python",
     "metadata": {},
     "outputs": [],
     "prompt_number": 187
    },
    {
     "cell_type": "code",
     "collapsed": false,
     "input": [
      "r.drive(0,0)# Your code goes here!~"
     ],
     "language": "python",
     "metadata": {},
     "outputs": [],
     "prompt_number": 186
    },
    {
     "cell_type": "markdown",
     "metadata": {},
     "source": [
      "Now put the robot on reflective tape parallel to it and have it drive until it is off the reflective tape."
     ]
    },
    {
     "cell_type": "code",
     "collapsed": false,
     "input": [
      "online = True\n",
      "while online:\n",
      "    reflectances = r.read_sensors()\n",
      "    boo = 0\n",
      "    r.drive(.1,.1)\n",
      "    for i in range (6):\n",
      "        if reflectances[i] > .05:\n",
      "            boo = boo + 1\n",
      "    if boo > 3:\n",
      "        r.drive(0,0)\n",
      "        beforeline = False"
     ],
     "language": "python",
     "metadata": {},
     "outputs": [
      {
       "ename": "KeyboardInterrupt",
       "evalue": "",
       "output_type": "pyerr",
       "traceback": [
        "\u001b[1;31m---------------------------------------------------------------------------\u001b[0m\n\u001b[1;31mKeyboardInterrupt\u001b[0m                         Traceback (most recent call last)",
        "\u001b[1;32m<ipython-input-180-c42c82c2429f>\u001b[0m in \u001b[0;36m<module>\u001b[1;34m()\u001b[0m\n\u001b[0;32m      1\u001b[0m \u001b[0monline\u001b[0m \u001b[1;33m=\u001b[0m \u001b[0mTrue\u001b[0m\u001b[1;33m\u001b[0m\u001b[0m\n\u001b[0;32m      2\u001b[0m \u001b[1;32mwhile\u001b[0m \u001b[0monline\u001b[0m\u001b[1;33m:\u001b[0m\u001b[1;33m\u001b[0m\u001b[0m\n\u001b[1;32m----> 3\u001b[1;33m     \u001b[0mreflectances\u001b[0m \u001b[1;33m=\u001b[0m \u001b[0mr\u001b[0m\u001b[1;33m.\u001b[0m\u001b[0mread_sensors\u001b[0m\u001b[1;33m(\u001b[0m\u001b[1;33m)\u001b[0m\u001b[1;33m\u001b[0m\u001b[0m\n\u001b[0m\u001b[0;32m      4\u001b[0m     \u001b[0mboo\u001b[0m \u001b[1;33m=\u001b[0m \u001b[1;36m0\u001b[0m\u001b[1;33m\u001b[0m\u001b[0m\n\u001b[0;32m      5\u001b[0m     \u001b[0mr\u001b[0m\u001b[1;33m.\u001b[0m\u001b[0mdrive\u001b[0m\u001b[1;33m(\u001b[0m\u001b[1;36m.1\u001b[0m\u001b[1;33m,\u001b[0m\u001b[1;36m.1\u001b[0m\u001b[1;33m)\u001b[0m\u001b[1;33m\u001b[0m\u001b[0m\n",
        "\u001b[1;32m/home/ajc/topgear/odroid/topgear/lbot.pyc\u001b[0m in \u001b[0;36mread_sensors\u001b[1;34m(self)\u001b[0m\n\u001b[0;32m     21\u001b[0m         \u001b[0mlc\u001b[0m\u001b[1;33m.\u001b[0m\u001b[0msubscribe\u001b[0m\u001b[1;33m(\u001b[0m\u001b[1;34m'robot0/state'\u001b[0m\u001b[1;33m,\u001b[0m \u001b[0mcallback\u001b[0m\u001b[1;33m)\u001b[0m\u001b[1;33m\u001b[0m\u001b[0m\n\u001b[0;32m     22\u001b[0m         \u001b[1;32mwhile\u001b[0m \u001b[0mc\u001b[0m\u001b[1;33m.\u001b[0m\u001b[0mvalues\u001b[0m \u001b[1;32mis\u001b[0m \u001b[0mNone\u001b[0m\u001b[1;33m:\u001b[0m\u001b[1;33m\u001b[0m\u001b[0m\n\u001b[1;32m---> 23\u001b[1;33m             \u001b[0mlc\u001b[0m\u001b[1;33m.\u001b[0m\u001b[0mhandle\u001b[0m\u001b[1;33m(\u001b[0m\u001b[1;33m)\u001b[0m\u001b[1;33m\u001b[0m\u001b[0m\n\u001b[0m\u001b[0;32m     24\u001b[0m         \u001b[1;32mreturn\u001b[0m \u001b[0mc\u001b[0m\u001b[1;33m.\u001b[0m\u001b[0mvalues\u001b[0m\u001b[1;33m\u001b[0m\u001b[0m\n",
        "\u001b[1;31mKeyboardInterrupt\u001b[0m: "
       ]
      }
     ],
     "prompt_number": 180
    },
    {
     "cell_type": "markdown",
     "metadata": {},
     "source": [
      "Congratulations, you are on your way to follow a line!"
     ]
    },
    {
     "cell_type": "markdown",
     "metadata": {},
     "source": [
      "### Conditionals"
     ]
    },
    {
     "cell_type": "markdown",
     "metadata": {},
     "source": [
      "The final step to make to follow lines is learning about conditionals"
     ]
    },
    {
     "cell_type": "code",
     "collapsed": false,
     "input": [
      "temp = 0\n",
      "\n",
      "if temp > 8:\n",
      "    print \"hello\"\n",
      "else:\n",
      "    if temp > 4:\n",
      "        print \"bye\"\n",
      "    else:\n",
      "        print \"Your number is too small\"\n",
      "    "
     ],
     "language": "python",
     "metadata": {},
     "outputs": [
      {
       "output_type": "stream",
       "stream": "stdout",
       "text": [
        "Your number is too small\n"
       ]
      }
     ],
     "prompt_number": 59
    },
    {
     "cell_type": "code",
     "collapsed": false,
     "input": [],
     "language": "python",
     "metadata": {},
     "outputs": []
    }
   ],
   "metadata": {}
  }
 ]
}