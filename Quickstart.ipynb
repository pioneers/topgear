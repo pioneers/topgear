{
 "metadata": {
  "name": "",
  "signature": "sha256:e232922fb479379a65b380eca511518aa8f3da88554cd67a9f7a07420c23994c"
 },
 "nbformat": 3,
 "nbformat_minor": 0,
 "worksheets": [
  {
   "cells": [
    {
     "cell_type": "markdown",
     "metadata": {},
     "source": [
      "<img src=\"http://mirageforum.com/forum/attachment.php?attachmentid=159&d=1370617142\">"
     ]
    },
    {
     "cell_type": "markdown",
     "metadata": {},
     "source": [
      "back to [Index](index.ipynb)"
     ]
    },
    {
     "cell_type": "heading",
     "level": 1,
     "metadata": {},
     "source": [
      "Quickstart"
     ]
    },
    {
     "cell_type": "markdown",
     "metadata": {},
     "source": [
      "inspired by: \n",
      "\n",
      "http://nbviewer.ipython.org/github/mbakker7/exploratory_computing_with_python/blob/master/notebook1/py_exploratory_comp_1_sol.ipynb"
     ]
    },
    {
     "cell_type": "markdown",
     "metadata": {},
     "source": [
      "Let's learn about what IPython notebook is!\n",
      "\n",
      "Each rectangular block is called a cell."
     ]
    },
    {
     "cell_type": "markdown",
     "metadata": {},
     "source": [
      "<div class=\"alert alert-success\">\n",
      "Click on the cell below, and press `SHIFT` + `ENTER` to run\n",
      "</div>"
     ]
    },
    {
     "cell_type": "code",
     "collapsed": false,
     "input": [
      "print \"Hello, Topgear-User!\""
     ],
     "language": "python",
     "metadata": {},
     "outputs": [
      {
       "output_type": "stream",
       "stream": "stdout",
       "text": [
        "Hello, Topgear-User!\n"
       ]
      }
     ],
     "prompt_number": 3
    },
    {
     "cell_type": "markdown",
     "metadata": {},
     "source": [
      "Congratulations. You have run your first python program!\n",
      "Lets do something more interesting.\n",
      "\n",
      "The function you just learned was print and its purpose is to print out what you put in the quotes.\n",
      "\n",
      "Try to print out the phrase \"TopGear is great!\" in the following cell and don't forget to run it:"
     ]
    },
    {
     "cell_type": "markdown",
     "metadata": {},
     "source": [
      "If you look at the top portion of the window you are on, there is a bar with many useful ac tions represented as buttons. Hover your mouse pointer over these buttons to see what they do!\n",
      "\n",
      "One very useful button to know just in case your program goes out of control is the stop sign. This will completely halt everything that is happening.\n",
      "\n",
      "For those who like keyboard shortcuts hit ctrl + m then h."
     ]
    },
    {
     "cell_type": "markdown",
     "metadata": {},
     "source": [
      "Now let's get deeper into Python! (Style this line for kids)"
     ]
    },
    {
     "cell_type": "code",
     "collapsed": false,
     "input": [
      "test."
     ],
     "language": "python",
     "metadata": {},
     "outputs": []
    },
    {
     "cell_type": "code",
     "collapsed": false,
     "input": [],
     "language": "python",
     "metadata": {},
     "outputs": []
    },
    {
     "cell_type": "code",
     "collapsed": false,
     "input": [
      " def Hello(x):\n",
      "    print \"hello \" + x\n",
      "    "
     ],
     "language": "python",
     "metadata": {},
     "outputs": [],
     "prompt_number": 5
    },
    {
     "cell_type": "code",
     "collapsed": false,
     "input": [
      "Hello(\"name\")"
     ],
     "language": "python",
     "metadata": {},
     "outputs": [
      {
       "output_type": "stream",
       "stream": "stdout",
       "text": [
        "hello name\n"
       ]
      }
     ],
     "prompt_number": 6
    },
    {
     "cell_type": "markdown",
     "metadata": {},
     "source": [
      "The line that starts with def defines the beginning of a function. Think of functions as machines that only do one thing.\n",
      "\n",
      "The name of the function is characterized by what is written after def which is Hello in this case.\n",
      "\n",
      "the x is called a variable. Variables are a way of saving information such as numbers and words.\n",
      "\n"
     ]
    }
   ],
   "metadata": {}
  }
 ]
}