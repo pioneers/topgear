{
 "metadata": {
  "name": "",
  "signature": "sha256:ec4530474b7e0f75a6bb2bc0607eaf9efc1bafe6dccf37274f12bbc247d0647b"
 },
 "nbformat": 3,
 "nbformat_minor": 0,
 "worksheets": [
  {
   "cells": [
    {
     "cell_type": "markdown",
     "metadata": {},
     "source": [
      "<img src=\"http://mirageforum.com/forum/attachment.php?attachmentid=159&d=1370617142\">"
     ]
    },
    {
     "cell_type": "markdown",
     "metadata": {},
     "source": [
      "back to [Index](index.ipynb)"
     ]
    },
    {
     "cell_type": "heading",
     "level": 1,
     "metadata": {},
     "source": [
      "topgear-thoughts"
     ]
    },
    {
     "cell_type": "heading",
     "level": 4,
     "metadata": {},
     "source": [
      "2014-07-20"
     ]
    },
    {
     "cell_type": "markdown",
     "metadata": {},
     "source": [
      "At a distance"
     ]
    },
    {
     "cell_type": "markdown",
     "metadata": {},
     "source": [
      "* programming robots with a graphical repl"
     ]
    },
    {
     "cell_type": "markdown",
     "metadata": {},
     "source": [
      "Technical innovations"
     ]
    },
    {
     "cell_type": "markdown",
     "metadata": {},
     "source": [
      "* repl programming model\n",
      "* self-hosted web-based programming environment"
     ]
    },
    {
     "cell_type": "markdown",
     "metadata": {},
     "source": [
      "Problems"
     ]
    },
    {
     "cell_type": "markdown",
     "metadata": {},
     "source": [
      "* repl programming model\n",
      "    * interruptable, re-enterable code\n",
      "    * parallel code/concurrency\n",
      "    * real time??\n",
      "* self-hosted web-based programming environment\n",
      "    * gamepad api --> python latency"
     ]
    },
    {
     "cell_type": "markdown",
     "metadata": {},
     "source": [
      "Continue?"
     ]
    },
    {
     "cell_type": "markdown",
     "metadata": {},
     "source": [
      "* the system latency really hurts\n",
      "    * can use a piemos-equivalent that sends networked joystick commands to robot"
     ]
    }
   ],
   "metadata": {}
  }
 ]
}