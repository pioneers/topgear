{
 "metadata": {
  "name": "",
  "signature": "sha256:3588c997e42360913dc402f1ea9bcf734ced9c5f3efe2a2ed8b6be5acf693f49"
 },
 "nbformat": 3,
 "nbformat_minor": 0,
 "worksheets": [
  {
   "cells": [
    {
     "cell_type": "markdown",
     "metadata": {},
     "source": [
      "<img src=\"http://mirageforum.com/forum/attachment.php?attachmentid=159&d=1370617142\">"
     ]
    },
    {
     "cell_type": "heading",
     "level": 1,
     "metadata": {},
     "source": [
      "What is a TopGear?"
     ]
    },
    {
     "cell_type": "markdown",
     "metadata": {},
     "source": [
      "TopGear is the Next Generation robotics control system. TopGear provides powerful programming tools and documentation, anywhere.\n",
      "\n",
      "This page is a complete starting point for using TopGear."
     ]
    },
    {
     "cell_type": "heading",
     "level": 3,
     "metadata": {},
     "source": [
      "Topics"
     ]
    },
    {
     "cell_type": "markdown",
     "metadata": {},
     "source": [
      "* [Quickstart](quickstart-robot.ipynb) (Start here!)\n",
      "* Programming Tutorials\n",
      "    * [CS1001's recitation1.py](cs1001/recitation1.ipynb) (via https://github.com/yoavram/CS1001.py)\n",
      "    * [Notebook Basics](ipython-in-depth/examples/Notebook/Notebook Basics.ipynb) (part of [IPython: a PyCon 2014 tutorial](ipython-in-depth/Index - Basic.ipynb))\n",
      "    * [Beyond Plain Python](ipython-in-depth/examples/IPython Kernel/Beyond Plain Python.ipynb) (part of [IPython: a PyCon 2014 tutorial](ipython-in-depth/Index - Basic.ipynb))\n",
      "* Robot Simulator Tutorials\n",
      "    * [battlecruiser_demo](battlecruiser_demo.ipynb)\n",
      "* Real Robot Tutorials (run on your robot!)\n",
      "    * [StudentCode](StudentCode.ipynb)\n",
      "* Advanced IPython\n",
      "    * [IPython Display System and Interactive Widgets](ipython-in-depth/Index - Interactive Widgets.ipynb)"
     ]
    },
    {
     "cell_type": "heading",
     "level": 3,
     "metadata": {},
     "source": [
      "Internal Topics"
     ]
    },
    {
     "cell_type": "markdown",
     "metadata": {},
     "source": [
      "* [Demos](demos.ipynb)\n",
      "* [Dailies](dailies.ipynb)\n",
      "* [How To Test](testing.ipynb)"
     ]
    }
   ],
   "metadata": {}
  }
 ]
}