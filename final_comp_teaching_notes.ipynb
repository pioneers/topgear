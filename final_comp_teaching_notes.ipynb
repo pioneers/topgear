{
 "metadata": {
  "name": "",
  "signature": "sha256:9df3bc842dca06fc957c38ad576221f58be613aa8f7810fd326c93b2031d4a3e"
 },
 "nbformat": 3,
 "nbformat_minor": 0,
 "worksheets": [
  {
   "cells": [
    {
     "cell_type": "markdown",
     "metadata": {},
     "source": [
      "<img src=\"http://mirageforum.com/forum/attachment.php?attachmentid=159&d=1370617142\">"
     ]
    },
    {
     "cell_type": "markdown",
     "metadata": {},
     "source": [
      "back to [Index](index.ipynb)"
     ]
    },
    {
     "cell_type": "heading",
     "level": 1,
     "metadata": {},
     "source": [
      "final_comp_teaching_notes"
     ]
    },
    {
     "cell_type": "markdown",
     "metadata": {},
     "source": [
      "* the process for using topgear:\n",
      "    * learn interface\n",
      "        * how to select a cell\n",
      "        * how to run a cell\n",
      "        * how to get help\n",
      "            * how to add a cell?\n",
      "            * how to delete a cell?\n",
      "        * how to break a loop\n",
      "            * stopsign? keybinding?\n",
      "        \n",
      "    * basic robot operation?\n",
      "        * driving in a square (basic version)\n",
      "            * how to drive straight\n",
      "            * how to turn\n",
      "            * drive(left, right)\n",
      "                * what is this . thing, what is a function, what is robot\n",
      "            * run each operation in a separate cell, manually timed\n",
      "        * second version: add 'sleep'\n",
      "            * run all operations in 1 cell\n",
      "            * sleep(seconds)\n",
      "        * third version: loops?\n",
      "            * loops\n",
      "                * for loop\n",
      "                * while loop\n",
      "        * fourth sensors. stop when hitting a line\n",
      "            * variables?\n",
      "            * print?\n",
      "            * comparisons/operators\n",
      "            * then spin, bounce around inside\n",
      "        * fifth"
     ]
    },
    {
     "cell_type": "code",
     "collapsed": false,
     "input": [],
     "language": "python",
     "metadata": {},
     "outputs": []
    }
   ],
   "metadata": {}
  }
 ]
}