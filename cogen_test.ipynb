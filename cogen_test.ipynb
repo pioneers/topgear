{
 "metadata": {
  "name": "",
  "signature": "sha256:6a382da9bb8d003954cd0042ed65ad1990ffc6a37e3f4c432546fd256aa2f49f"
 },
 "nbformat": 3,
 "nbformat_minor": 0,
 "worksheets": [
  {
   "cells": [
    {
     "cell_type": "markdown",
     "metadata": {},
     "source": [
      "<img src=\"http://mirageforum.com/forum/attachment.php?attachmentid=159&d=1370617142\">"
     ]
    },
    {
     "cell_type": "markdown",
     "metadata": {},
     "source": [
      "back to [Index](index.ipynb)"
     ]
    },
    {
     "cell_type": "heading",
     "level": 1,
     "metadata": {},
     "source": [
      "cogen_test"
     ]
    },
    {
     "cell_type": "markdown",
     "metadata": {},
     "source": [
      "2014-07-19"
     ]
    },
    {
     "cell_type": "markdown",
     "metadata": {},
     "source": [
      "testing cogen\n",
      "\n",
      "* https://pypi.python.org/pypi/cogen/0.2.1\n",
      "* http://cogen.googlecode.com/svn/trunk/docs/build/index.html"
     ]
    },
    {
     "cell_type": "code",
     "collapsed": false,
     "input": [
      "from cogen.core.coroutines import coro\n",
      "from cogen.core.schedulers import Scheduler"
     ],
     "language": "python",
     "metadata": {},
     "outputs": [],
     "prompt_number": 2
    },
    {
     "cell_type": "code",
     "collapsed": false,
     "input": [
      "@coro\n",
      "def a(foo, times):\n",
      "    for i in range(times):\n",
      "        print foo, ':', i\n",
      "        yield"
     ],
     "language": "python",
     "metadata": {},
     "outputs": [],
     "prompt_number": 4
    },
    {
     "cell_type": "code",
     "collapsed": false,
     "input": [
      "sched=Scheduler()"
     ],
     "language": "python",
     "metadata": {},
     "outputs": [],
     "prompt_number": 5
    },
    {
     "cell_type": "code",
     "collapsed": false,
     "input": [
      "sched.add(a, args=('foo', 5))"
     ],
     "language": "python",
     "metadata": {},
     "outputs": [
      {
       "metadata": {},
       "output_type": "pyout",
       "prompt_number": 6,
       "text": [
        "<a Coroutine instance at 0x01671AD8 wrapping <function a at 0x134c4f0>, state: NOTSTARTED>"
       ]
      }
     ],
     "prompt_number": 6
    },
    {
     "cell_type": "code",
     "collapsed": false,
     "input": [
      "sched.add(a, args=('bar', 10))"
     ],
     "language": "python",
     "metadata": {},
     "outputs": [
      {
       "metadata": {},
       "output_type": "pyout",
       "prompt_number": 8,
       "text": [
        "<a Coroutine instance at 0x0139EFA8 wrapping <function a at 0x134c4f0>, state: NOTSTARTED>"
       ]
      }
     ],
     "prompt_number": 8
    },
    {
     "cell_type": "code",
     "collapsed": false,
     "input": [
      "sched.run()"
     ],
     "language": "python",
     "metadata": {},
     "outputs": [
      {
       "output_type": "stream",
       "stream": "stdout",
       "text": [
        "foo : 0\n",
        "bar : 0\n",
        "foo : 1\n",
        "bar : 1\n",
        "foo : 2\n",
        "bar : 2\n",
        "foo : 3\n",
        "bar : 3\n",
        "foo : 4\n",
        "bar : 4\n",
        "bar : 5\n",
        "bar : 6\n",
        "bar : 7\n",
        "bar : 8\n",
        "bar : 9\n"
       ]
      }
     ],
     "prompt_number": 9
    },
    {
     "cell_type": "code",
     "collapsed": false,
     "input": [
      "import time\n",
      "import numpy as np\n",
      "times=np.zeros(shape=[100], dtype=np.float32)"
     ],
     "language": "python",
     "metadata": {},
     "outputs": []
    },
    {
     "cell_type": "code",
     "collapsed": false,
     "input": [
      "@coro\n",
      "def time_test(times):\n",
      "    last_time=time.time()\n",
      "    print times\n",
      "    for i in range(100):\n",
      "        now=time.time()\n",
      "        times[0][i]=now-last_time\n",
      "#         print i, times[i]\n",
      "        last_time=now\n",
      "        time.sleep(.01)\n",
      "        yield"
     ],
     "language": "python",
     "metadata": {},
     "outputs": [],
     "prompt_number": 49
    },
    {
     "cell_type": "code",
     "collapsed": false,
     "input": [
      "times1=np.zeros(shape=[100], dtype=np.float32)\n",
      "times2=np.zeros(shape=[100], dtype=np.float32)"
     ],
     "language": "python",
     "metadata": {},
     "outputs": [],
     "prompt_number": 63
    },
    {
     "cell_type": "code",
     "collapsed": false,
     "input": [
      "sched.add?"
     ],
     "language": "python",
     "metadata": {},
     "outputs": [],
     "prompt_number": 52
    },
    {
     "cell_type": "code",
     "collapsed": false,
     "input": [
      "sched.add(time_test, args=times1)"
     ],
     "language": "python",
     "metadata": {},
     "outputs": [
      {
       "metadata": {},
       "output_type": "pyout",
       "prompt_number": 34,
       "text": [
        "<time_test Coroutine instance at 0x013A3FA8 wrapping <function time_test at 0x134c5b0>, state: NOTSTARTED>"
       ]
      }
     ],
     "prompt_number": 34
    },
    {
     "cell_type": "code",
     "collapsed": false,
     "input": [
      "sched.add(time_test, args=(times2))"
     ],
     "language": "python",
     "metadata": {},
     "outputs": [
      {
       "metadata": {},
       "output_type": "pyout",
       "prompt_number": 64,
       "text": [
        "<time_test Coroutine instance at 0x01387E48 wrapping <function time_test at 0x13a29b0>, state: NOTSTARTED>"
       ]
      }
     ],
     "prompt_number": 64
    },
    {
     "cell_type": "code",
     "collapsed": false,
     "input": [
      "sched.run()"
     ],
     "language": "python",
     "metadata": {},
     "outputs": [
      {
       "output_type": "stream",
       "stream": "stderr",
       "text": [
        "----------------------------------------\n",
        "Exception happened during processing of coroutine.\n",
        "Traceback (most recent call last):\n",
        "  File \"/usr/local/lib/python2.7/dist-packages/cogen/core/coroutines.py\", line 218, in run_op\n",
        "    self.coro = self.coro(*self.f_args, **self.f_kws)\n",
        "TypeError: time_test() takes exactly 1 argument (100 given)\n",
        "Coroutine <time_test Coroutine instance at 0x01387E48 wrapping <function time_test at 0x13a29b0>, state: FAILED> killed. \n",
        "----------------------------------------\n"
       ]
      }
     ],
     "prompt_number": 65
    },
    {
     "cell_type": "code",
     "collapsed": false,
     "input": [
      "%matplotlib inline"
     ],
     "language": "python",
     "metadata": {},
     "outputs": [],
     "prompt_number": 13
    },
    {
     "cell_type": "code",
     "collapsed": false,
     "input": [
      "import matplotlib.pyplot as plt"
     ],
     "language": "python",
     "metadata": {},
     "outputs": [],
     "prompt_number": 14
    },
    {
     "cell_type": "code",
     "collapsed": false,
     "input": [
      "plt.plot(times2)\n",
      "plt.xlabel"
     ],
     "language": "python",
     "metadata": {},
     "outputs": [
      {
       "metadata": {},
       "output_type": "pyout",
       "prompt_number": 28,
       "text": [
        "<function matplotlib.pyplot.xlabel>"
       ]
      },
      {
       "metadata": {},
       "output_type": "display_data",
       "png": "[encoded data removed]",
       "text": [
        "<matplotlib.figure.Figure at 0x1427170>"
       ]
      }
     ],
     "prompt_number": 28
    },
    {
     "cell_type": "code",
     "collapsed": false,
     "input": [],
     "language": "python",
     "metadata": {},
     "outputs": []
    }
   ],
   "metadata": {}
  }
 ]
}