{
 "metadata": {
  "name": "",
  "signature": "sha256:9960c86d79cec218abef84e916a5e727efaacadf81c4943fb7249106b3e9ad05"
 },
 "nbformat": 3,
 "nbformat_minor": 0,
 "worksheets": [
  {
   "cells": [
    {
     "cell_type": "markdown",
     "metadata": {},
     "source": [
      "<img src=\"http://mirageforum.com/forum/attachment.php?attachmentid=159&d=1370617142\">"
     ]
    },
    {
     "cell_type": "markdown",
     "metadata": {},
     "source": [
      "back to [Index](index.ipynb)"
     ]
    },
    {
     "cell_type": "heading",
     "level": 1,
     "metadata": {},
     "source": [
      "Robot"
     ]
    },
    {
     "cell_type": "markdown",
     "metadata": {},
     "source": [
      "This class defines a python class for driving the zumocrawler."
     ]
    },
    {
     "cell_type": "code",
     "collapsed": false,
     "input": [
      "from python.mbedrpc import *\n",
      "import threading\n",
      "\n",
      "class Motor:\n",
      "    def __init__(self, a1, a2):\n",
      "        self.a1=a1\n",
      "        self.a2=a2\n",
      "    def cmd(self, speed):\n",
      "        if speed >=0:\n",
      "            self.a1.write(speed)\n",
      "            self.a2.write(0)\n",
      "        else:\n",
      "            self.a1.write(0)\n",
      "            self.a2.write(-speed)\n",
      "class Robot:\n",
      "    def __init__(self, dev='/dev/ttyACM0'):\n",
      "        self.mbed=SerialRPC(dev, 115200)\n",
      "        a1=PwmOut(self.mbed, p21)\n",
      "        a2=PwmOut(self.mbed, p22)\n",
      "        b1=PwmOut(self.mbed, p23)\n",
      "        b2=PwmOut(self.mbed, p24)\n",
      "        self.m_right = Motor(a1, a2)\n",
      "        self.m_left = Motor(b1, b2)\n",
      "        self.enabled=True\n",
      "        self.last_left=0\n",
      "        self.last_right=0\n",
      "        self.sensors=[]\n",
      "        for i in (p20,p19,p18,p17,p16,p15):\n",
      "            self.sensors.append(AnalogIn(self.mbed, i))\n",
      "        self.rlock=threading.Lock()\n",
      "    def enable(self):\n",
      "#         self.rlock.acquire()\n",
      "        self.enabled=True\n",
      "        self._cmd(self.last_left, self.last_right)\n",
      "#         self.rlock.release()\n",
      "    def disable(self):\n",
      "#         self.rlock.acquire()\n",
      "        self.enabled=False\n",
      "        self._cmd(self.last_left, self.last_right)\n",
      "#         self.rlock.release()\n",
      "    def drive(self, left, right):\n",
      "#         self.rlock.acquire()\n",
      "        self._cmd(left, right)\n",
      "#         self.rlock.release()\n",
      "    def cmd(self, left, right):\n",
      "#         self.rlock.acquire()\n",
      "        self._cmd(left, right)\n",
      "#         self.rlock.release()\n",
      "    def _cmd(self, left, right):\n",
      "        self.last_left=left\n",
      "        self.last_right=right\n",
      "        if self.enabled:\n",
      "            self.m_left.cmd(-left)\n",
      "            self.m_right.cmd(right)\n",
      "        else:\n",
      "            self.m_left.cmd(0)\n",
      "            self.m_right.cmd(0)\n",
      "    def read_sensors(self):\n",
      "        \"\"\" returns an array of the line sensor reflectance values\n",
      "        \"\"\"\n",
      "        def read(sensor): return sensor.read()\n",
      "        return map(read, self.sensors)"
     ],
     "language": "python",
     "metadata": {},
     "outputs": [],
     "prompt_number": 1
    },
    {
     "cell_type": "code",
     "collapsed": false,
     "input": [
      "#NBINCLUDE_STOP"
     ],
     "language": "python",
     "metadata": {},
     "outputs": [],
     "prompt_number": 31
    },
    {
     "cell_type": "heading",
     "level": 3,
     "metadata": {},
     "source": [
      "Example Usage"
     ]
    },
    {
     "cell_type": "code",
     "collapsed": false,
     "input": [
      "r = Robot()"
     ],
     "language": "python",
     "metadata": {},
     "outputs": [],
     "prompt_number": 2
    },
    {
     "cell_type": "code",
     "collapsed": false,
     "input": [
      "r.cmd(1,0)"
     ],
     "language": "python",
     "metadata": {},
     "outputs": [],
     "prompt_number": 3
    },
    {
     "cell_type": "code",
     "collapsed": false,
     "input": [
      "r.cmd(0,1)"
     ],
     "language": "python",
     "metadata": {},
     "outputs": [],
     "prompt_number": 4
    },
    {
     "cell_type": "code",
     "collapsed": false,
     "input": [
      "r.cmd(0,0)"
     ],
     "language": "python",
     "metadata": {},
     "outputs": [],
     "prompt_number": 5
    },
    {
     "cell_type": "code",
     "collapsed": false,
     "input": [
      "help(r.read_sensors)"
     ],
     "language": "python",
     "metadata": {},
     "outputs": [
      {
       "output_type": "stream",
       "stream": "stdout",
       "text": [
        "Help on method read_sensors in module __main__:\n",
        "\n",
        "read_sensors(self) method of __main__.Robot instance\n",
        "    returns an array of the line sensor reflectance values\n",
        "\n"
       ]
      }
     ],
     "prompt_number": 8
    },
    {
     "cell_type": "code",
     "collapsed": false,
     "input": [
      "r.read_sensors()"
     ],
     "language": "python",
     "metadata": {},
     "outputs": [
      {
       "metadata": {},
       "output_type": "pyout",
       "prompt_number": 21,
       "text": [
        "[0.8327229022979736,\n",
        " 0.6478632688522339,\n",
        " 0.5623931884765625,\n",
        " 0.642246663570404,\n",
        " 0.6019536256790161,\n",
        " 0.684737503528595]"
       ]
      }
     ],
     "prompt_number": 21
    },
    {
     "cell_type": "code",
     "collapsed": false,
     "input": [
      "for sensor in r.sensors:\n",
      "    print sensor.read()"
     ],
     "language": "python",
     "metadata": {},
     "outputs": [
      {
       "output_type": "stream",
       "stream": "stdout",
       "text": [
        "0.612942636013\n",
        "0.25567767024\n",
        "0.13821734488\n",
        "0.287667900324\n",
        "0.127960935235\n",
        "0.050549454987\n"
       ]
      }
     ],
     "prompt_number": 41
    },
    {
     "cell_type": "code",
     "collapsed": false,
     "input": [],
     "language": "python",
     "metadata": {},
     "outputs": [],
     "prompt_number": 41
    },
    {
     "cell_type": "markdown",
     "metadata": {},
     "source": [
      "r.enable()"
     ]
    },
    {
     "cell_type": "code",
     "collapsed": false,
     "input": [
      "r.disable()"
     ],
     "language": "python",
     "metadata": {},
     "outputs": [],
     "prompt_number": 8
    },
    {
     "cell_type": "code",
     "collapsed": false,
     "input": [
      "%%file zrobot.py\n",
      "from python.mbedrpc import *\n",
      "import threading\n",
      "\n",
      "class Motor:\n",
      "    def __init__(self, a1, a2):\n",
      "        self.a1=a1\n",
      "        self.a2=a2\n",
      "    def cmd(self, speed):\n",
      "        if speed >=0:\n",
      "            self.a1.write(speed)\n",
      "            self.a2.write(0)\n",
      "        else:\n",
      "            self.a1.write(0)\n",
      "            self.a2.write(-speed)\n",
      "class Robot:\n",
      "    def __init__(self, dev='/dev/ttyACM0'):\n",
      "        self.mbed=SerialRPC(dev, 115200)\n",
      "        a1=PwmOut(self.mbed, p21)\n",
      "        a2=PwmOut(self.mbed, p22)\n",
      "        b1=PwmOut(self.mbed, p23)\n",
      "        b2=PwmOut(self.mbed, p24)\n",
      "        self.m_right = Motor(a1, a2)\n",
      "        self.m_left = Motor(b1, b2)\n",
      "        self.enabled=True\n",
      "        self.last_left=0\n",
      "        self.last_right=0\n",
      "        self.sensors=[]\n",
      "        for i in (p20,p19,p18,p17,p16,p15):\n",
      "            self.sensors.append(AnalogIn(self.mbed, i))\n",
      "        self.rlock=threading.Lock()\n",
      "    def enable(self):\n",
      "#         self.rlock.acquire()\n",
      "        self.enabled=True\n",
      "        self._cmd(self.last_left, self.last_right)\n",
      "#         self.rlock.release()\n",
      "    def disable(self):\n",
      "#         self.rlock.acquire()\n",
      "        self.enabled=False\n",
      "        self._cmd(self.last_left, self.last_right)\n",
      "#         self.rlock.release()\n",
      "    def drive(self, left, right):\n",
      "#         self.rlock.acquire()\n",
      "        self._cmd(left, right)\n",
      "#         self.rlock.release()\n",
      "    def cmd(self, left, right):\n",
      "#         self.rlock.acquire()\n",
      "        self._cmd(left, right)\n",
      "#         self.rlock.release()\n",
      "    def _cmd(self, left, right):\n",
      "        self.last_left=left\n",
      "        self.last_right=right\n",
      "        if self.enabled:\n",
      "            self.m_left.cmd(-left)\n",
      "            self.m_right.cmd(right)\n",
      "        else:\n",
      "            self.m_left.cmd(0)\n",
      "            self.m_right.cmd(0)\n",
      "    def read_sensors(self):\n",
      "        def read(sensor): return sensor.read()\n",
      "        return map(read, self.sensors)"
     ],
     "language": "python",
     "metadata": {},
     "outputs": [
      {
       "output_type": "stream",
       "stream": "stdout",
       "text": [
        "Overwriting zrobot.py\n"
       ]
      }
     ],
     "prompt_number": 1
    },
    {
     "cell_type": "code",
     "collapsed": false,
     "input": [],
     "language": "python",
     "metadata": {},
     "outputs": []
    }
   ],
   "metadata": {}
  }
 ]
}