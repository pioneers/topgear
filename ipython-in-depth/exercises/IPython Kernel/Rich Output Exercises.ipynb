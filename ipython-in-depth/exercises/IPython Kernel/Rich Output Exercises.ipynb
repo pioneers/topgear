{
 "metadata": {
  "name": "",
  "signature": "sha256:15b1a7ec02d246129d0295e3f22ad4ff5b0381a4c767184aa6d4a04c61389247"
 },
 "nbformat": 3,
 "nbformat_minor": 0,
 "worksheets": [
  {
   "cells": [
    {
     "cell_type": "heading",
     "level": 2,
     "metadata": {},
     "source": [
      "Basic display objects"
     ]
    },
    {
     "cell_type": "code",
     "collapsed": false,
     "input": [
      "from IPython.display import display, Image, HTML, Javascript"
     ],
     "language": "python",
     "metadata": {},
     "outputs": [],
     "prompt_number": 1
    },
    {
     "cell_type": "markdown",
     "metadata": {},
     "source": [
      "Try using the basic display classes in a notebook:\n",
      "\n",
      "* Find an image on the internet and display it in a notebook using the `Image` class. You can either save the image in the notebook's directory or load it by its URL.\n",
      "* Use the `HTML` class and the `%%html` cell magic to display a snippet of HTML.\n",
      "* Use the `JavaScript` class and the `%%javascript` cell magic to run a snippet of JavaScript.\n",
      "* Try displaying these objects by both returning them from an expression and by passing them to `display`."
     ]
    },
    {
     "cell_type": "heading",
     "level": 2,
     "metadata": {},
     "source": [
      "SoundCloud"
     ]
    },
    {
     "cell_type": "markdown",
     "metadata": {},
     "source": [
      "Go to [SoundCloud](http://soundcloud.com) and search for a sound clip you want to embed in your notebook.  To find the HTML code to embed the sound, click on the \"Share\" link and copy the \"Embed\" URL. Paste it into a cell using the `%%html` magic."
     ]
    },
    {
     "cell_type": "code",
     "collapsed": false,
     "input": [
      "%load soln/soundcloud.ipy"
     ],
     "language": "python",
     "metadata": {},
     "outputs": [],
     "prompt_number": 2
    },
    {
     "cell_type": "heading",
     "level": 2,
     "metadata": {},
     "source": [
      "Rich output on nbviewer"
     ]
    },
    {
     "cell_type": "markdown",
     "metadata": {},
     "source": [
      "Rich output is also supported on http://nbviewer.ipython.org. To test this create a new notebook that has different types of rich output:\n",
      "\n",
      "* HTML\n",
      "* JPEG/PNG (use matplotlib)\n",
      "* JavaScript\n",
      "* LaTeX\n",
      "\n",
      "After creating this notebook, upload it to http://gist.github.com and then view the notebook on http://nbviewer.ipython.org."
     ]
    }
   ],
   "metadata": {}
  }
 ]
}