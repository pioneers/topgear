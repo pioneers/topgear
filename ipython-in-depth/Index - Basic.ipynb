{
 "metadata": {
  "name": "",
  "signature": "sha256:82a1d3c37f38a11d3520041c8269f81049d53d58d8e0f09d7828238745798093"
 },
 "nbformat": 3,
 "nbformat_minor": 0,
 "worksheets": [
  {
   "cells": [
    {
     "cell_type": "heading",
     "level": 1,
     "metadata": {},
     "source": [
      "IPython: a PyCon 2014 tutorial"
     ]
    },
    {
     "cell_type": "markdown",
     "metadata": {},
     "source": [
      "Class outline:\n",
      "\n",
      "* A quick [installation check](http://ipython.org/install.html)\n",
      "* An overview of the IPython project from [the official website](http://ipython.org).\n",
      "* Super basic intro to the notebook: typing code.\n",
      "* [Notebook Basics](examples/Notebook/Notebook Basics.ipynb)\n",
      "* [IPython - beyond plain python](examples/IPython Kernel/Beyond Plain Python.ipynb)\n",
      "* [Markdown Cells](examples/Notebook/Working With Markdown Cells.ipynb)\n",
      "* [Rich Display System](examples/IPython Kernel/Rich Output.ipynb)\n",
      "* [Introduction to Interactive Javascript Widgets](examples/Interactive Widgets/Using Interact.ipynb)\n",
      "* [Customizing IPython - a condensed version](exercises/Customization/Condensed.ipynb)\n",
      "* [Running a Secure Public Notebook Server](examples/Notebook/Running%20the%20Notebook%20Server.ipynb#Securing-the-notebook-server)"
     ]
    },
    {
     "cell_type": "markdown",
     "metadata": {},
     "source": [
      "There are a lot more detailed notebooks in this same directory that cover other topics, but we can not cover all in a 3-hour tutorial. We encourage you to explore them and practice on your own.\n",
      "\n",
      "For even more detail, you can visit our [example collection](http://nbviewer.ipython.org/github/ipython/ipython/blob/master/examples/Index.ipynb) from our site, also included in the IPython source code repository."
     ]
    }
   ],
   "metadata": {}
  }
 ]
}