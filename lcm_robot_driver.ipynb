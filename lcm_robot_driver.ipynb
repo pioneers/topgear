{
 "metadata": {
  "name": "",
  "signature": "sha256:8e2c8d5aea56e13d76b53563affb8255ebb972c00aacf7e6f3d1702918fa5b8b"
 },
 "nbformat": 3,
 "nbformat_minor": 0,
 "worksheets": [
  {
   "cells": [
    {
     "cell_type": "markdown",
     "metadata": {},
     "source": [
      "<img src=\"http://mirageforum.com/forum/attachment.php?attachmentid=159&d=1370617142\">"
     ]
    },
    {
     "cell_type": "markdown",
     "metadata": {},
     "source": [
      "back to [Index](index.ipynb)"
     ]
    },
    {
     "cell_type": "heading",
     "level": 1,
     "metadata": {},
     "source": [
      "lcm_robot_driver"
     ]
    },
    {
     "cell_type": "markdown",
     "metadata": {},
     "source": [
      "2014-07-19"
     ]
    },
    {
     "cell_type": "markdown",
     "metadata": {},
     "source": [
      "lcm robot driver\n",
      "\n",
      "listens to lcm joystick packets to command the robot."
     ]
    },
    {
     "cell_type": "code",
     "collapsed": false,
     "input": [
      "# Cross-notebook include shim\n",
      "with open(\"nbinclude.ipynb\") as nbinclude_f: # don't rename nbinclude_f\n",
      "    import IPython.nbformat.current\n",
      "    get_ipython().run_cell(IPython.nbformat.current.read(nbinclude_f, 'json').worksheets[0].cells[0].input)"
     ],
     "language": "python",
     "metadata": {},
     "outputs": [],
     "prompt_number": 1
    },
    {
     "cell_type": "code",
     "collapsed": false,
     "input": [
      "import time, lcm\n",
      "from python.forseti2 import piemos_cmd\n",
      "from python.fearing import xbox_joystick_state"
     ],
     "language": "python",
     "metadata": {},
     "outputs": [],
     "prompt_number": 2
    },
    {
     "cell_type": "code",
     "collapsed": false,
     "input": [
      "class RobotRunner:\n",
      "    def __init__(self, robot):\n",
      "        self.robot=robot\n",
      "\n",
      "    def handle_joy(self, chan, data):\n",
      "        msg = xbox_joystick_state.decode(data)\n",
      "        l,r = msg.axes[1], msg.axes[4]\n",
      "        self.robot.cmd(l,r)\n",
      "        \n",
      "    def handle_piemos(self, channel, data):\n",
      "        msg=piemos_cmd.decode(data)\n",
      "        if msg.enabled:\n",
      "            self.robot.enable()\n",
      "        else:\n",
      "            self.robot.disable()\n",
      "\n",
      "    def lcm_run(self):\n",
      "        lc=lcm.LCM('udpm://239.255.76.67:7667?ttl=1')\n",
      "        sub=lc.subscribe(\"robot0/cmd\", self.handle_joy)\n",
      "        sub2=lc.subscribe(\"piemos0/cmd\", self.handle_piemos)\n",
      "        self.running = True\n",
      "        while self.running:\n",
      "            lc.handle()\n",
      "#             for tick in self.ticks:\n",
      "#                 tick()\n",
      "            time.sleep(.01)"
     ],
     "language": "python",
     "metadata": {},
     "outputs": [],
     "prompt_number": 3
    },
    {
     "cell_type": "code",
     "collapsed": false,
     "input": [
      "nbinclude(\"robot\")"
     ],
     "language": "python",
     "metadata": {},
     "outputs": [],
     "prompt_number": 4
    },
    {
     "cell_type": "code",
     "collapsed": false,
     "input": [
      "r=Robot()"
     ],
     "language": "python",
     "metadata": {},
     "outputs": [],
     "prompt_number": 5
    },
    {
     "cell_type": "code",
     "collapsed": false,
     "input": [
      "r.cmd(1,1)"
     ],
     "language": "python",
     "metadata": {},
     "outputs": [],
     "prompt_number": 6
    },
    {
     "cell_type": "code",
     "collapsed": false,
     "input": [
      "r.enable()"
     ],
     "language": "python",
     "metadata": {},
     "outputs": [],
     "prompt_number": 7
    },
    {
     "cell_type": "code",
     "collapsed": false,
     "input": [
      "# r.cmd(0,0)"
     ],
     "language": "python",
     "metadata": {},
     "outputs": [],
     "prompt_number": 8
    },
    {
     "cell_type": "code",
     "collapsed": false,
     "input": [
      "rr=RobotRunner(r)"
     ],
     "language": "python",
     "metadata": {},
     "outputs": []
    },
    {
     "cell_type": "code",
     "collapsed": false,
     "input": [
      "rr.lcm_run()"
     ],
     "language": "python",
     "metadata": {},
     "outputs": []
    },
    {
     "cell_type": "code",
     "collapsed": false,
     "input": [],
     "language": "python",
     "metadata": {},
     "outputs": []
    },
    {
     "cell_type": "code",
     "collapsed": false,
     "input": [],
     "language": "python",
     "metadata": {},
     "outputs": []
    }
   ],
   "metadata": {}
  }
 ]
}