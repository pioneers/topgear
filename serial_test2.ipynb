{
 "metadata": {
  "name": "",
  "signature": "sha256:a1a6bc5dea2e19eeacfd8855eff27cfbbe9e1adfbc79a67386d015fcaaf33d4f"
 },
 "nbformat": 3,
 "nbformat_minor": 0,
 "worksheets": [
  {
   "cells": [
    {
     "cell_type": "markdown",
     "metadata": {},
     "source": [
      "<img src=\"http://mirageforum.com/forum/attachment.php?attachmentid=159&d=1370617142\">"
     ]
    },
    {
     "cell_type": "markdown",
     "metadata": {},
     "source": [
      "back to [Index](index.ipynb)"
     ]
    },
    {
     "cell_type": "heading",
     "level": 1,
     "metadata": {},
     "source": [
      "serial_test2"
     ]
    },
    {
     "cell_type": "code",
     "collapsed": false,
     "input": [
      "import serial"
     ],
     "language": "python",
     "metadata": {},
     "outputs": [],
     "prompt_number": 1
    },
    {
     "cell_type": "code",
     "collapsed": false,
     "input": [
      "ser = serial.Serial('/dev/ttyUSB1')"
     ],
     "language": "python",
     "metadata": {},
     "outputs": [],
     "prompt_number": 2
    },
    {
     "cell_type": "code",
     "collapsed": false,
     "input": [
      "ser.read?"
     ],
     "language": "python",
     "metadata": {},
     "outputs": [],
     "prompt_number": 4
    },
    {
     "cell_type": "code",
     "collapsed": false,
     "input": [
      "import sys"
     ],
     "language": "python",
     "metadata": {},
     "outputs": [],
     "prompt_number": 6
    },
    {
     "cell_type": "code",
     "collapsed": false,
     "input": [
      "sys.stdout.write()"
     ],
     "language": "python",
     "metadata": {},
     "outputs": []
    },
    {
     "cell_type": "code",
     "collapsed": false,
     "input": [
      "a = 0"
     ],
     "language": "python",
     "metadata": {},
     "outputs": [],
     "prompt_number": 17
    },
    {
     "cell_type": "code",
     "collapsed": false,
     "input": [
      "while True:\n",
      "    read=ser.read()\n",
      "    a+=len(read)\n",
      "    sys.stdout.write(read)\n",
      "#     sys.stdout.flush()"
     ],
     "language": "python",
     "metadata": {},
     "outputs": [
      {
       "output_type": "stream",
       "stream": "stdout",
       "text": [
        "0 1 2 3 4 5 6 7 8 9 10 11 12 13 14 15 16 17 18 19 "
       ]
      },
      {
       "output_type": "stream",
       "stream": "stdout",
       "text": [
        "20 21 22 23 24 25 26 27 28 29 30 31 32 33 34 35 36"
       ]
      },
      {
       "output_type": "stream",
       "stream": "stdout",
       "text": [
        " 37 38 39 40 41 42 43 44 45 46 47 48 49 50 51 52 5"
       ]
      },
      {
       "output_type": "stream",
       "stream": "stdout",
       "text": [
        "3 54 55 56 57 58 59 60 61 62 63 64 65 66 67 68 69 "
       ]
      },
      {
       "output_type": "stream",
       "stream": "stdout",
       "text": [
        "70 71 72 73 74 75 76 77 78 79 80 81 82 83 84 85 8"
       ]
      },
      {
       "output_type": "stream",
       "stream": "stdout",
       "text": [
        "6 87 88 89 90 91 92 93 94 95 96 97 98 99 100 101 1"
       ]
      },
      {
       "output_type": "stream",
       "stream": "stdout",
       "text": [
        "02 103 104 105 106 107 108 109 110 111 112 113 114 "
       ]
      },
      {
       "output_type": "stream",
       "stream": "stdout",
       "text": [
        "115 116 117 118 119 120 121 122 123 124 125 126 12"
       ]
      },
      {
       "output_type": "stream",
       "stream": "stdout",
       "text": [
        "7 128 129 130 131 132 133 134 135 136 137 138 139 "
       ]
      },
      {
       "output_type": "stream",
       "stream": "stdout",
       "text": [
        "140 141 142 143 144 145 146 147 148 149 150 151 1"
       ]
      },
      {
       "output_type": "stream",
       "stream": "stdout",
       "text": [
        "52 153 154 155 156 157 158 159 160 161 162 163 164"
       ]
      },
      {
       "output_type": "stream",
       "stream": "stdout",
       "text": [
        " 165 166 167 168 169 170 171 172 173 174 175 176 1"
       ]
      },
      {
       "output_type": "stream",
       "stream": "stdout",
       "text": [
        "77 178 179 180 181 182 183 184 185 186 187 188 189 "
       ]
      },
      {
       "output_type": "stream",
       "stream": "stdout",
       "text": [
        "190 191 192 193 194 195 196 197 198 199 200 201 20"
       ]
      },
      {
       "output_type": "stream",
       "stream": "stdout",
       "text": [
        "2 203 204 205 206 207 208 209 210 211 212 213 214 "
       ]
      },
      {
       "output_type": "stream",
       "stream": "stdout",
       "text": [
        "215 216 217 218 219 220 221 222 223 224 225 226 22"
       ]
      },
      {
       "output_type": "stream",
       "stream": "stdout",
       "text": [
        "7 228 229 230 231 232 233 234 235 236 237 238 239 "
       ]
      },
      {
       "output_type": "stream",
       "stream": "stdout",
       "text": [
        "240 241 242 243 244 245 246 247 248 249 250 251 25"
       ]
      },
      {
       "output_type": "stream",
       "stream": "stdout",
       "text": [
        "2 253 254 255 256 257 258 259 260 261 262 263 264"
       ]
      },
      {
       "output_type": "stream",
       "stream": "stdout",
       "text": [
        " 265 266 267 268 269 270 271 272 273 274 275 276 2"
       ]
      },
      {
       "output_type": "stream",
       "stream": "stdout",
       "text": [
        "77 278 279 280 281 282 283 284 285 286 287 288 289"
       ]
      },
      {
       "output_type": "stream",
       "stream": "stdout",
       "text": [
        " 290 291 292 293 294 295 296 297 298 299 300 301 3"
       ]
      },
      {
       "output_type": "stream",
       "stream": "stdout",
       "text": [
        "02 303 304 305 306 307 308 309 310 311 312 313 314"
       ]
      },
      {
       "output_type": "stream",
       "stream": "stdout",
       "text": [
        " 315 316 317 318 319 320 321 322 323 324 325 326 "
       ]
      },
      {
       "output_type": "stream",
       "stream": "stdout",
       "text": [
        "327 328 329 330 331 332 333 334 335 336 337 338 33"
       ]
      },
      {
       "output_type": "stream",
       "stream": "stdout",
       "text": [
        "9 340 341 342 343 344 345 346 347 348 349 350 351 "
       ]
      },
      {
       "output_type": "stream",
       "stream": "stdout",
       "text": [
        "352 353 354 355 356 357 358 359 360 361 362 363 36"
       ]
      },
      {
       "output_type": "stream",
       "stream": "stdout",
       "text": [
        "4 365 366 367 368 369 370 371 372 373 374 375 376 "
       ]
      },
      {
       "output_type": "stream",
       "stream": "stdout",
       "text": [
        "377 378 379 380 381 382 383 384 385 386 387 388 38"
       ]
      },
      {
       "output_type": "stream",
       "stream": "stdout",
       "text": [
        "9 390 391 392 393 394 395 396 397 398 399 400 401 4"
       ]
      },
      {
       "output_type": "stream",
       "stream": "stdout",
       "text": [
        "02 403 404 405 406 407 408 409 410 411 412 413 41"
       ]
      },
      {
       "output_type": "stream",
       "stream": "stdout",
       "text": [
        "4 415 416 417 418 419 420 421 422 423 424 425 426 "
       ]
      },
      {
       "output_type": "stream",
       "stream": "stdout",
       "text": [
        "427 428 429 430 431 432 433 434 435 436 437 438 4"
       ]
      },
      {
       "output_type": "stream",
       "stream": "stdout",
       "text": [
        "39 440 441 442 443 444 445 446 447 448 449 450 451 "
       ]
      },
      {
       "output_type": "stream",
       "stream": "stdout",
       "text": [
        "452 453 454 455 456 457 458 459 460 461 462 463 46"
       ]
      },
      {
       "output_type": "stream",
       "stream": "stdout",
       "text": [
        "4 465 466 467 468 469 470 471 472 473 474 475 476 "
       ]
      },
      {
       "output_type": "stream",
       "stream": "stdout",
       "text": [
        "477 478 479 480 481 482 483 484 485 486 487 488 48"
       ]
      },
      {
       "output_type": "stream",
       "stream": "stdout",
       "text": [
        "9 490 491 492 493 494 495 496 497 498 499 500 501 "
       ]
      },
      {
       "output_type": "stream",
       "stream": "stdout",
       "text": [
        "502 503 504 505 506 507 508 509 510 511 512 513 51"
       ]
      },
      {
       "output_type": "stream",
       "stream": "stdout",
       "text": [
        "4 515 516 517 518 519 520 521 522 523 524 525 526"
       ]
      },
      {
       "output_type": "stream",
       "stream": "stdout",
       "text": [
        " 527 528 529 530 531 532 533 534 535 536 537 538 5"
       ]
      },
      {
       "output_type": "stream",
       "stream": "stdout",
       "text": [
        "39 540 541 542 543 544 545 546 547 548 549 550 551"
       ]
      },
      {
       "output_type": "stream",
       "stream": "stdout",
       "text": [
        " 552 553 554 555 556 557 558 559 560 561 562 563 5"
       ]
      },
      {
       "output_type": "stream",
       "stream": "stdout",
       "text": [
        "64 565 566 567 568 569 570 571 572 573 574 575 576"
       ]
      },
      {
       "output_type": "stream",
       "stream": "stdout",
       "text": [
        " 577 578 579 580 581 582 583 584 585 586 587 588 5"
       ]
      },
      {
       "output_type": "stream",
       "stream": "stdout",
       "text": [
        "89 590 591 592 593 594 595 596 597 598 599 600 601"
       ]
      },
      {
       "output_type": "stream",
       "stream": "stdout",
       "text": [
        " 602 603 604 605 606 607 608 609 610 611 612 613 6"
       ]
      },
      {
       "output_type": "stream",
       "stream": "stdout",
       "text": [
        "14 615 616 617 618 619 620 621 622 623 624 625 62"
       ]
      },
      {
       "output_type": "stream",
       "stream": "stdout",
       "text": [
        "6 627 628 629 630 631 632 633 634 635 636 637 638 "
       ]
      },
      {
       "output_type": "stream",
       "stream": "stdout",
       "text": [
        "639 640 641 642 643 644 645 646 647 648 649 650 65"
       ]
      },
      {
       "output_type": "stream",
       "stream": "stdout",
       "text": [
        "1 652 653 654 655 656 657 658 659 660 661 662 663 "
       ]
      },
      {
       "output_type": "stream",
       "stream": "stdout",
       "text": [
        "664 665 666 667 668 669 670 671 672 673 674 675 6"
       ]
      },
      {
       "output_type": "stream",
       "stream": "stdout",
       "text": [
        "76 677 678 679 680 681 682 683 684 685 686 687 688"
       ]
      },
      {
       "output_type": "stream",
       "stream": "stdout",
       "text": [
        " 689 690 691 692 693 694 695 696 697 698 699 700 "
       ]
      },
      {
       "output_type": "stream",
       "stream": "stdout",
       "text": [
        "701 702 703 704 705 706 707 708 709 710 711 712 71"
       ]
      },
      {
       "output_type": "stream",
       "stream": "stdout",
       "text": [
        "3 714 715 716 717 718 719 720 721 722 723 724 725 "
       ]
      },
      {
       "output_type": "stream",
       "stream": "stdout",
       "text": [
        "726 727 728 729 730 731 732 733 734 735 736 737 7"
       ]
      },
      {
       "output_type": "stream",
       "stream": "stdout",
       "text": [
        "38 739 740 741 742 743 744 745 746 747 748 749 750"
       ]
      },
      {
       "output_type": "stream",
       "stream": "stdout",
       "text": [
        " 751 752 753 754 755 756 757 758 759 760 761 762 7"
       ]
      },
      {
       "output_type": "stream",
       "stream": "stdout",
       "text": [
        "63 764 765 766 767 768 769 770 771 772 773 774 775"
       ]
      },
      {
       "output_type": "stream",
       "stream": "stdout",
       "text": [
        " 776 777 778 779 780 781 782 783 784 785 786 787 7"
       ]
      },
      {
       "output_type": "stream",
       "stream": "stdout",
       "text": [
        "88 789 790 791 792 793 794 795 796 797 798 799 80"
       ]
      },
      {
       "output_type": "stream",
       "stream": "stdout",
       "text": [
        "0 801 802 803 804 805 806 807 808 809 810 811 812 "
       ]
      },
      {
       "output_type": "stream",
       "stream": "stdout",
       "text": [
        "813 814 815 816 817 818 819 820 821 822 823 824 82"
       ]
      },
      {
       "output_type": "stream",
       "stream": "stdout",
       "text": [
        "5 826 827 828 829 830 831 832 833 834 835 836 837 "
       ]
      },
      {
       "output_type": "stream",
       "stream": "stdout",
       "text": [
        "838 839 840 841 842 843 844 845 846 847 848 849 85"
       ]
      },
      {
       "output_type": "stream",
       "stream": "stdout",
       "text": [
        "0 851 852 853 854 855 856 857 858 859 860 861 862"
       ]
      },
      {
       "output_type": "stream",
       "stream": "stdout",
       "text": [
        " 863 864 865 866 867 868 869 870 871 872 873 874 8"
       ]
      },
      {
       "output_type": "stream",
       "stream": "stdout",
       "text": [
        "75 876 877 878 879 880 881 882 883 884 885 886 887"
       ]
      },
      {
       "output_type": "stream",
       "stream": "stdout",
       "text": [
        " 888 889 890 891 892 893 894 895 896 897 898 899 9"
       ]
      },
      {
       "output_type": "stream",
       "stream": "stdout",
       "text": [
        "00 901 902 903 904 905 906 907 908 909 910 911 912"
       ]
      },
      {
       "output_type": "stream",
       "stream": "stdout",
       "text": [
        " 913 914 915 916 917 918 919 920 921 922 923 924 "
       ]
      },
      {
       "output_type": "stream",
       "stream": "stdout",
       "text": [
        "925 926 927 928 929 930 931 932 933 934 935 936 93"
       ]
      },
      {
       "output_type": "stream",
       "stream": "stdout",
       "text": [
        "7 938 939 940 941 942 943 944 945 946 947 948 949 "
       ]
      },
      {
       "output_type": "stream",
       "stream": "stdout",
       "text": [
        "950 951 952 953 954 955 956 957 958 959 960 961 96"
       ]
      },
      {
       "output_type": "stream",
       "stream": "stdout",
       "text": [
        "2 963 964 965 966 967 968 969 970 971 972 973 974 "
       ]
      },
      {
       "output_type": "stream",
       "stream": "stdout",
       "text": [
        "975 976 977 978 979 980 981 982 983 984 985 986 98"
       ]
      },
      {
       "output_type": "stream",
       "stream": "stdout",
       "text": [
        "7 988 989 990 991 992 993 994 995 996 997 998 999 "
       ]
      },
      {
       "ename": "KeyboardInterrupt",
       "evalue": "",
       "output_type": "pyerr",
       "traceback": [
        "\u001b[1;31m---------------------------------------------------------------------------\u001b[0m\n\u001b[1;31mKeyboardInterrupt\u001b[0m                         Traceback (most recent call last)",
        "\u001b[1;32m<ipython-input-18-8c149693cbfc>\u001b[0m in \u001b[0;36m<module>\u001b[1;34m()\u001b[0m\n\u001b[0;32m      1\u001b[0m \u001b[1;32mwhile\u001b[0m \u001b[0mTrue\u001b[0m\u001b[1;33m:\u001b[0m\u001b[1;33m\u001b[0m\u001b[0m\n\u001b[1;32m----> 2\u001b[1;33m     \u001b[0mread\u001b[0m\u001b[1;33m=\u001b[0m\u001b[0mser\u001b[0m\u001b[1;33m.\u001b[0m\u001b[0mread\u001b[0m\u001b[1;33m(\u001b[0m\u001b[1;33m)\u001b[0m\u001b[1;33m\u001b[0m\u001b[0m\n\u001b[0m\u001b[0;32m      3\u001b[0m     \u001b[0ma\u001b[0m\u001b[1;33m+=\u001b[0m\u001b[0mlen\u001b[0m\u001b[1;33m(\u001b[0m\u001b[0mread\u001b[0m\u001b[1;33m)\u001b[0m\u001b[1;33m\u001b[0m\u001b[0m\n\u001b[0;32m      4\u001b[0m     \u001b[0msys\u001b[0m\u001b[1;33m.\u001b[0m\u001b[0mstdout\u001b[0m\u001b[1;33m.\u001b[0m\u001b[0mwrite\u001b[0m\u001b[1;33m(\u001b[0m\u001b[0mread\u001b[0m\u001b[1;33m)\u001b[0m\u001b[1;33m\u001b[0m\u001b[0m\n\u001b[0;32m      5\u001b[0m \u001b[1;31m#     sys.stdout.flush()\u001b[0m\u001b[1;33m\u001b[0m\u001b[1;33m\u001b[0m\u001b[0m\n",
        "\u001b[1;32m/usr/lib/python2.7/dist-packages/serial/serialposix.pyc\u001b[0m in \u001b[0;36mread\u001b[1;34m(self, size)\u001b[0m\n\u001b[0;32m    440\u001b[0m         \u001b[0mread\u001b[0m \u001b[1;33m=\u001b[0m \u001b[0mbytearray\u001b[0m\u001b[1;33m(\u001b[0m\u001b[1;33m)\u001b[0m\u001b[1;33m\u001b[0m\u001b[0m\n\u001b[0;32m    441\u001b[0m         \u001b[1;32mwhile\u001b[0m \u001b[0mlen\u001b[0m\u001b[1;33m(\u001b[0m\u001b[0mread\u001b[0m\u001b[1;33m)\u001b[0m \u001b[1;33m<\u001b[0m \u001b[0msize\u001b[0m\u001b[1;33m:\u001b[0m\u001b[1;33m\u001b[0m\u001b[0m\n\u001b[1;32m--> 442\u001b[1;33m             \u001b[0mready\u001b[0m\u001b[1;33m,\u001b[0m\u001b[0m_\u001b[0m\u001b[1;33m,\u001b[0m\u001b[0m_\u001b[0m \u001b[1;33m=\u001b[0m \u001b[0mselect\u001b[0m\u001b[1;33m.\u001b[0m\u001b[0mselect\u001b[0m\u001b[1;33m(\u001b[0m\u001b[1;33m[\u001b[0m\u001b[0mself\u001b[0m\u001b[1;33m.\u001b[0m\u001b[0mfd\u001b[0m\u001b[1;33m]\u001b[0m\u001b[1;33m,\u001b[0m\u001b[1;33m[\u001b[0m\u001b[1;33m]\u001b[0m\u001b[1;33m,\u001b[0m\u001b[1;33m[\u001b[0m\u001b[1;33m]\u001b[0m\u001b[1;33m,\u001b[0m \u001b[0mself\u001b[0m\u001b[1;33m.\u001b[0m\u001b[0m_timeout\u001b[0m\u001b[1;33m)\u001b[0m\u001b[1;33m\u001b[0m\u001b[0m\n\u001b[0m\u001b[0;32m    443\u001b[0m             \u001b[1;31m# If select was used with a timeout, and the timeout occurs, it\u001b[0m\u001b[1;33m\u001b[0m\u001b[1;33m\u001b[0m\u001b[0m\n\u001b[0;32m    444\u001b[0m             \u001b[1;31m# returns with empty lists -> thus abort read operation.\u001b[0m\u001b[1;33m\u001b[0m\u001b[1;33m\u001b[0m\u001b[0m\n",
        "\u001b[1;31mKeyboardInterrupt\u001b[0m: "
       ]
      }
     ],
     "prompt_number": 18
    },
    {
     "cell_type": "code",
     "collapsed": false,
     "input": [
      "a"
     ],
     "language": "python",
     "metadata": {},
     "outputs": [
      {
       "metadata": {},
       "output_type": "pyout",
       "prompt_number": 19,
       "text": [
        "3890"
       ]
      }
     ],
     "prompt_number": 19
    },
    {
     "cell_type": "code",
     "collapsed": false,
     "input": [],
     "language": "python",
     "metadata": {},
     "outputs": []
    }
   ],
   "metadata": {}
  }
 ]
}