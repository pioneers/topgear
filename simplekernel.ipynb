{
 "metadata": {
  "name": "",
  "signature": "sha256:8690fb0bb2c7110d924dd360826565cd3d9326fba52609ca3868e561817a716f"
 },
 "nbformat": 3,
 "nbformat_minor": 0,
 "worksheets": [
  {
   "cells": [
    {
     "cell_type": "markdown",
     "metadata": {},
     "source": [
      "<img src=\"http://mirageforum.com/forum/attachment.php?attachmentid=159&d=1370617142\">"
     ]
    },
    {
     "cell_type": "markdown",
     "metadata": {},
     "source": [
      "back to [Index](index.ipynb)"
     ]
    },
    {
     "cell_type": "heading",
     "level": 1,
     "metadata": {},
     "source": [
      "simplekernel"
     ]
    },
    {
     "cell_type": "markdown",
     "metadata": {},
     "source": [
      "a simple python method-execution kernel"
     ]
    },
    {
     "cell_type": "code",
     "collapsed": false,
     "input": [
      "# Cross-notebook include shim\n",
      "with open(\"nbinclude.ipynb\") as nbinclude_f: # don't rename nbinclude_f\n",
      "    import IPython.nbformat.current\n",
      "    get_ipython().run_cell(IPython.nbformat.current.read(nbinclude_f, 'json').worksheets[0].cells[0].input)"
     ],
     "language": "python",
     "metadata": {},
     "outputs": [],
     "prompt_number": 1
    },
    {
     "cell_type": "code",
     "collapsed": false,
     "input": [
      "import time\n",
      "class SimpleKernel:\n",
      "    def __init__(self):\n",
      "        self.running=False\n",
      "        self.coroutines=[]\n",
      "        \n",
      "    def add_coroutine(self, coroutine, period):\n",
      "        self.coroutines.append([coroutine, period, time.time()])\n",
      "        \n",
      "    def tick(self):\n",
      "        running = True\n",
      "        for cr in self.coroutines:\n",
      "            now=time.time()\n",
      "            if (now - cr[2]) > cr[1]:\n",
      "#                 cr[0].next()\n",
      "#                 try:\n",
      "                result= next(cr[0])\n",
      "                if result is not None:\n",
      "                    running = running and result\n",
      "#                 except StopIteration as i:\n",
      "#                     print(i)\n",
      "#                     print(\"stopiteration caught\"  + str(i.message) + str(cr[0]))\n",
      "#                     pass\n",
      "                cr[2]=now\n",
      "        return running\n",
      "\n",
      "    def run(self):\n",
      "        try:\n",
      "            self.running=True\n",
      "            while self.running:\n",
      "                self.running = self.tick()\n",
      "#                 time.sleep(.001)\n",
      "        except KeyboardInterrupt as e:\n",
      "            print(\"caught keyboardinterrupt\")\n",
      "            print(e)"
     ],
     "language": "python",
     "metadata": {},
     "outputs": [],
     "prompt_number": 60
    },
    {
     "cell_type": "code",
     "collapsed": false,
     "input": [
      "class CoroutineSpinner:\n",
      "    def __init__(self, coroutine):\n",
      "        self.coroutine=coroutine\n",
      "        self.running=False\n",
      "    def run(self):\n",
      "        self.running=True\n",
      "        while(self.running):\n",
      "            delay=next(self.coroutine)\n",
      "            if delay < 0:\n",
      "                return\n",
      "            time.sleep(delay)"
     ],
     "language": "python",
     "metadata": {},
     "outputs": [],
     "prompt_number": 1
    },
    {
     "cell_type": "code",
     "collapsed": false,
     "input": [
      "#NBINCLUDE_STOP"
     ],
     "language": "python",
     "metadata": {},
     "outputs": [],
     "prompt_number": 3
    },
    {
     "cell_type": "code",
     "collapsed": false,
     "input": [
      "def counter(name):\n",
      "    i = 0;\n",
      "    while True:\n",
      "        i+=1\n",
      "        print name, i\n",
      "        sys.stdout.flush()\n",
      "        yield"
     ],
     "language": "python",
     "metadata": {},
     "outputs": [],
     "prompt_number": 33
    },
    {
     "cell_type": "code",
     "collapsed": false,
     "input": [
      "c=counter('hello')"
     ],
     "language": "python",
     "metadata": {},
     "outputs": [],
     "prompt_number": 34
    },
    {
     "cell_type": "code",
     "collapsed": false,
     "input": [
      "c.next()"
     ],
     "language": "python",
     "metadata": {},
     "outputs": [
      {
       "output_type": "stream",
       "stream": "stdout",
       "text": [
        "hello 1\n"
       ]
      }
     ],
     "prompt_number": 35
    },
    {
     "cell_type": "code",
     "collapsed": false,
     "input": [
      "c2=counter('----->')"
     ],
     "language": "python",
     "metadata": {},
     "outputs": [],
     "prompt_number": 36
    },
    {
     "cell_type": "code",
     "collapsed": false,
     "input": [
      "c2.next()"
     ],
     "language": "python",
     "metadata": {},
     "outputs": [
      {
       "output_type": "stream",
       "stream": "stdout",
       "text": [
        "-----> 1\n"
       ]
      }
     ],
     "prompt_number": 37
    },
    {
     "cell_type": "code",
     "collapsed": false,
     "input": [
      "sk=SimpleKernel()"
     ],
     "language": "python",
     "metadata": {},
     "outputs": [],
     "prompt_number": 38
    },
    {
     "cell_type": "code",
     "collapsed": false,
     "input": [
      "sk.add_coroutine(c, .25)"
     ],
     "language": "python",
     "metadata": {},
     "outputs": [],
     "prompt_number": 39
    },
    {
     "cell_type": "code",
     "collapsed": false,
     "input": [
      "sk.add_coroutine(c2, 1)"
     ],
     "language": "python",
     "metadata": {},
     "outputs": [],
     "prompt_number": 40
    },
    {
     "cell_type": "code",
     "collapsed": false,
     "input": [
      "sk.tick()"
     ],
     "language": "python",
     "metadata": {},
     "outputs": [
      {
       "output_type": "stream",
       "stream": "stdout",
       "text": [
        "hello 59\n"
       ]
      },
      {
       "output_type": "stream",
       "stream": "stdout",
       "text": [
        "-----> 19\n"
       ]
      }
     ],
     "prompt_number": 58
    },
    {
     "cell_type": "code",
     "collapsed": false,
     "input": [
      "sk.run()"
     ],
     "language": "python",
     "metadata": {},
     "outputs": [
      {
       "output_type": "stream",
       "stream": "stdout",
       "text": [
        "hello 22\n"
       ]
      },
      {
       "output_type": "stream",
       "stream": "stdout",
       "text": [
        "-----> 7\n"
       ]
      },
      {
       "output_type": "stream",
       "stream": "stdout",
       "text": [
        "hello 23\n"
       ]
      },
      {
       "output_type": "stream",
       "stream": "stdout",
       "text": [
        "hello 24\n"
       ]
      },
      {
       "output_type": "stream",
       "stream": "stdout",
       "text": [
        "hello 25\n"
       ]
      },
      {
       "output_type": "stream",
       "stream": "stdout",
       "text": [
        "hello 26\n"
       ]
      },
      {
       "output_type": "stream",
       "stream": "stdout",
       "text": [
        "-----> 8\n"
       ]
      },
      {
       "output_type": "stream",
       "stream": "stdout",
       "text": [
        "hello 27\n"
       ]
      },
      {
       "output_type": "stream",
       "stream": "stdout",
       "text": [
        "hello 28\n"
       ]
      },
      {
       "output_type": "stream",
       "stream": "stdout",
       "text": [
        "hello 29\n"
       ]
      },
      {
       "output_type": "stream",
       "stream": "stdout",
       "text": [
        "hello 30\n"
       ]
      },
      {
       "output_type": "stream",
       "stream": "stdout",
       "text": [
        "-----> 9\n"
       ]
      },
      {
       "output_type": "stream",
       "stream": "stdout",
       "text": [
        "hello 31\n"
       ]
      },
      {
       "output_type": "stream",
       "stream": "stdout",
       "text": [
        "hello 32\n"
       ]
      },
      {
       "output_type": "stream",
       "stream": "stdout",
       "text": [
        "hello 33\n"
       ]
      },
      {
       "output_type": "stream",
       "stream": "stdout",
       "text": [
        "hello 34\n"
       ]
      },
      {
       "output_type": "stream",
       "stream": "stdout",
       "text": [
        "-----> 10\n"
       ]
      },
      {
       "output_type": "stream",
       "stream": "stdout",
       "text": [
        "hello 35\n"
       ]
      },
      {
       "output_type": "stream",
       "stream": "stdout",
       "text": [
        "hello 36\n"
       ]
      },
      {
       "output_type": "stream",
       "stream": "stdout",
       "text": [
        "hello 37\n"
       ]
      },
      {
       "output_type": "stream",
       "stream": "stdout",
       "text": [
        "hello 38\n"
       ]
      },
      {
       "output_type": "stream",
       "stream": "stdout",
       "text": [
        "-----> 11\n"
       ]
      },
      {
       "output_type": "stream",
       "stream": "stdout",
       "text": [
        "hello 39\n"
       ]
      },
      {
       "output_type": "stream",
       "stream": "stdout",
       "text": [
        "hello 40\n"
       ]
      },
      {
       "output_type": "stream",
       "stream": "stdout",
       "text": [
        "hello 41\n"
       ]
      },
      {
       "output_type": "stream",
       "stream": "stdout",
       "text": [
        "-----> 12\n"
       ]
      },
      {
       "output_type": "stream",
       "stream": "stdout",
       "text": [
        "hello 42\n"
       ]
      },
      {
       "output_type": "stream",
       "stream": "stdout",
       "text": [
        "hello 43\n"
       ]
      },
      {
       "output_type": "stream",
       "stream": "stdout",
       "text": [
        "hello 44\n"
       ]
      },
      {
       "output_type": "stream",
       "stream": "stdout",
       "text": [
        "hello 45\n"
       ]
      },
      {
       "output_type": "stream",
       "stream": "stdout",
       "text": [
        "-----> 13\n"
       ]
      },
      {
       "output_type": "stream",
       "stream": "stdout",
       "text": [
        "hello 46\n"
       ]
      },
      {
       "output_type": "stream",
       "stream": "stdout",
       "text": [
        "\n"
       ]
      }
     ],
     "prompt_number": 43
    },
    {
     "cell_type": "code",
     "collapsed": false,
     "input": [
      "import time\n",
      "class ThreadedScheduler:\n",
      "    def __init__(self):\n",
      "        self.running=False\n",
      "        self.coroutines=[]\n",
      "        \n",
      "    def add_coroutine(self, coroutine, period):\n",
      "        self.coroutines.append([coroutine, period, time.time()])\n",
      "        \n",
      "    def tick(self):\n",
      "        running = True\n",
      "        for cr in self.coroutines:\n",
      "            now=time.time()\n",
      "            if (now - cr[2]) > cr[1]:\n",
      "#                 cr[0].next()\n",
      "#                 try:\n",
      "                result= next(cr[0])\n",
      "                if result is not None:\n",
      "                    running = running and result\n",
      "#                 except StopIteration as i:\n",
      "#                     print(i)\n",
      "#                     print(\"stopiteration caught\"  + str(i.message) + str(cr[0]))\n",
      "#                     pass\n",
      "                cr[2]=now\n",
      "        return running\n",
      "\n",
      "    def run(self):\n",
      "        try:\n",
      "            self.running=True\n",
      "            while self.running:\n",
      "                self.running = self.tick()\n",
      "#                 time.sleep(.001)\n",
      "        except KeyboardInterrupt as e:\n",
      "            print(\"caught keyboardinterrupt\")\n",
      "            print(e)"
     ],
     "language": "python",
     "metadata": {},
     "outputs": []
    },
    {
     "cell_type": "code",
     "collapsed": false,
     "input": [],
     "language": "python",
     "metadata": {},
     "outputs": []
    }
   ],
   "metadata": {}
  }
 ]
}