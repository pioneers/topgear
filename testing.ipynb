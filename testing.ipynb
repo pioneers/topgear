{
 "metadata": {
  "name": "",
  "signature": "sha256:f48d7fd8acdb07e5688ddced3cee01d4ec4ff310d0c52cd072ec2a88f4163465"
 },
 "nbformat": 3,
 "nbformat_minor": 0,
 "worksheets": [
  {
   "cells": [
    {
     "cell_type": "markdown",
     "metadata": {},
     "source": [
      "<img src=\"http://mirageforum.com/forum/attachment.php?attachmentid=159&d=1370617142\">"
     ]
    },
    {
     "cell_type": "markdown",
     "metadata": {},
     "source": [
      "back to [Index](index.ipynb)"
     ]
    },
    {
     "cell_type": "heading",
     "level": 1,
     "metadata": {},
     "source": [
      "How To Test"
     ]
    },
    {
     "cell_type": "markdown",
     "metadata": {},
     "source": [
      "1. Start recording video, right now (don't proceed to step 2 until you have begun recording video): http://www.google.com/+/learnmore/hangouts/onair.html\n",
      "2. go to: https://cloud.sagemath.com\n",
      "3. log in as:\n",
      "```bash\n",
      "username = pioneers.topgear@gmail.com\n",
      "password = topgeartesting\n",
      "```\n",
      "4. click on the \"topgear-demo\" project\n",
      "5. click on the \"topgear\" folder\n",
      "6. click on \"index.ipynb\"\n",
      "7. Have fun!"
     ]
    }
   ],
   "metadata": {}
  }
 ]
}