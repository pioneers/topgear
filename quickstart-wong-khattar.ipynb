{
 "metadata": {
  "colabVersion": "0.1",
  "name": "",
  "signature": "sha256:afc05ac81368250a85bc9054b9ea1450550a31e052d6823899fb0ecf32cfc57f"
 },
 "nbformat": 3,
 "nbformat_minor": 0,
 "worksheets": [
  {
   "cells": [
    {
     "cell_type": "markdown",
     "metadata": {},
     "source": [
      "<img src=\"http://mirageforum.com/forum/attachment.php?attachmentid=159&d=1370617142\">"
     ]
    },
    {
     "cell_type": "markdown",
     "metadata": {},
     "source": [
      "back to [Index](index.ipynb)"
     ]
    },
    {
     "cell_type": "heading",
     "level": 1,
     "metadata": {},
     "source": [
      "Quickstart-Robot"
     ]
    },
    {
     "cell_type": "markdown",
     "metadata": {},
     "source": [
      "Let's make a robot drive forward:"
     ]
    },
    {
     "cell_type": "markdown",
     "metadata": {},
     "source": [
      "<div class=\"alert alert-success\">\n",
      "Click on the cell below, and press `SHIFT` + `ENTER` to run\n",
      "</div>"
     ]
    },
    {
     "cell_type": "code",
     "collapsed": false,
     "input": [
      "import lbot, time, IPython, sys, time\n",
      "r = lbot.Robot()\n",
      "r.drive(.1, .1) # range [-1.0 ... 1.0]"
     ],
     "language": "python",
     "metadata": {
      "cellView": null,
      "executionInfo": null
     },
     "outputs": [],
     "prompt_number": 1
    },
    {
     "cell_type": "markdown",
     "metadata": {},
     "source": [
      "The robot should now be driving forward!\n",
      "\n",
      "Stop the robot by running the cell below:"
     ]
    },
    {
     "cell_type": "code",
     "collapsed": false,
     "input": [
      "r.drive(0,0)"
     ],
     "language": "python",
     "metadata": {
      "cellView": null,
      "executionInfo": null
     },
     "outputs": [],
     "prompt_number": 6
    },
    {
     "cell_type": "heading",
     "level": 3,
     "metadata": {},
     "source": [
      "Robot Commands"
     ]
    },
    {
     "cell_type": "markdown",
     "metadata": {},
     "source": [
      "In the empty cell below, try making the robot spin to the right:"
     ]
    },
    {
     "cell_type": "markdown",
     "metadata": {},
     "source": [
      "<div class=\"alert alert-success\">\n",
      "Click on the cell below (\"Your code goes here!~\") and start typing code!\n",
      "</div>"
     ]
    },
    {
     "cell_type": "code",
     "collapsed": false,
     "input": [
      "r.drive(0,0)"
     ],
     "language": "python",
     "metadata": {
      "cellView": null,
      "executionInfo": null
     },
     "outputs": [],
     "prompt_number": 8
    },
    {
     "cell_type": "markdown",
     "metadata": {},
     "source": [
      "Then, in the empty cell below, try to make the robot stop."
     ]
    },
    {
     "cell_type": "code",
     "collapsed": false,
     "input": [],
     "language": "python",
     "metadata": {},
     "outputs": []
    },
    {
     "cell_type": "code",
     "collapsed": false,
     "input": [],
     "language": "python",
     "metadata": {},
     "outputs": []
    },
    {
     "cell_type": "code",
     "collapsed": false,
     "input": [
      "# Your code goes here!~"
     ],
     "language": "python",
     "metadata": {
      "cellView": null,
      "executionInfo": null
     },
     "outputs": []
    },
    {
     "cell_type": "markdown",
     "metadata": {},
     "source": [
      "now, try making the robot drive backwards:"
     ]
    },
    {
     "cell_type": "code",
     "collapsed": false,
     "input": [
      "r.drive(-0.2,-0.2)"
     ],
     "language": "python",
     "metadata": {
      "cellView": null,
      "executionInfo": null
     },
     "outputs": [],
     "prompt_number": 7
    },
    {
     "cell_type": "heading",
     "level": 3,
     "metadata": {},
     "source": [
      "How to use this interface"
     ]
    },
    {
     "cell_type": "markdown",
     "metadata": {},
     "source": [
      "These code blocks are called cells."
     ]
    },
    {
     "cell_type": "markdown",
     "metadata": {},
     "source": [
      "The menu and toolbar:\n",
      "<img src=\"ipython-in-depth/examples/Notebook/images/menubar_toolbar.png\">"
     ]
    },
    {
     "cell_type": "markdown",
     "metadata": {},
     "source": [
      "Try clicking on `Insert` ==> `Insert Cell Below`."
     ]
    },
    {
     "cell_type": "heading",
     "level": 3,
     "metadata": {},
     "source": [
      "Fancy Robot Commands"
     ]
    },
    {
     "cell_type": "markdown",
     "metadata": {},
     "source": [
      "By making new cells below this one, try commanding the robot to drive in different radius circles."
     ]
    },
    {
     "cell_type": "markdown",
     "metadata": {},
     "source": [
      "Make a cell below here that spins the robot in ~5 inch diameter circles. (Don't spend too much time tuning)"
     ]
    },
    {
     "cell_type": "code",
     "collapsed": false,
     "input": [
      "r.drive(0.2,0.05)"
     ],
     "language": "python",
     "metadata": {
      "cellView": null,
      "executionInfo": null
     },
     "outputs": [],
     "prompt_number": 18
    },
    {
     "cell_type": "code",
     "collapsed": false,
     "input": [
      "# Your code goes here!~"
     ],
     "language": "python",
     "metadata": {},
     "outputs": []
    },
    {
     "cell_type": "markdown",
     "metadata": {},
     "source": [
      "Make a cell below here that spins the robot in ~10 inch diameter circles. (Don't spend too much time tuning)"
     ]
    },
    {
     "cell_type": "code",
     "collapsed": false,
     "input": [
      "r.drive(0.2, 0.02)"
     ],
     "language": "python",
     "metadata": {
      "cellView": null,
      "executionInfo": null
     },
     "outputs": [],
     "prompt_number": 20
    },
    {
     "cell_type": "code",
     "collapsed": false,
     "input": [
      "# Your code goes here!~"
     ],
     "language": "python",
     "metadata": {},
     "outputs": []
    },
    {
     "cell_type": "heading",
     "level": 3,
     "metadata": {},
     "source": [
      "Robot Trajectories"
     ]
    },
    {
     "cell_type": "markdown",
     "metadata": {},
     "source": [
      "Commands can be strung together to make a robot follow paths."
     ]
    },
    {
     "cell_type": "markdown",
     "metadata": {},
     "source": [
      "Compare the behavior of the two cells, and try to record an explaination:"
     ]
    },
    {
     "cell_type": "code",
     "collapsed": false,
     "input": [
      "r.drive(0,.2)\n",
      "r.drive(0,0)"
     ],
     "language": "python",
     "metadata": {
      "cellView": null,
      "executionInfo": null
     },
     "outputs": [],
     "prompt_number": 22
    },
    {
     "cell_type": "markdown",
     "metadata": {},
     "source": [
      "<div class=\"alert alert-success\">\n",
      "Double click on the cell below (\"What happened: Why:\") to record your thoughts. Press `SHIFT` + `ENTER` to render the text.\n",
      "</div>"
     ]
    },
    {
     "cell_type": "markdown",
     "metadata": {},
     "source": [
      "What happened: IT moved a little bit and then stopped.\n",
      "Why: It was programmed to stop right after movement. There was nothing telling it to run for whatever amount of time."
     ]
    },
    {
     "cell_type": "code",
     "collapsed": false,
     "input": [
      "r.drive(.15,.15)\n",
      "time.sleep(.5)\n",
      "r.drive(0,0)"
     ],
     "language": "python",
     "metadata": {
      "cellView": null,
      "executionInfo": null
     },
     "outputs": [],
     "prompt_number": 23
    },
    {
     "cell_type": "markdown",
     "metadata": {},
     "source": [
      "What happened: It moved at speed .15 for .5 secs.\n",
      "\n",
      "Why: The sleep determines the amount of time the robot runs before it stops."
     ]
    },
    {
     "cell_type": "heading",
     "level": 3,
     "metadata": {},
     "source": [
      " Using Robot Trajectories with Sleep"
     ]
    },
    {
     "cell_type": "markdown",
     "metadata": {},
     "source": [
      "\n"
     ]
    },
    {
     "cell_type": "markdown",
     "metadata": {},
     "source": [
      "Try making the robot turn 90 degrees using what you've learned (hint: time.sleep might help!)"
     ]
    },
    {
     "cell_type": "code",
     "collapsed": false,
     "input": [
      "r.drive(.2,-.2)\n",
      "time.sleep(3.6)\n",
      "r.drive(0,0)"
     ],
     "language": "python",
     "metadata": {
      "cellView": null,
      "executionInfo": null
     },
     "outputs": [],
     "prompt_number": 29
    },
    {
     "cell_type": "code",
     "collapsed": false,
     "input": [
      "r.drive(.1, .1)\n",
      "time.sleep(4.4)\n",
      "r.drive(0,0)"
     ],
     "language": "python",
     "metadata": {
      "cellView": null,
      "executionInfo": null
     },
     "outputs": [],
     "prompt_number": 36
    },
    {
     "cell_type": "markdown",
     "metadata": {},
     "source": [
      "Try making the robot drive 5 inches."
     ]
    },
    {
     "cell_type": "markdown",
     "metadata": {},
     "source": [
      "Now, use these together to make the robot drive forwards, turn 180 degrees, drive back, and then turn back to the original angle."
     ]
    },
    {
     "cell_type": "code",
     "collapsed": false,
     "input": [
      "r.drive(.1, .1)\n",
      "time.sleep(4.4)\n",
      "r.drive(.2,-.2)\n",
      "time.sleep(7.1)\n",
      "r.drive(.1, .1)\n",
      "time.sleep(4.4)\n",
      "r.drive(.2,-.2)\n",
      "time.sleep(7.1)\n",
      "r.drive(0,0)"
     ],
     "language": "python",
     "metadata": {
      "cellView": null,
      "executionInfo": null
     },
     "outputs": [],
     "prompt_number": 39
    },
    {
     "cell_type": "heading",
     "level": 3,
     "metadata": {},
     "source": [
      " Variables"
     ]
    },
    {
     "cell_type": "markdown",
     "metadata": {},
     "source": [
      "We can pass variables to functions:"
     ]
    },
    {
     "cell_type": "code",
     "collapsed": false,
     "input": [
      "left = .1\n",
      "right = .1\n",
      "\n",
      "r.drive(left, right)"
     ],
     "language": "python",
     "metadata": {
      "cellView": null,
      "executionInfo": null
     },
     "outputs": [],
     "prompt_number": 40
    },
    {
     "cell_type": "markdown",
     "metadata": {},
     "source": [
      "We can also assign variables:"
     ]
    },
    {
     "cell_type": "code",
     "collapsed": false,
     "input": [
      "left = .1\n",
      "right = .1\n",
      "\n",
      "print left\n",
      "print right\n",
      "\n",
      "left = left * 2\n",
      "\n",
      "print left\n",
      "print right\n",
      "\n",
      "r.drive(left, right)\n"
     ],
     "language": "python",
     "metadata": {
      "cellView": null,
      "executionInfo": null
     },
     "outputs": [
      {
       "output_type": "stream",
       "stream": "stdout",
       "text": [
        "0.1\n",
        "0.1\n",
        "0.2\n",
        "0.1\n"
       ]
      }
     ],
     "prompt_number": 42
    },
    {
     "cell_type": "code",
     "collapsed": false,
     "input": [
      "r.drive(0,0)"
     ],
     "language": "python",
     "metadata": {},
     "outputs": [],
     "prompt_number": 181
    },
    {
     "cell_type": "code",
     "collapsed": false,
     "input": [
      "for i in range(10):\n",
      "    value = i*5\n",
      "    print i\n",
      "    print value"
     ],
     "language": "python",
     "metadata": {
      "cellView": null,
      "executionInfo": null
     },
     "outputs": [
      {
       "output_type": "stream",
       "stream": "stdout",
       "text": [
        "0\n",
        "0\n",
        "1\n",
        "5\n",
        "2\n",
        "10\n",
        "3\n",
        "15\n",
        "4\n",
        "20\n",
        "5\n",
        "25\n",
        "6\n",
        "30\n",
        "7\n",
        "35\n",
        "8\n",
        "40\n",
        "9\n",
        "45\n"
       ]
      }
     ],
     "prompt_number": 44
    },
    {
     "cell_type": "heading",
     "level": 3,
     "metadata": {},
     "source": [
      " Using Robot Trajectories With loops\n"
     ]
    },
    {
     "cell_type": "markdown",
     "metadata": {},
     "source": [
      "Now, using the for loop, make a robot drive in a square:"
     ]
    },
    {
     "cell_type": "code",
     "collapsed": false,
     "input": [
      "for i in range(4):\n",
      "    r.drive(.1, .1)\n",
      "    time.sleep(5)\n",
      "    r.drive(.2,-.2)\n",
      "    time.sleep(3.4)\n",
      "r.drive(0,0)"
     ],
     "language": "python",
     "metadata": {
      "cellView": null,
      "executionInfo": null
     },
     "outputs": [],
     "prompt_number": 51
    },
    {
     "cell_type": "heading",
     "level": 3,
     "metadata": {},
     "source": [
      " Sensors"
     ]
    },
    {
     "cell_type": "markdown",
     "metadata": {},
     "source": [
      "Run the cell below a couple times under various lighting conditions.\n",
      "For example, try:\n",
      "* facing up\n",
      "* on retro-reflective tape\n",
      "* on carpet\n",
      "* on the table surface"
     ]
    },
    {
     "cell_type": "markdown",
     "metadata": {},
     "source": [
      "<div class=\"alert alert-success\">\n",
      "Press `CTRL` + `ENTER` to run a cell repeatedly while the cell is selected\n",
      "</div>"
     ]
    },
    {
     "cell_type": "code",
     "collapsed": false,
     "input": [
      "reflectances = r.read_sensors()\n",
      "print reflectances\n",
      "print len(reflectances)"
     ],
     "language": "python",
     "metadata": {},
     "outputs": [
      {
       "output_type": "stream",
       "stream": "stdout",
       "text": [
        "(0.696703314781189, 0.40293043851852417, 0.3094017207622528, 0.40390723943710327, 0.3719169795513153, 0.5526251792907715)\n",
        "6\n"
       ]
      }
     ],
     "prompt_number": 83
    },
    {
     "cell_type": "markdown",
     "metadata": {},
     "source": [
      "The output of `read_sensors` is a **tuple**: a group of values."
     ]
    },
    {
     "cell_type": "code",
     "collapsed": false,
     "input": [
      "tups = (12, -1)\n",
      "print tups\n",
      "print len(tups)"
     ],
     "language": "python",
     "metadata": {},
     "outputs": [
      {
       "output_type": "stream",
       "stream": "stdout",
       "text": [
        "(12, -1)\n",
        "2\n"
       ]
      }
     ],
     "prompt_number": 84
    },
    {
     "cell_type": "code",
     "collapsed": false,
     "input": [
      "print tups[0]\n",
      "print tups[1]"
     ],
     "language": "python",
     "metadata": {},
     "outputs": []
    },
    {
     "cell_type": "markdown",
     "metadata": {},
     "source": [
      "Use the examples above to print out the value of the third reflectance sensor."
     ]
    },
    {
     "cell_type": "code",
     "collapsed": false,
     "input": [
      "reflectances = r.read_sensors()\n",
      "print reflectances[2]"
     ],
     "language": "python",
     "metadata": {},
     "outputs": [
      {
       "output_type": "stream",
       "stream": "stdout",
       "text": [
        "0.507936537266\n"
       ]
      }
     ],
     "prompt_number": 85
    },
    {
     "cell_type": "markdown",
     "metadata": {},
     "source": [
      "Use your knowlege of loops and tuples to print all the values of read_sensors."
     ]
    },
    {
     "cell_type": "code",
     "collapsed": false,
     "input": [
      "reflectances = r.read_sensors()\n",
      "for i in range(5):\n",
      "    print reflectances[i]"
     ],
     "language": "python",
     "metadata": {},
     "outputs": [
      {
       "output_type": "stream",
       "stream": "stdout",
       "text": [
        "0.787301659584\n",
        "0.446153879166\n",
        "0.0520146563649\n",
        "0.0444444455206\n",
        "0.044200245291\n"
       ]
      }
     ],
     "prompt_number": 86
    },
    {
     "cell_type": "heading",
     "level": 3,
     "metadata": {},
     "source": [
      "Streaming data"
     ]
    },
    {
     "cell_type": "code",
     "collapsed": false,
     "input": [
      "for i in range(5):\n",
      "    print i\n",
      "    time.sleep(1)"
     ],
     "language": "python",
     "metadata": {},
     "outputs": [
      {
       "output_type": "stream",
       "stream": "stdout",
       "text": [
        "0\n",
        "1"
       ]
      },
      {
       "output_type": "stream",
       "stream": "stdout",
       "text": [
        "\n",
        "2"
       ]
      },
      {
       "output_type": "stream",
       "stream": "stdout",
       "text": [
        "\n",
        "3"
       ]
      },
      {
       "output_type": "stream",
       "stream": "stdout",
       "text": [
        "\n",
        "4"
       ]
      },
      {
       "output_type": "stream",
       "stream": "stdout",
       "text": [
        "\n"
       ]
      }
     ],
     "prompt_number": 87
    },
    {
     "cell_type": "code",
     "collapsed": false,
     "input": [
      "for i in range(5):\n",
      "    IPython.display.clear_output()\n",
      "    print i\n",
      "    sys.stdout.flush()\n",
      "    time.sleep(1)"
     ],
     "language": "python",
     "metadata": {},
     "outputs": [
      {
       "output_type": "stream",
       "stream": "stdout",
       "text": [
        "4\n"
       ]
      }
     ],
     "prompt_number": 88
    },
    {
     "cell_type": "heading",
     "level": 3,
     "metadata": {},
     "source": [
      "Streaming the reflectance values"
     ]
    },
    {
     "cell_type": "markdown",
     "metadata": {},
     "source": [
      "Try this:\n",
      "\n",
      "(To stop it remember that there is a stop button in the toolbar ar the top)"
     ]
    },
    {
     "cell_type": "raw",
     "metadata": {},
     "source": [
      "while True:\n",
      "    values = r.read_sensors()\n",
      "    IPython.display.clear_output()\n",
      "    for val in values:\n",
      "        print '='*int(30*val) + int(30*(1.-val))*' ' + str(val)\n",
      "    sys.stdout.flush()\n",
      "    time.sleep(.01)"
     ]
    },
    {
     "cell_type": "heading",
     "level": 3,
     "metadata": {},
     "source": [
      " Let's explore comparisons!"
     ]
    },
    {
     "cell_type": "code",
     "collapsed": false,
     "input": [
      "5 < 4"
     ],
     "language": "python",
     "metadata": {
      "cellView": null,
      "executionInfo": null
     },
     "outputs": []
    },
    {
     "cell_type": "code",
     "collapsed": false,
     "input": [
      "5 > 4"
     ],
     "language": "python",
     "metadata": {
      "cellView": null,
      "executionInfo": null
     },
     "outputs": []
    },
    {
     "cell_type": "code",
     "collapsed": false,
     "input": [
      "5 >= 4"
     ],
     "language": "python",
     "metadata": {
      "cellView": null,
      "executionInfo": null
     },
     "outputs": []
    },
    {
     "cell_type": "code",
     "collapsed": false,
     "input": [
      "4 >= 4"
     ],
     "language": "python",
     "metadata": {
      "cellView": null,
      "executionInfo": null
     },
     "outputs": []
    },
    {
     "cell_type": "code",
     "collapsed": false,
     "input": [
      "4 <= 3"
     ],
     "language": "python",
     "metadata": {
      "cellView": null,
      "executionInfo": null
     },
     "outputs": []
    },
    {
     "cell_type": "code",
     "collapsed": false,
     "input": [
      "5 == 4"
     ],
     "language": "python",
     "metadata": {
      "cellView": null,
      "executionInfo": null
     },
     "outputs": []
    },
    {
     "cell_type": "code",
     "collapsed": false,
     "input": [
      "5 == 5.0"
     ],
     "language": "python",
     "metadata": {
      "cellView": null,
      "executionInfo": null
     },
     "outputs": []
    },
    {
     "cell_type": "code",
     "collapsed": false,
     "input": [
      "5 != 4"
     ],
     "language": "python",
     "metadata": {
      "cellView": null,
      "executionInfo": null
     },
     "outputs": []
    },
    {
     "cell_type": "code",
     "collapsed": false,
     "input": [
      "2 + 2 == 4"
     ],
     "language": "python",
     "metadata": {
      "cellView": null,
      "executionInfo": null
     },
     "outputs": []
    },
    {
     "cell_type": "code",
     "collapsed": false,
     "input": [
      "2 >= 3"
     ],
     "language": "python",
     "metadata": {
      "cellView": null,
      "executionInfo": null
     },
     "outputs": []
    },
    {
     "cell_type": "markdown",
     "metadata": {},
     "source": [
      "What do the following comparison operators do?\n",
      "\n",
      "1. \">\":\n",
      "\n",
      "2. \"<\":\n",
      "\n",
      "3. \">=\":\n",
      "\n",
      "4. \"<=\":\n",
      "\n",
      "5. \"!=\":"
     ]
    },
    {
     "cell_type": "markdown",
     "metadata": {},
     "source": [
      "### Playing with logicals"
     ]
    },
    {
     "cell_type": "markdown",
     "metadata": {},
     "source": [
      "See if the value read in by the first sensor is greater than or equal to .3\n",
      "\n",
      "Store the result in variable boo"
     ]
    },
    {
     "cell_type": "code",
     "collapsed": false,
     "input": [
      "reflectances = r.read_sensors()\n",
      "boo = reflectances[0]>=.3\n",
      "print boo"
     ],
     "language": "python",
     "metadata": {},
     "outputs": [
      {
       "output_type": "stream",
       "stream": "stdout",
       "text": [
        "False\n"
       ]
      }
     ],
     "prompt_number": 93
    },
    {
     "cell_type": "markdown",
     "metadata": {},
     "source": [
      "### Conditionals"
     ]
    },
    {
     "cell_type": "markdown",
     "metadata": {},
     "source": [
      "Play with the code below to understand conditionals."
     ]
    },
    {
     "cell_type": "code",
     "collapsed": false,
     "input": [
      "temp = 0\n",
      "\n",
      "if temp > 8:\n",
      "    print \"hello\"\n",
      "else:\n",
      "    if temp > 4:\n",
      "        print \"bye\"\n",
      "    else:\n",
      "        print \"Your number is too small\"\n",
      "    "
     ],
     "language": "python",
     "metadata": {},
     "outputs": []
    },
    {
     "cell_type": "markdown",
     "metadata": {},
     "source": [
      "Try printing a tuple of **Booleans** (True or False) that indicates if a sensor is on the tape line."
     ]
    },
    {
     "cell_type": "code",
     "collapsed": false,
     "input": [
      "reflectances = r.read_sensors()\n",
      "list = []\n",
      "for i in range(5):\n",
      "    if 0.035 < reflectances[i] < 0.06:\n",
      "        list.append(True)\n",
      "    else:\n",
      "        list.append(False)\n",
      "print list"
     ],
     "language": "python",
     "metadata": {},
     "outputs": [
      {
       "output_type": "stream",
       "stream": "stdout",
       "text": [
        "[True, True, True, True, True]\n"
       ]
      }
     ],
     "prompt_number": 128
    },
    {
     "cell_type": "markdown",
     "metadata": {},
     "source": [
      "### Now let's use sensors while driving the robot"
     ]
    },
    {
     "cell_type": "markdown",
     "metadata": {},
     "source": [
      "Try to do the following:\n",
      "\n",
      "* Set the robot to be perpendicular to some retro reflective tape a few inches away\n",
      "\n",
      "* Let the robot drive until the robot reaches the tape\n",
      "\n",
      "* Run the cell multiple times for varrying distance from the reflective tape.\n",
      "\n",
      "Think about your tests under different lighting conditions and logical operators."
     ]
    },
    {
     "cell_type": "code",
     "collapsed": false,
     "input": [
      "def is_on_line(values):\n",
      "    r = 0\n",
      "    for i in range(5):\n",
      "        if values[i] < 0.6:\n",
      "            r = r + 1\n",
      "    if r>2:\n",
      "        return True\n",
      "    else:\n",
      "        return False\n",
      "while is_on_line(r.read_sensors()) == False:\n",
      "    r.drive(0.1,0.1)\n",
      "    if is_on_line(r.read_sensors()) == True:\n",
      "        r.drive(0,0)\n",
      "    time.sleep(0.01)"
     ],
     "language": "python",
     "metadata": {},
     "outputs": [],
     "prompt_number": 179
    },
    {
     "cell_type": "code",
     "collapsed": false,
     "input": [
      "def drive(left,right): r.drive(left,right)"
     ],
     "language": "python",
     "metadata": {},
     "outputs": [],
     "prompt_number": 155
    },
    {
     "cell_type": "code",
     "collapsed": false,
     "input": [
      "from IPython.html.widgets import interact"
     ],
     "language": "python",
     "metadata": {},
     "outputs": [],
     "prompt_number": 149
    },
    {
     "cell_type": "code",
     "collapsed": false,
     "input": [
      "interact(drive, \n",
      "        left=(-1., 1., .1),\n",
      "        right=(-1., 1., .1))"
     ],
     "language": "python",
     "metadata": {},
     "outputs": [],
     "prompt_number": 156
    },
    {
     "cell_type": "code",
     "collapsed": false,
     "input": [
      "r.drive(0,0)\n",
      "# Your code goes here!~"
     ],
     "language": "python",
     "metadata": {},
     "outputs": [],
     "prompt_number": 188
    },
    {
     "cell_type": "markdown",
     "metadata": {},
     "source": [
      "Now put the robot on reflective tape parallel to it and have it drive until it is off the reflective tape."
     ]
    },
    {
     "cell_type": "code",
     "collapsed": false,
     "input": [
      "def is_on_line(values):\n",
      "    r = 0\n",
      "    for i in range(5):\n",
      "        if values[i] < 0.6:\n",
      "            r = r + 1\n",
      "    if r>2:\n",
      "        return True\n",
      "    else:\n",
      "        return False\n",
      "while is_on_line(r.read_sensors()) == True:\n",
      "    r.drive(0.1,0.1)\n",
      "    time.sleep(0.01)\n",
      "r.drive(0,0)"
     ],
     "language": "python",
     "metadata": {},
     "outputs": [],
     "prompt_number": 190
    },
    {
     "cell_type": "markdown",
     "metadata": {},
     "source": [
      "Congratulations, you are on your way to follow a line!"
     ]
    },
    {
     "cell_type": "heading",
     "level": 3,
     "metadata": {},
     "source": [
      "Reading Joysticks"
     ]
    },
    {
     "cell_type": "markdown",
     "metadata": {},
     "source": [
      "Run the cell below, and try graphing the values using examples above."
     ]
    },
    {
     "cell_type": "markdown",
     "metadata": {},
     "source": [
      "You will need to jiggle the joysticks to read values."
     ]
    },
    {
     "cell_type": "code",
     "collapsed": false,
     "input": [
      "r.read_joysticks()"
     ],
     "language": "python",
     "metadata": {},
     "outputs": []
    },
    {
     "cell_type": "markdown",
     "metadata": {},
     "source": [
      "Try making the robot drive using joysticks."
     ]
    },
    {
     "cell_type": "code",
     "collapsed": false,
     "input": [
      "# Your code goes here!~"
     ],
     "language": "python",
     "metadata": {},
     "outputs": []
    }
   ],
   "metadata": {}
  }
 ]
}