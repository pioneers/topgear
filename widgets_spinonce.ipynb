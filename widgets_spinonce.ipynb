{
 "metadata": {
  "name": "",
  "signature": "sha256:f0818b40a392a8cdd36767b2087afc96604e79f7bc1717d6f08075c72fb9fc2f"
 },
 "nbformat": 3,
 "nbformat_minor": 0,
 "worksheets": [
  {
   "cells": [
    {
     "cell_type": "markdown",
     "metadata": {},
     "source": [
      "<img src=\"http://mirageforum.com/forum/attachment.php?attachmentid=159&d=1370617142\">"
     ]
    },
    {
     "cell_type": "markdown",
     "metadata": {},
     "source": [
      "back to [Index](index.ipynb)"
     ]
    },
    {
     "cell_type": "heading",
     "level": 1,
     "metadata": {},
     "source": [
      "widgets_spinonce"
     ]
    },
    {
     "cell_type": "markdown",
     "metadata": {},
     "source": [
      "* IPython Notebook widgets.spinOnce()"
     ]
    },
    {
     "cell_type": "heading",
     "level": 2,
     "metadata": {},
     "source": [
      "IPython Widgets spinOnce"
     ]
    },
    {
     "cell_type": "markdown",
     "metadata": {},
     "source": [
      "Searching for documentation..."
     ]
    },
    {
     "cell_type": "markdown",
     "metadata": {},
     "source": [
      "#### Traitlet Docs:####\n",
      "http://traitlets.readthedocs.org/en/latest/index.html\n",
      "\n",
      "http://ipython.org/ipython-doc/dev/api/generated/IPython.utils.traitlets.html"
     ]
    },
    {
     "cell_type": "markdown",
     "metadata": {},
     "source": [
      "####ipython docs general####\n",
      "http://ipython.org/ipython-doc/2/index.html"
     ]
    },
    {
     "cell_type": "markdown",
     "metadata": {},
     "source": [
      "#### ipython github wiki####\n",
      "https://github.com/ipython/ipython/wiki\n",
      "\n",
      "not that useful."
     ]
    },
    {
     "cell_type": "markdown",
     "metadata": {},
     "source": [
      "####kernel client####\n",
      "http://nbviewer.ipython.org/gist/minrk/5672711"
     ]
    },
    {
     "cell_type": "heading",
     "level": 3,
     "metadata": {},
     "source": [
      "ipython.org/ipython-doc"
     ]
    },
    {
     "cell_type": "markdown",
     "metadata": {},
     "source": [
      "http://ipython.org/ipython-doc/2/index.html ->\n",
      "\n",
      "http://ipython.org/ipython-doc/2/development/index.html -> \n",
      "\n",
      "http://ipython.org/ipython-doc/2/development/messaging.html -->\n",
      "\n",
      "http://ipython.org/ipython-doc/2/development/messaging.html#comm-messages\n",
      "\n",
      "> Comm messages are one-way communications to update comm state, used for synchronizing widget state, or simply requesting actions of a comm\u2019s counterpart.\n"
     ]
    },
    {
     "cell_type": "heading",
     "level": 3,
     "metadata": {},
     "source": [
      "Searching for widget callback"
     ]
    },
    {
     "cell_type": "code",
     "collapsed": false,
     "input": [
      "ls"
     ],
     "language": "python",
     "metadata": {},
     "outputs": [
      {
       "output_type": "stream",
       "stream": "stdout",
       "text": [
        "2014-07-12.ipynb  index.ipynb\r\n"
       ]
      }
     ],
     "prompt_number": 2
    },
    {
     "cell_type": "code",
     "collapsed": false,
     "input": [
      "cp /projects/0a592ce8-7730-49b4-baed-e8ce6f939851/ipython/ . -r"
     ],
     "language": "python",
     "metadata": {},
     "outputs": [],
     "prompt_number": 5
    },
    {
     "cell_type": "code",
     "collapsed": false,
     "input": [
      "!grep -r 'comm_msg' ."
     ],
     "language": "python",
     "metadata": {},
     "outputs": [
      {
       "output_type": "stream",
       "stream": "stdout",
       "text": [
        "./.ipynb_checkpoints/2014-07-12-checkpoint.ipynb:        \"./ipython/IPython/html/static/services/kernels/js/comm.js:        var msg_types = ['comm_open', 'comm_msg', 'comm_close'];\\r\\n\",\r\n",
        "./.ipynb_checkpoints/2014-07-12-checkpoint.ipynb:        \"./ipython/IPython/kernel/zmq/ipkernel.py:        comm_msg_types = [ 'comm_open', 'comm_msg', 'comm_close' ]\\r\\n\"\r\n"
       ]
      },
      {
       "output_type": "stream",
       "stream": "stdout",
       "text": [
        "./ipython/IPython/html/static/services/kernels/js/comm.js:        var msg_types = ['comm_open', 'comm_msg', 'comm_close'];\r\n",
        "./ipython/IPython/html/static/services/kernels/js/comm.js:    CommManager.prototype.comm_msg = function (msg) {\r\n",
        "./ipython/IPython/html/static/services/kernels/js/comm.js:        return this.kernel.send_shell_message(\"comm_msg\", content, callbacks, metadata);\r\n",
        "./ipython/IPython/html/static/widgets/js/widget.js:                comm.on_msg($.proxy(this._handle_comm_msg, this));\r\n",
        "./ipython/IPython/html/static/widgets/js/widget.js:        _handle_comm_msg: function (msg) {\r\n",
        "./ipython/IPython/kernel/comm/comm.py:        self._publish_msg('comm_msg', data, metadata)\r\n",
        "./ipython/IPython/kernel/comm/comm.py:        \"\"\"Register a callback for comm_msg\r\n",
        "./ipython/IPython/kernel/comm/comm.py:        Will be called with the `data` of any comm_msg messages.\r\n",
        "./ipython/IPython/kernel/comm/comm.py:        \"\"\"Handle a comm_msg message\"\"\"\r\n",
        "./ipython/IPython/kernel/comm/manager.py:    def comm_msg(self, stream, ident, msg):\r\n",
        "./ipython/IPython/kernel/comm/manager.py:        \"\"\"Handler for comm_msg messages\"\"\"\r\n",
        "./ipython/IPython/kernel/comm/manager.py:            self.log.error(\"Exception in comm_msg for %s\", comm_id, exc_info=True)\r\n",
        "./ipython/IPython/kernel/zmq/ipkernel.py:        comm_msg_types = [ 'comm_open', 'comm_msg', 'comm_close' ]\r\n",
        "./ipython/IPython/kernel/zmq/ipkernel.py:        for msg_type in comm_msg_types:\r\n"
       ]
      },
      {
       "output_type": "stream",
       "stream": "stdout",
       "text": [
        "gets/js/manager.js:        WidgetManager.prototype._handle_comm_open = function (comm, msg) {\\r\\n./ipython/IPython/kernel/comm/comm.py:    _open_data = Dict(help=\\\"data dict, if any, to be included in comm_open\\\")\\r\\n./ipython/IPython/kernel/comm/comm.py:        self._publish_msg('comm_open', data, metadata, target_name=self.target_name)\\r\\n./ipython/IPython/kernel/comm/manager.py:        f will be called with two arguments when a comm_open message is received with `target`:\\r\\n./ipython/IPython/kernel/comm/manager.py:        - the `comm_open` message itself.\\r\\n./ipython/IPython/kernel/comm/manager.py:    def comm_open(self, stream, ident, msg):\\r\\n./ipython/IPython/kernel/comm/manager.py:        \\\"\\\"\\\"Handler for comm_open messages\\\"\\\"\\\"\\r\\n./ipython/IPython/kernel/zmq/ipkernel.py:        comm_msg_types = [ 'comm_open', 'comm_msg', 'comm_close' ]\\r\\n\",\"stream\":\"stdout\"}],\"language\":\"python\",\"trusted\":true,\"collapsed\":false}\r\n",
        "./.2014-07-12.ipynb.syncdoc:{\"metadata\":{},\"cell_type\":\"code\",\"input\":\"!grep -r 'comm_open' .\",\"prompt_number\":8,\"outputs\":[{\"output_type\":\"stream\",\"text\":\"./ipython/IPython/html/static/services/kernels/js/comm.js:        var msg_types = ['comm_open', 'comm_msg', 'comm_close'];\\r\\n./ipython/IPython/html/static/services/kernels/js/comm.js:    CommManager.prototype.comm_open = function (msg) {\\r\\n./ipython/IPython/html/static/services/kernels/js/comm.js:        return this.kernel.send_shell_message(\\\"comm_open\\\", content, callbacks, metadata);\\r\\n./ipython/IPython/html/static/widgets/js/manager.js:                that.comm_manager.register_target(model_name, $.proxy(that._handle_comm_open, that));\\r\\n./ipython/IPython/html/static/widgets/js/manager.js:                    instance.comm_manager.register_target(model_name, $.proxy(instance._handle_comm_open, instance));\\r\\n./ipython/IPython/html/static/widgets/js/manager.js:        WidgetManager.prototype._handle_comm_open = function (comm, msg) {\\r\\n./ipython/IPython/kernel/comm/comm.py:    _open_data = Dict(help=\\\"data dict, if any, to be included in comm_open\\\")\\r\\n./ipython/IPython/kernel/comm/comm.py:        self._publish_msg('comm_open', data, metadata, target_name=self.target_name)\\r\\n./ipython/IPython/kernel/comm/manager.py:        f will be called with two arguments when a comm_open message is received with `target`:\\r\\n./ipython/IPython/kernel/comm/manager.py:        - the `comm_open` message itself.\\r\\n./ipython/IPython/kernel/comm/manager.py:    def comm_open(self, stream, ident, msg):\\r\\n./ipython/IPython/kernel/comm/manager.py:        \\\"\\\"\\\"Handler for comm_open messages\\\"\\\"\\\"\\r\\n./ipython/IPython/kernel/zmq/ipkernel.py:        comm_msg_types = [ 'comm_open', 'comm_msg', 'comm_close' ]\\r\\n\",\"stream\":\"stdout\"}],\"language\":\"python\",\"trusted\":true,\"collapsed\":false}\r\n"
       ]
      }
     ],
     "prompt_number": 9
    },
    {
     "cell_type": "code",
     "collapsed": false,
     "input": [
      "!grep -r 'monitor.send(' ."
     ],
     "language": "python",
     "metadata": {},
     "outputs": [
      {
       "output_type": "stream",
       "stream": "stdout",
       "text": [
        "./..2014-07-12.ipynb.syncdoc.sage-backup:{\"metadata\":{},\"cell_type\":\"code\",\"input\":\"!grep -r 'monitor.send(' .\",\"prompt_number\":11,\"outputs\":[],\"language\":\"python\",\"trusted\":true,\"collapsed\":false}\r\n"
       ]
      }
     ],
     "prompt_number": 13
    },
    {
     "cell_type": "markdown",
     "metadata": {},
     "source": [
      "#### Usage ####\n",
      "https://github.com/cournape/traitlets\n",
      "\n",
      "Conclusions: how to use traitlets."
     ]
    },
    {
     "cell_type": "code",
     "collapsed": false,
     "input": [
      "import IPython.utils.traitlets\n",
      "from IPython.utils.traitlets import link, CFloat, Float, HasTraits, Unicode, Long"
     ],
     "language": "python",
     "metadata": {},
     "outputs": [],
     "prompt_number": 18
    },
    {
     "cell_type": "code",
     "collapsed": false,
     "input": [
      "class Employee(HasTraits):\n",
      "    name = Unicode()\n",
      "    age = Long()"
     ],
     "language": "python",
     "metadata": {},
     "outputs": [],
     "prompt_number": 19
    },
    {
     "cell_type": "code",
     "collapsed": false,
     "input": [
      "dilbert = Employee(name=\"dilbert\", age=35)"
     ],
     "language": "python",
     "metadata": {},
     "outputs": [],
     "prompt_number": 27
    },
    {
     "cell_type": "code",
     "collapsed": false,
     "input": [
      "dilbert.age"
     ],
     "language": "python",
     "metadata": {},
     "outputs": [
      {
       "metadata": {},
       "output_type": "pyout",
       "prompt_number": 28,
       "text": [
        "35L"
       ]
      }
     ],
     "prompt_number": 28
    },
    {
     "cell_type": "code",
     "collapsed": false,
     "input": [
      "doug = Employee(name=\"doug\", age=21)"
     ],
     "language": "python",
     "metadata": {},
     "outputs": [],
     "prompt_number": 29
    },
    {
     "cell_type": "code",
     "collapsed": false,
     "input": [
      "link((dilbert, 'age'), (doug, 'age'))"
     ],
     "language": "python",
     "metadata": {},
     "outputs": [
      {
       "metadata": {},
       "output_type": "pyout",
       "prompt_number": 30,
       "text": [
        "<IPython.utils.traitlets.link at 0x262ac10>"
       ]
      }
     ],
     "prompt_number": 30
    },
    {
     "cell_type": "code",
     "collapsed": false,
     "input": [
      "doug.age"
     ],
     "language": "python",
     "metadata": {},
     "outputs": [
      {
       "metadata": {},
       "output_type": "pyout",
       "prompt_number": 31,
       "text": [
        "35L"
       ]
      }
     ],
     "prompt_number": 31
    },
    {
     "cell_type": "code",
     "collapsed": false,
     "input": [
      "dilbert.age=22"
     ],
     "language": "python",
     "metadata": {},
     "outputs": [],
     "prompt_number": 32
    },
    {
     "cell_type": "code",
     "collapsed": false,
     "input": [
      "doug.age"
     ],
     "language": "python",
     "metadata": {},
     "outputs": [
      {
       "metadata": {},
       "output_type": "pyout",
       "prompt_number": 33,
       "text": [
        "22L"
       ]
      }
     ],
     "prompt_number": 33
    },
    {
     "cell_type": "code",
     "collapsed": false,
     "input": [
      "doug.age=60"
     ],
     "language": "python",
     "metadata": {},
     "outputs": [],
     "prompt_number": 34
    },
    {
     "cell_type": "code",
     "collapsed": false,
     "input": [
      "dilbert.age"
     ],
     "language": "python",
     "metadata": {},
     "outputs": [
      {
       "metadata": {},
       "output_type": "pyout",
       "prompt_number": 35,
       "text": [
        "60L"
       ]
      }
     ],
     "prompt_number": 35
    },
    {
     "cell_type": "markdown",
     "metadata": {},
     "source": [
      "Next: see how the widgets interface with javascript"
     ]
    },
    {
     "cell_type": "markdown",
     "metadata": {},
     "source": [
      "#### API#####\n",
      "http://ipython.org/ipython-doc/2/api/index.html"
     ]
    },
    {
     "cell_type": "markdown",
     "metadata": {},
     "source": [
      "#### Looking at previous custom widget implementation ####\n",
      "[battlecruiser_widget.ipynb](../battlecruiser_widget.ipynb)"
     ]
    },
    {
     "cell_type": "code",
     "collapsed": false,
     "input": [
      "from IPython.html import widgets # Widget definitions\n",
      "from IPython.display import display # Used to display widgets in the notebook\n",
      "from IPython.utils.traitlets import Unicode # Used to declare attributes of our widget\n",
      "from IPython.display import HTML, Javascript\n",
      "from IPython.html.widgets.widget_bool import _BoolWidget\n",
      "from IPython.html.widgets.widget_float import _FloatWidget\n",
      "from IPython.utils.traitlets import CInt, CFloat, Unicode\n",
      "from IPython.html.widgets.widget import DOMWidget\n",
      "\n",
      "class BattleCruiserView(DOMWidget):\n",
      "    _view_name = Unicode('BattleCruiserView', sync=True)\n",
      "    value = CFloat(0.0, help=\"Float value\", sync=True)\n",
      "    axis_id = CInt(0, help='axis_id', sync=True)\n",
      "    x = CFloat(0.0, help=\"Position (x) of the battlecruiser\", sync=True)\n",
      "    y = CFloat(0.0, help=\"Position (y) of the battlecruiser\", sync=True)\n",
      "    theta = CFloat(0.0, help=\"Orientation (degrees) of the battlecruiser\", sync=True)\n",
      "    mouse_x = CFloat(0.0, help=\"Position (x) of the cursor\", sync=True)\n",
      "    mouse_y = CFloat(0.0, help=\"Position (y) of the cursor\", sync=True)\n",
      "    description = Unicode('', help=\"Description of the float (label).\", sync=True)"
     ],
     "language": "python",
     "metadata": {},
     "outputs": [],
     "prompt_number": 38
    },
    {
     "cell_type": "markdown",
     "metadata": {},
     "source": [
      "DomWidget extends Widget extends LoggingConfigurable extends Configurable extends HasTraits\n",
      "\n",
      "> class DOMWidget(Widget):\n",
      "\n",
      "The Widget class appears to contain the callbacks!"
     ]
    },
    {
     "cell_type": "code",
     "collapsed": false,
     "input": [
      "!grep -r 'class LoggingConfigurable' ."
     ],
     "language": "python",
     "metadata": {},
     "outputs": [
      {
       "output_type": "stream",
       "stream": "stdout",
       "text": [
        "./ipython/IPython/config/configurable.py:class LoggingConfigurable(Configurable):\r\n"
       ]
      }
     ],
     "prompt_number": 41
    },
    {
     "cell_type": "markdown",
     "metadata": {},
     "source": [
      "####Testing...#####"
     ]
    },
    {
     "cell_type": "code",
     "collapsed": false,
     "input": [
      "slider=widgets.FloatSliderWidget()"
     ],
     "language": "python",
     "metadata": {},
     "outputs": [],
     "prompt_number": 43
    },
    {
     "cell_type": "code",
     "collapsed": false,
     "input": [
      "slider"
     ],
     "language": "python",
     "metadata": {},
     "outputs": [],
     "prompt_number": 44
    },
    {
     "cell_type": "code",
     "collapsed": false,
     "input": [
      "slider.value"
     ],
     "language": "python",
     "metadata": {},
     "outputs": [
      {
       "metadata": {},
       "output_type": "pyout",
       "prompt_number": 46,
       "text": [
        "100.0"
       ]
      }
     ],
     "prompt_number": 46
    },
    {
     "cell_type": "code",
     "collapsed": false,
     "input": [
      "import time\n",
      "for i in range (5):\n",
      "    print(slider.value)\n",
      "    time.sleep(1)"
     ],
     "language": "python",
     "metadata": {},
     "outputs": [
      {
       "output_type": "stream",
       "stream": "stdout",
       "text": [
        "100.0\n",
        "100.0"
       ]
      },
      {
       "output_type": "stream",
       "stream": "stdout",
       "text": [
        "\n",
        "100.0"
       ]
      },
      {
       "output_type": "stream",
       "stream": "stdout",
       "text": [
        "\n",
        "100.0"
       ]
      },
      {
       "output_type": "stream",
       "stream": "stdout",
       "text": [
        "\n",
        "100.0"
       ]
      },
      {
       "output_type": "stream",
       "stream": "stdout",
       "text": [
        "\n"
       ]
      }
     ],
     "prompt_number": 48
    },
    {
     "cell_type": "markdown",
     "metadata": {},
     "source": [
      "Slider doesn't update."
     ]
    },
    {
     "cell_type": "markdown",
     "metadata": {},
     "source": [
      "Widget: receiving state\n",
      "\n",
      "```python\n",
      "class Widget(LoggingConfigurable):\n",
      "    def _handle_receive_state(self, sync_data):\n",
      "        \"\"\"Called when a state is received from the front-end.\"\"\"\n",
      "        for name in self.keys:\n",
      "            if name in sync_data:\n",
      "                value = self._unpack_widgets(sync_data[name])\n",
      "                with self._lock_property(name, value):\n",
      "                    setattr(self, name, value)\n",
      "\n",
      "```"
     ]
    },
    {
     "cell_type": "markdown",
     "metadata": {},
     "source": [
      "Widget: general callback\n",
      "\n",
      "```python\n",
      "class Widget(LoggingConfigurable):\n",
      "    # Event handlers\n",
      "    @_show_traceback\n",
      "    def _handle_msg(self, msg):\n",
      "        \"\"\"Called when a msg is received from the front-end\"\"\"\n",
      "        data = msg['content']['data']\n",
      "        method = data['method']\n",
      "        if not method in ['backbone', 'custom']:\n",
      "            self.log.error('Unknown front-end to back-end widget msg with method \"%s\"' % method)\n",
      "\n",
      "        # Handle backbone sync methods CREATE, PATCH, and UPDATE all in one.\n",
      "        if method == 'backbone' and 'sync_data' in data:\n",
      "            sync_data = data['sync_data']\n",
      "            self._handle_receive_state(sync_data) # handles all methods\n",
      "\n",
      "        # Handle a custom msg from the front-end\n",
      "        elif method == 'custom':\n",
      "            if 'content' in data:\n",
      "                self._handle_custom_msg(data['content'])\n",
      "```"
     ]
    },
    {
     "cell_type": "markdown",
     "metadata": {},
     "source": [
      "Widget: Registering callbacks\n",
      "```python\n",
      "class Widget(LoggingConfigurable):\n",
      "    @property\n",
      "    def comm(self):\n",
      "        \"\"\"Gets the Comm associated with this widget.\n",
      "\n",
      "        If a Comm doesn't exist yet, a Comm will be created automagically.\"\"\"\n",
      "        if self._comm is None:\n",
      "            # Create a comm.\n",
      "            self._comm = Comm(target_name=self._model_name)\n",
      "            self._comm.on_msg(self._handle_msg)\n",
      "            self._comm.on_close(self._close)\n",
      "            Widget.widgets[self.model_id] = self\n",
      "\n",
      "            # first update\n",
      "            self.send_state()\n",
      "        return self._comm\n",
      "```"
     ]
    },
    {
     "cell_type": "markdown",
     "metadata": {},
     "source": [
      "####IPython/kernel/comm/comm.py!####\n",
      "Comm extends LoggingConfigurable extends Configurable extends HasTraits"
     ]
    },
    {
     "cell_type": "markdown",
     "metadata": {},
     "source": [
      "Comm: handling comm message\n",
      "```python\n",
      "class Comm(LoggingConfigurable):\n",
      "    def handle_msg(self, msg):\n",
      "        \"\"\"Handle a comm_msg message\"\"\"\n",
      "        self.log.debug(\"handle_msg[%s](%s)\", self.comm_id, msg)\n",
      "        if self._msg_callback:\n",
      "            self.shell.events.trigger('pre_execute')\n",
      "            self._msg_callback(msg)\n",
      "            self.shell.events.trigger('post_execute')\n",
      "            \n",
      "```\n"
     ]
    },
    {
     "cell_type": "markdown",
     "metadata": {},
     "source": [
      "Comm: sending messages\n",
      "```python\n",
      "class Comm(LoggingConfigurable):\n",
      "    def _publish_msg(self, msg_type, data=None, metadata=None, **keys):\n",
      "        \"\"\"Helper for sending a comm message on IOPub\"\"\"\n",
      "        data = {} if data is None else data\n",
      "        metadata = {} if metadata is None else metadata\n",
      "        content = json_clean(dict(data=data, comm_id=self.comm_id, **keys))\n",
      "        self.session.send(self.iopub_socket, msg_type,\n",
      "            content,\n",
      "            metadata=json_clean(metadata),\n",
      "            parent=self.shell.get_parent(),\n",
      "            ident=self.topic,\n",
      "        )\n",
      "    def send(self, data=None, metadata=None):\n",
      "        \"\"\"Send a message to the frontend-side version of this comm\"\"\"\n",
      "        self._publish_msg('comm_msg', data, metadata)\n",
      "```"
     ]
    },
    {
     "cell_type": "markdown",
     "metadata": {},
     "source": [
      "Who registers this callback? Who calls this?"
     ]
    },
    {
     "cell_type": "code",
     "collapsed": false,
     "input": [
      "!grep -r 'handle_msg' ."
     ],
     "language": "python",
     "metadata": {},
     "outputs": [
      {
       "output_type": "stream",
       "stream": "stdout",
       "text": [
        "./.ipynb_checkpoints/2014-07-12-checkpoint.ipynb:      \"    def _handle_msg(self, msg):\\n\",\r\n",
        "./.ipynb_checkpoints/2014-07-12-checkpoint.ipynb:      \"            self._comm.on_msg(self._handle_msg)\\n\",\r\n",
        "./.ipynb_checkpoints/2014-07-12-checkpoint.ipynb:      \"    def handle_msg(self, msg):\\n\",\r\n",
        "./.ipynb_checkpoints/2014-07-12-checkpoint.ipynb:      \"        self.log.debug(\\\"handle_msg[%s](%s)\\\", self.comm_id, msg)\\n\",\r\n"
       ]
      },
      {
       "output_type": "stream",
       "stream": "stdout",
       "text": [
        "./ipython/IPython/html/static/services/kernels/js/comm.js:            comm.handle_msg(msg);\r\n",
        "./ipython/IPython/html/static/services/kernels/js/comm.js:    Comm.prototype.handle_msg = function (msg) {\r\n",
        "./ipython/IPython/html/widgets/widget.py:            self._comm.on_msg(self._handle_msg)\r\n",
        "./ipython/IPython/html/widgets/widget.py:    def _handle_msg(self, msg):\r\n",
        "./ipython/IPython/kernel/comm/comm.py:    def handle_msg(self, msg):\r\n",
        "./ipython/IPython/kernel/comm/comm.py:        self.log.debug(\"handle_msg[%s](%s)\", self.comm_id, msg)\r\n",
        "./ipython/IPython/kernel/comm/manager.py:            comm.handle_msg(msg)\r\n"
       ]
      },
      {
       "output_type": "stream",
       "stream": "stdout",
       "text": [
        "       data = msg['content']['data']\\n        method = data['method']\\n        if not method in ['backbone', 'custom']:\\n            self.log.error('Unknown front-end to back-end widget msg with method \\\"%s\\\"' % method)\\n\\n        # Handle backbone sync methods CREATE, PATCH, and UPDATE all in one.\\n        if method == 'backbone' and 'sync_data' in data:\\n            sync_data = data['sync_data']\\n            self._handle_receive_state(sync_data) # handles all methods\\n\\n        # Handle a custom msg from the front-end\\n        elif method == 'custom':\\n            if 'content' in data:\\n                self._handle_custom_msg(data['content'])\\n```\"}\r\n",
        "./..2014-07-12.ipynb.syncdoc.sage-backup:{\"metadata\":{},\"cell_type\":\"markdown\",\"source\":\"Widget: Registering callbacks\\n```python\\nclass Widget(LoggingConfigurable):\\n    @property\\n    def comm(self):\\n        \\\"\\\"\\\"Gets the Comm associated with this widget.\\n\\n        If a Comm doesn't exist yet, a Comm will be created automagically.\\\"\\\"\\\"\\n        if self._comm is None:\\n            # Create a comm.\\n            self._comm = Comm(target_name=self._model_name)\\n            self._comm.on_msg(self._handle_msg)\\n            self._comm.on_close(self._close)\\n            Widget.widgets[self.model_id] = self\\n\\n            # first update\\n            self.send_state()\\n        return self._comm\\n```\"}\r\n",
        "./..2014-07-12.ipynb.syncdoc.sage-backup:{\"metadata\":{},\"cell_type\":\"markdown\",\"source\":\"Comm: handling comm message\\n```python\\nclass Comm(LoggingConfigurable):\\n    def handle_msg(self, msg):\\n        \\\"\\\"\\\"Handle a comm_msg message\\\"\\\"\\\"\\n        self.log.debug(\\\"handle_msg[%s](%s)\\\", self.comm_id, msg)\\n        if self._msg_callback:\\n            self.shell.events.trigger('pre_execute')\\n            self._msg_callback(msg)\\n            self.shell.events.trigger('post_execute')\\n            \\n```\\n\"}\r\n",
        "./.2014-07-12.ipynb.syncdoc:{\"metadata\":{},\"cell_type\":\"markdown\",\"source\":\"Widget: general callback\\n\\n```python\\nclass Widget(LoggingConfigurable):\\n    # Event handlers\\n    @_show_traceback\\n    def _handle_msg(self, msg):\\n        \\\"\\\"\\\"Called when a msg is received from the front-end\\\"\\\"\\\"\\n        data = msg['content']['data']\\n        method = data['method']\\n        if not method in ['backbone', 'custom']:\\n            self.log.error('Unknown front-end to back-end widget msg with method \\\"%s\\\"' % method)\\n\\n        # Handle backbone sync methods CREATE, PATCH, and UPDATE all in one.\\n        if method == 'backbone' and 'sync_data' in data:\\n            sync_data = data['sync_data']\\n            self._handle_receive_state(sync_data) # handles all methods\\n\\n        # Handle a custom msg from the front-end\\n        elif method == 'custom':\\n            if 'content' in data:\\n                self._handle_custom_msg(data['content'])\\n```\"}\r\n",
        "./.2014-07-12.ipynb.syncdoc:{\"metadata\":{},\"cell_type\":\"markdown\",\"source\":\"Widget: Registering callbacks\\n```python\\nclass Widget(LoggingConfigurable):\\n    @property\\n    def comm(self):\\n        \\\"\\\"\\\"Gets the Comm associated with this widget.\\n\\n        If a Comm doesn't exist yet, a Comm will be created automagically.\\\"\\\"\\\"\\n        if self._comm is None:\\n            # Create a comm.\\n            self._comm = Comm(target_name=self._model_name)\\n            self._comm.on_msg(self._handle_msg)\\n            self._comm.on_close(self._close)\\n            Widget.widgets[self.model_id] = self\\n\\n            # first update\\n            self.send_state()\\n        return self._comm\\n```\"}\r\n",
        "./.2014-07-12.ipynb.syncdoc:{\"metadata\":{},\"cell_type\":\"markdown\",\"source\":\"Comm: handling comm message\\n```python\\nclass Comm(LoggingConfigurable):\\n    def handle_msg(self, msg):\\n        \\\"\\\"\\\"Handle a comm_msg message\\\"\\\"\\\"\\n        self.log.debug(\\\"handle_msg[%s](%s)\\\", self.comm_id, msg)\\n        if self._msg_callback:\\n            self.shell.events.trigger('pre_execute')\\n            self._msg_callback(msg)\\n            self.shell.events.trigger('post_execute')\\n            \\n```\\n\"}\r\n"
       ]
      }
     ],
     "prompt_number": 50
    },
    {
     "cell_type": "markdown",
     "metadata": {},
     "source": [
      "What are: the \n",
      "* `shell`\n",
      "* `io_pub`\n",
      "* `session`"
     ]
    },
    {
     "cell_type": "markdown",
     "metadata": {},
     "source": [
      "initialized:\n",
      "\n",
      "```python\n",
      "class Comm(LoggingConfigurable):\n",
      "    shell = Instance('IPython.core.interactiveshell.InteractiveShellABC')\n",
      "    def _shell_default(self):\n",
      "        return get_ipython()\n",
      "    \n",
      "    iopub_socket = Any()\n",
      "    def _iopub_socket_default(self):\n",
      "        return self.shell.kernel.iopub_socket\n",
      "    session = Instance('IPython.kernel.zmq.session.Session')\n",
      "    def _session_default(self):\n",
      "        if self.shell is None:\n",
      "            return\n",
      "        return self.shell.kernel.session\n",
      "```"
     ]
    },
    {
     "cell_type": "markdown",
     "metadata": {},
     "source": [
      "What are: \n",
      "* `Any`\n",
      "* `Instance`\n",
      "* `get_ipython`\n",
      "* these classes"
     ]
    },
    {
     "cell_type": "markdown",
     "metadata": {},
     "source": [
      "InteractiveShellABC:\n",
      "```python   \n",
      "class InteractiveShellABC(with_metaclass(abc.ABCMeta, object)):\n",
      "    \"\"\"An abstract base class for InteractiveShell.\"\"\"\n",
      "\n",
      "InteractiveShellABC.register(InteractiveShell)\n",
      "class InteractiveShell(SingletonConfigurable):\n",
      "    \"\"\"An enhanced, interactive shell for Python.\"\"\"\n",
      "\n",
      "```"
     ]
    },
    {
     "cell_type": "markdown",
     "metadata": {},
     "source": [
      "IPython.kernel.zmq.session.Session:\n",
      "```python\n",
      "class Session(Configurable):\n",
      "    \"\"\"Object for handling serialization and sending of messages.\n",
      "\n",
      "    The Session object handles building messages and sending them\n",
      "    with ZMQ sockets or ZMQStream objects.  Objects can communicate with each\n",
      "    other over the network via Session objects, and only need to work with the\n",
      "    dict-based IPython message spec. The Session will handle\n",
      "    serialization/deserialization, security, and metadata.\n",
      "\n",
      "    Sessions support configurable serialiization via packer/unpacker traits,\n",
      "    and signing with HMAC digests via the key/keyfile traits.\n",
      "    \"\"\"\n",
      "```"
     ]
    },
    {
     "cell_type": "markdown",
     "metadata": {},
     "source": [
      "\n",
      "\n",
      "Comm hasa IPython.core.interactiveshell.InteractiveShellABC"
     ]
    },
    {
     "cell_type": "code",
     "collapsed": false,
     "input": [],
     "language": "python",
     "metadata": {},
     "outputs": []
    }
   ],
   "metadata": {}
  }
 ]
}