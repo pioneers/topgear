{
 "metadata": {
  "colabVersion": "0.1",
  "name": "",
  "signature": "sha256:2710e1525a067e514b438b8e4c5b2cb6b23f5feb3ef72ab509837919cb2a29dd"
 },
 "nbformat": 3,
 "nbformat_minor": 0,
 "worksheets": [
  {
   "cells": [
    {
     "cell_type": "markdown",
     "metadata": {},
     "source": [
      "<img src=\"http://mirageforum.com/forum/attachment.php?attachmentid=159&d=1370617142\">"
     ]
    },
    {
     "cell_type": "markdown",
     "metadata": {},
     "source": [
      "back to [Index](index.ipynb)"
     ]
    },
    {
     "cell_type": "markdown",
     "metadata": {},
     "source": [
      "### Important Information"
     ]
    },
    {
     "cell_type": "markdown",
     "metadata": {},
     "source": [
      "The API:\n",
      "\n",
      "r.drive(left, right) makes the motors move. The values range from -1 to 1."
     ]
    },
    {
     "cell_type": "heading",
     "level": 1,
     "metadata": {},
     "source": [
      "Quickstart-Robot"
     ]
    },
    {
     "cell_type": "markdown",
     "metadata": {},
     "source": [
      "Let's make a robot drive forward:"
     ]
    },
    {
     "cell_type": "markdown",
     "metadata": {},
     "source": [
      "<div class=\"alert alert-success\">\n",
      "Click on the cell below, and press `SHIFT` + `ENTER` to run\n",
      "</div>"
     ]
    },
    {
     "cell_type": "code",
     "collapsed": false,
     "input": [
      "import lbot, time, IPython, sys, time\n",
      "r = lbot.Robot()\n",
      "r.drive(.1, .1)"
     ],
     "language": "python",
     "metadata": {
      "cellView": null,
      "executionInfo": null
     },
     "outputs": [],
     "prompt_number": 15
    },
    {
     "cell_type": "markdown",
     "metadata": {},
     "source": [
      "The robot should now be driving forward!\n",
      "\n",
      "Stop the robot by running the cell below:"
     ]
    },
    {
     "cell_type": "code",
     "collapsed": false,
     "input": [
      "r.drive(0,0)"
     ],
     "language": "python",
     "metadata": {
      "cellView": null,
      "executionInfo": null
     },
     "outputs": [],
     "prompt_number": 16
    },
    {
     "cell_type": "heading",
     "level": 3,
     "metadata": {},
     "source": [
      "Robot Commands"
     ]
    },
    {
     "cell_type": "markdown",
     "metadata": {},
     "source": [
      "In the empty cell below, try making the robot spin to the right:"
     ]
    },
    {
     "cell_type": "markdown",
     "metadata": {},
     "source": [
      "<div class=\"alert alert-success\">\n",
      "Click on the cell below (\"Your code goes here!~\") and start typing code!\n",
      "</div>"
     ]
    },
    {
     "cell_type": "code",
     "collapsed": false,
     "input": [
      "r.drive(.2, .05)"
     ],
     "language": "python",
     "metadata": {
      "cellView": null,
      "executionInfo": null
     },
     "outputs": [],
     "prompt_number": 13
    },
    {
     "cell_type": "markdown",
     "metadata": {},
     "source": [
      "Then, in the empty cell below, try to make the robot stop."
     ]
    },
    {
     "cell_type": "code",
     "collapsed": false,
     "input": [
      "r.drive(0,0)"
     ],
     "language": "python",
     "metadata": {
      "cellView": null,
      "executionInfo": null
     },
     "outputs": [],
     "prompt_number": 14
    },
    {
     "cell_type": "markdown",
     "metadata": {},
     "source": [
      "now, try making the robot drive backwards:"
     ]
    },
    {
     "cell_type": "code",
     "collapsed": false,
     "input": [
      "r.drive(-.1, -.1)"
     ],
     "language": "python",
     "metadata": {
      "cellView": null,
      "executionInfo": null
     },
     "outputs": [],
     "prompt_number": 11
    },
    {
     "cell_type": "heading",
     "level": 3,
     "metadata": {},
     "source": [
      "How to use this interface"
     ]
    },
    {
     "cell_type": "markdown",
     "metadata": {},
     "source": [
      "These code blocks are called cells."
     ]
    },
    {
     "cell_type": "markdown",
     "metadata": {},
     "source": [
      "The menu and toolbar:\n",
      "<img src=\"ipython-in-depth/examples/Notebook/images/menubar_toolbar.png\">"
     ]
    },
    {
     "cell_type": "markdown",
     "metadata": {},
     "source": [
      "Try clicking on `Insert` ==> `Insert Cell Below`."
     ]
    },
    {
     "cell_type": "code",
     "collapsed": false,
     "input": [],
     "language": "python",
     "metadata": {},
     "outputs": []
    },
    {
     "cell_type": "heading",
     "level": 3,
     "metadata": {},
     "source": [
      "Fancy Robot Commands"
     ]
    },
    {
     "cell_type": "markdown",
     "metadata": {},
     "source": [
      "By making new cells below this one, try commanding the robot to drive in different radius circles."
     ]
    },
    {
     "cell_type": "markdown",
     "metadata": {},
     "source": [
      "Make a cell below here that spins the robot in ~5 inch diameter circles. (Don't spend too much time tuning)"
     ]
    },
    {
     "cell_type": "code",
     "collapsed": false,
     "input": [
      "r.drive(.2, -.025)"
     ],
     "language": "python",
     "metadata": {
      "cellView": null,
      "executionInfo": null
     },
     "outputs": [],
     "prompt_number": 62
    },
    {
     "cell_type": "code",
     "collapsed": false,
     "input": [
      "r.drive(0,0)"
     ],
     "language": "python",
     "metadata": {},
     "outputs": [],
     "prompt_number": 63
    },
    {
     "cell_type": "markdown",
     "metadata": {},
     "source": [
      "Make a cell below here that spins the robot in ~10 inch diameter circles. (Don't spend too much time tuning)"
     ]
    },
    {
     "cell_type": "code",
     "collapsed": false,
     "input": [
      "r.drive(.6,.05)"
     ],
     "language": "python",
     "metadata": {
      "cellView": null,
      "executionInfo": null
     },
     "outputs": [],
     "prompt_number": 77
    },
    {
     "cell_type": "code",
     "collapsed": false,
     "input": [
      "r.drive(0,0)\n"
     ],
     "language": "python",
     "metadata": {},
     "outputs": [],
     "prompt_number": 89
    },
    {
     "cell_type": "heading",
     "level": 3,
     "metadata": {},
     "source": [
      "Robot Trajectories"
     ]
    },
    {
     "cell_type": "markdown",
     "metadata": {},
     "source": [
      "Commands can be strung together to make a robot follow paths."
     ]
    },
    {
     "cell_type": "markdown",
     "metadata": {},
     "source": [
      "Compare the behavior of the two cells, and try to record an explaination:"
     ]
    },
    {
     "cell_type": "code",
     "collapsed": false,
     "input": [
      "r.drive(0,.2)\n",
      "r.drive(0,0)"
     ],
     "language": "python",
     "metadata": {
      "cellView": null,
      "executionInfo": null
     },
     "outputs": [],
     "prompt_number": 79
    },
    {
     "cell_type": "markdown",
     "metadata": {},
     "source": [
      "<div class=\"alert alert-success\">\n",
      "Double click on the cell below (\"What happened: Why:\") to record your thoughts. Press `SHIFT` + `ENTER` to render the text.\n",
      "</div>"
     ]
    },
    {
     "cell_type": "markdown",
     "metadata": {},
     "source": [
      "What happened: The robot moved a little then stopped\n",
      "\n",
      "Why: The lines got executed one after another"
     ]
    },
    {
     "cell_type": "code",
     "collapsed": false,
     "input": [
      "r.drive(.15,.15)\n",
      "time.sleep(.5)\n",
      "r.drive(0,0)"
     ],
     "language": "python",
     "metadata": {
      "cellView": null,
      "executionInfo": null
     },
     "outputs": [],
     "prompt_number": 80
    },
    {
     "cell_type": "markdown",
     "metadata": {},
     "source": [
      "What happened: THe robot moved quite a bit then stopped\n",
      "\n",
      "Why: the time.sleep line allowed the code above to last for a longer amount of time so it continued driving lonver"
     ]
    },
    {
     "cell_type": "heading",
     "level": 3,
     "metadata": {},
     "source": [
      " Using Robot Trajectories with Sleep"
     ]
    },
    {
     "cell_type": "markdown",
     "metadata": {},
     "source": [
      "\n"
     ]
    },
    {
     "cell_type": "markdown",
     "metadata": {},
     "source": [
      "Try making the robot turn 90 degrees using what you've learned (hint: time.sleep might help!)"
     ]
    },
    {
     "cell_type": "code",
     "collapsed": false,
     "input": [
      "r.drive(.3,-.3)\n",
      "time.sleep(.5)\n",
      "r.drive(0,0)"
     ],
     "language": "python",
     "metadata": {
      "cellView": null,
      "executionInfo": null
     },
     "outputs": [],
     "prompt_number": 83
    },
    {
     "cell_type": "markdown",
     "metadata": {},
     "source": [
      "Try making the robot drive 5 inches."
     ]
    },
    {
     "cell_type": "code",
     "collapsed": false,
     "input": [
      "r.drive(.15,.15)\n",
      "time.sleep(.5)\n",
      "r.drive(0,0)"
     ],
     "language": "python",
     "metadata": {
      "cellView": null,
      "executionInfo": null
     },
     "outputs": [],
     "prompt_number": 84
    },
    {
     "cell_type": "markdown",
     "metadata": {},
     "source": [
      "Now, use these together to make the robot drive forwards, turn 180 degrees, drive back, and then turn back to the original angle."
     ]
    },
    {
     "cell_type": "code",
     "collapsed": false,
     "input": [
      "r.drive(.15,.15)\n",
      "time.sleep(.5)\n",
      "r.drive(0,0)\n",
      "\n",
      "r.drive(.3,-.3)\n",
      "time.sleep(.9)\n",
      "r.drive(0,0)\n",
      "\n",
      "r.drive(.15,.15)\n",
      "time.sleep(.5)\n",
      "r.drive(0,0)"
     ],
     "language": "python",
     "metadata": {
      "cellView": null,
      "executionInfo": null
     },
     "outputs": [],
     "prompt_number": 87
    },
    {
     "cell_type": "heading",
     "level": 3,
     "metadata": {},
     "source": [
      " Variables"
     ]
    },
    {
     "cell_type": "markdown",
     "metadata": {},
     "source": [
      "We can pass variables to functions:"
     ]
    },
    {
     "cell_type": "code",
     "collapsed": false,
     "input": [
      "left = .1\n",
      "right = .1\n",
      "\n",
      "r.drive(left, right)"
     ],
     "language": "python",
     "metadata": {
      "cellView": null,
      "executionInfo": null
     },
     "outputs": [],
     "prompt_number": 88
    },
    {
     "cell_type": "markdown",
     "metadata": {},
     "source": [
      "We can also assign variables:"
     ]
    },
    {
     "cell_type": "code",
     "collapsed": false,
     "input": [
      "left = .1\n",
      "right = .1\n",
      "\n",
      "print left\n",
      "print right\n",
      "\n",
      "left = left * 2\n",
      "\n",
      "print left\n",
      "print right\n",
      "\n",
      "r.drive(left, right)\n"
     ],
     "language": "python",
     "metadata": {
      "cellView": null,
      "executionInfo": null
     },
     "outputs": [
      {
       "output_type": "stream",
       "stream": "stdout",
       "text": [
        "0.1\n",
        "0.1\n",
        "0.2\n",
        "0.1\n"
       ]
      }
     ],
     "prompt_number": 90
    },
    {
     "cell_type": "code",
     "collapsed": false,
     "input": [
      "r.drive(0,0)"
     ],
     "language": "python",
     "metadata": {},
     "outputs": [],
     "prompt_number": 69
    },
    {
     "cell_type": "code",
     "collapsed": false,
     "input": [
      "for i in range(10):\n",
      "    value = i*5\n",
      "    print i\n",
      "    print value\n",
      "    "
     ],
     "language": "python",
     "metadata": {
      "cellView": null,
      "executionInfo": null
     },
     "outputs": [
      {
       "output_type": "stream",
       "stream": "stdout",
       "text": [
        "0\n",
        "0\n",
        "1\n",
        "5\n",
        "2\n",
        "10\n",
        "3\n",
        "15\n",
        "4\n",
        "20\n",
        "5\n",
        "25\n",
        "6\n",
        "30\n",
        "7\n",
        "35\n",
        "8\n",
        "40\n",
        "9\n",
        "45\n"
       ]
      }
     ],
     "prompt_number": 101
    },
    {
     "cell_type": "heading",
     "level": 3,
     "metadata": {},
     "source": [
      " Using Robot Trajectories With loops\n"
     ]
    },
    {
     "cell_type": "markdown",
     "metadata": {},
     "source": [
      "Now, using the for loop, make a robot drive in a square:"
     ]
    },
    {
     "cell_type": "code",
     "collapsed": false,
     "input": [
      "for i in range(4):\n",
      "    r.drive(.15,.15)\n",
      "    time.sleep(.5)\n",
      "    r.drive(0,0)\n",
      "\n",
      "    r.drive(.3,-.3)\n",
      "    time.sleep(.5)\n",
      "    r.drive(0,0)\n",
      "\n",
      "    r.drive(.15,.15)\n",
      "    time.sleep(.5)\n",
      "    r.drive(0,0)"
     ],
     "language": "python",
     "metadata": {
      "cellView": null,
      "executionInfo": null
     },
     "outputs": [],
     "prompt_number": 95
    },
    {
     "cell_type": "heading",
     "level": 3,
     "metadata": {},
     "source": [
      " Sensors"
     ]
    },
    {
     "cell_type": "markdown",
     "metadata": {},
     "source": [
      "Run the cell below a couple times under various lighting conditions.\n",
      "For example, try:\n",
      "* facing up\n",
      "* on retro-reflective tape\n",
      "* on carpet\n",
      "* on the table surface"
     ]
    },
    {
     "cell_type": "markdown",
     "metadata": {},
     "source": [
      "<div class=\"alert alert-success\">\n",
      "Press `CTRL` + `ENTER` to run a cell repeatedly while the cell is selected\n",
      "</div>"
     ]
    },
    {
     "cell_type": "code",
     "collapsed": false,
     "input": [
      "reflectances = r.read_sensors()\n",
      "print reflectances\n",
      "print len(reflectances)"
     ],
     "language": "python",
     "metadata": {},
     "outputs": [
      {
       "output_type": "stream",
       "stream": "stdout",
       "text": [
        "(0.5501831769943237, 0.16239316761493683, 0.058363862335681915, 0.11428572237491608, 0.07130647450685501, 0.35164836049079895)\n",
        "6\n"
       ]
      }
     ],
     "prompt_number": 37
    },
    {
     "cell_type": "markdown",
     "metadata": {},
     "source": [
      "The output of `read_sensors` is a **tuple**: a group of values."
     ]
    },
    {
     "cell_type": "code",
     "collapsed": false,
     "input": [
      "tups = (12, -1)\n",
      "print tups\n",
      "print len(tups)"
     ],
     "language": "python",
     "metadata": {},
     "outputs": [
      {
       "output_type": "stream",
       "stream": "stdout",
       "text": [
        "(12, -1)\n",
        "2\n"
       ]
      }
     ],
     "prompt_number": 38
    },
    {
     "cell_type": "code",
     "collapsed": false,
     "input": [
      "print tups[0]\n",
      "print tups[1]"
     ],
     "language": "python",
     "metadata": {},
     "outputs": [
      {
       "output_type": "stream",
       "stream": "stdout",
       "text": [
        "12\n",
        "-1\n"
       ]
      }
     ],
     "prompt_number": 27
    },
    {
     "cell_type": "markdown",
     "metadata": {},
     "source": [
      "Use the examples above to print out the value of the third reflectance sensor."
     ]
    },
    {
     "cell_type": "code",
     "collapsed": false,
     "input": [
      "# Your code goes here!~"
     ],
     "language": "python",
     "metadata": {},
     "outputs": [],
     "prompt_number": 28
    },
    {
     "cell_type": "markdown",
     "metadata": {},
     "source": [
      "Use your knowlege of loops and tuples to print all the values of read_sensors."
     ]
    },
    {
     "cell_type": "code",
     "collapsed": false,
     "input": [
      "# Your code goes here!~\n",
      "for i in range(len(reflectances)):\n",
      "    print reflectances[i]"
     ],
     "language": "python",
     "metadata": {},
     "outputs": [
      {
       "output_type": "stream",
       "stream": "stdout",
       "text": [
        "0.550183176994\n",
        "0.162393167615\n",
        "0.0583638623357\n",
        "0.114285722375\n",
        "0.0713064745069\n",
        "0.351648360491\n"
       ]
      }
     ],
     "prompt_number": 65
    },
    {
     "cell_type": "heading",
     "level": 3,
     "metadata": {},
     "source": [
      "Streaming data"
     ]
    },
    {
     "cell_type": "code",
     "collapsed": false,
     "input": [
      "for i in range(5):\n",
      "    print i\n",
      "    time.sleep(1)"
     ],
     "language": "python",
     "metadata": {},
     "outputs": [
      {
       "output_type": "stream",
       "stream": "stdout",
       "text": [
        "0\n",
        "1"
       ]
      },
      {
       "output_type": "stream",
       "stream": "stdout",
       "text": [
        "\n",
        "2"
       ]
      },
      {
       "output_type": "stream",
       "stream": "stdout",
       "text": [
        "\n",
        "3"
       ]
      },
      {
       "output_type": "stream",
       "stream": "stdout",
       "text": [
        "\n",
        "4"
       ]
      },
      {
       "output_type": "stream",
       "stream": "stdout",
       "text": [
        "\n"
       ]
      }
     ],
     "prompt_number": 51
    },
    {
     "cell_type": "code",
     "collapsed": false,
     "input": [
      "for i in range(5):\n",
      "    IPython.display.clear_output()\n",
      "    print i\n",
      "    sys.stdout.flush()\n",
      "    time.sleep(1)"
     ],
     "language": "python",
     "metadata": {},
     "outputs": [
      {
       "output_type": "stream",
       "stream": "stdout",
       "text": [
        "4\n"
       ]
      }
     ],
     "prompt_number": 50
    },
    {
     "cell_type": "heading",
     "level": 3,
     "metadata": {},
     "source": [
      "Streaming the reflectance values"
     ]
    },
    {
     "cell_type": "markdown",
     "metadata": {},
     "source": [
      "Try this:\n",
      "\n",
      "(To stop it remember that there is a stop button in the toolbar ar the top)"
     ]
    },
    {
     "cell_type": "code",
     "collapsed": false,
     "input": [
      "while True:\n",
      "    values = r.read_sensors()\n",
      "    IPython.display.clear_output()\n",
      "    for val in values:\n",
      "        print '='*int(100*val) + int(100*(1.-val))*' ' + str(val)\n",
      "    sys.stdout.flush()\n",
      "    time.sleep(.01)"
     ],
     "language": "python",
     "metadata": {},
     "outputs": [
      {
       "output_type": "stream",
       "stream": "stdout",
       "text": [
        "========================================                                                           0.40879124403\n",
        "======                                                                                             0.0686202719808\n",
        "=====                                                                                              0.0539682582021\n",
        "=====                                                                                              0.0566544607282\n",
        "=====                                                                                              0.0559218600392\n",
        "=======                                                                                            0.0769230797887\n"
       ]
      },
      {
       "ename": "KeyboardInterrupt",
       "evalue": "",
       "output_type": "pyerr",
       "traceback": [
        "\u001b[1;31m---------------------------------------------------------------------------\u001b[0m\n\u001b[1;31mKeyboardInterrupt\u001b[0m                         Traceback (most recent call last)",
        "\u001b[1;32m<ipython-input-66-1b95efd91b58>\u001b[0m in \u001b[0;36m<module>\u001b[1;34m()\u001b[0m\n\u001b[0;32m      1\u001b[0m \u001b[1;32mwhile\u001b[0m \u001b[0mTrue\u001b[0m\u001b[1;33m:\u001b[0m\u001b[1;33m\u001b[0m\u001b[0m\n\u001b[1;32m----> 2\u001b[1;33m     \u001b[0mvalues\u001b[0m \u001b[1;33m=\u001b[0m \u001b[0mr\u001b[0m\u001b[1;33m.\u001b[0m\u001b[0mread_sensors\u001b[0m\u001b[1;33m(\u001b[0m\u001b[1;33m)\u001b[0m\u001b[1;33m\u001b[0m\u001b[0m\n\u001b[0m\u001b[0;32m      3\u001b[0m     \u001b[0mIPython\u001b[0m\u001b[1;33m.\u001b[0m\u001b[0mdisplay\u001b[0m\u001b[1;33m.\u001b[0m\u001b[0mclear_output\u001b[0m\u001b[1;33m(\u001b[0m\u001b[1;33m)\u001b[0m\u001b[1;33m\u001b[0m\u001b[0m\n\u001b[0;32m      4\u001b[0m     \u001b[1;32mfor\u001b[0m \u001b[0mval\u001b[0m \u001b[1;32min\u001b[0m \u001b[0mvalues\u001b[0m\u001b[1;33m:\u001b[0m\u001b[1;33m\u001b[0m\u001b[0m\n\u001b[0;32m      5\u001b[0m         \u001b[1;32mprint\u001b[0m \u001b[1;34m'='\u001b[0m\u001b[1;33m*\u001b[0m\u001b[0mint\u001b[0m\u001b[1;33m(\u001b[0m\u001b[1;36m100\u001b[0m\u001b[1;33m*\u001b[0m\u001b[0mval\u001b[0m\u001b[1;33m)\u001b[0m \u001b[1;33m+\u001b[0m \u001b[0mint\u001b[0m\u001b[1;33m(\u001b[0m\u001b[1;36m100\u001b[0m\u001b[1;33m*\u001b[0m\u001b[1;33m(\u001b[0m\u001b[1;36m1.\u001b[0m\u001b[1;33m-\u001b[0m\u001b[0mval\u001b[0m\u001b[1;33m)\u001b[0m\u001b[1;33m)\u001b[0m\u001b[1;33m*\u001b[0m\u001b[1;34m' '\u001b[0m \u001b[1;33m+\u001b[0m \u001b[0mstr\u001b[0m\u001b[1;33m(\u001b[0m\u001b[0mval\u001b[0m\u001b[1;33m)\u001b[0m\u001b[1;33m\u001b[0m\u001b[0m\n",
        "\u001b[1;32m/home/ajc/topgear/odroid/topgear/lbot.pyc\u001b[0m in \u001b[0;36mread_sensors\u001b[1;34m(self)\u001b[0m\n\u001b[0;32m     21\u001b[0m         \u001b[0mlc\u001b[0m\u001b[1;33m.\u001b[0m\u001b[0msubscribe\u001b[0m\u001b[1;33m(\u001b[0m\u001b[1;34m'robot0/state'\u001b[0m\u001b[1;33m,\u001b[0m \u001b[0mcallback\u001b[0m\u001b[1;33m)\u001b[0m\u001b[1;33m\u001b[0m\u001b[0m\n\u001b[0;32m     22\u001b[0m         \u001b[1;32mwhile\u001b[0m \u001b[0mc\u001b[0m\u001b[1;33m.\u001b[0m\u001b[0mvalues\u001b[0m \u001b[1;32mis\u001b[0m \u001b[0mNone\u001b[0m\u001b[1;33m:\u001b[0m\u001b[1;33m\u001b[0m\u001b[0m\n\u001b[1;32m---> 23\u001b[1;33m             \u001b[0mlc\u001b[0m\u001b[1;33m.\u001b[0m\u001b[0mhandle\u001b[0m\u001b[1;33m(\u001b[0m\u001b[1;33m)\u001b[0m\u001b[1;33m\u001b[0m\u001b[0m\n\u001b[0m\u001b[0;32m     24\u001b[0m         \u001b[1;32mreturn\u001b[0m \u001b[0mc\u001b[0m\u001b[1;33m.\u001b[0m\u001b[0mvalues\u001b[0m\u001b[1;33m\u001b[0m\u001b[0m\n",
        "\u001b[1;31mKeyboardInterrupt\u001b[0m: "
       ]
      }
     ],
     "prompt_number": 66
    },
    {
     "cell_type": "heading",
     "level": 3,
     "metadata": {},
     "source": [
      " Let's explore comparisons!"
     ]
    },
    {
     "cell_type": "code",
     "collapsed": false,
     "input": [
      "5 < 4"
     ],
     "language": "python",
     "metadata": {
      "cellView": null,
      "executionInfo": null
     },
     "outputs": []
    },
    {
     "cell_type": "code",
     "collapsed": false,
     "input": [
      "5 > 4"
     ],
     "language": "python",
     "metadata": {
      "cellView": null,
      "executionInfo": null
     },
     "outputs": []
    },
    {
     "cell_type": "code",
     "collapsed": false,
     "input": [
      "5 >= 4"
     ],
     "language": "python",
     "metadata": {
      "cellView": null,
      "executionInfo": null
     },
     "outputs": []
    },
    {
     "cell_type": "code",
     "collapsed": false,
     "input": [
      "4 >= 4"
     ],
     "language": "python",
     "metadata": {
      "cellView": null,
      "executionInfo": null
     },
     "outputs": []
    },
    {
     "cell_type": "code",
     "collapsed": false,
     "input": [
      "4 <= 3"
     ],
     "language": "python",
     "metadata": {
      "cellView": null,
      "executionInfo": null
     },
     "outputs": []
    },
    {
     "cell_type": "code",
     "collapsed": false,
     "input": [
      "5 == 4"
     ],
     "language": "python",
     "metadata": {
      "cellView": null,
      "executionInfo": null
     },
     "outputs": []
    },
    {
     "cell_type": "code",
     "collapsed": false,
     "input": [
      "5 == 5.0"
     ],
     "language": "python",
     "metadata": {
      "cellView": null,
      "executionInfo": null
     },
     "outputs": []
    },
    {
     "cell_type": "code",
     "collapsed": false,
     "input": [
      "5 != 4"
     ],
     "language": "python",
     "metadata": {
      "cellView": null,
      "executionInfo": null
     },
     "outputs": []
    },
    {
     "cell_type": "code",
     "collapsed": false,
     "input": [
      "2 + 2 == 4"
     ],
     "language": "python",
     "metadata": {
      "cellView": null,
      "executionInfo": null
     },
     "outputs": []
    },
    {
     "cell_type": "code",
     "collapsed": false,
     "input": [
      "2 >= 3"
     ],
     "language": "python",
     "metadata": {
      "cellView": null,
      "executionInfo": null
     },
     "outputs": []
    },
    {
     "cell_type": "markdown",
     "metadata": {},
     "source": [
      "What do the following comparison operators do?\n",
      "\n",
      "1. \">\":\n",
      "\n",
      "2. \"<\":\n",
      "\n",
      "3. \">=\":\n",
      "\n",
      "4. \"<=\":\n",
      "\n",
      "5. \"!=\":"
     ]
    },
    {
     "cell_type": "markdown",
     "metadata": {},
     "source": [
      "### Playing with logicals"
     ]
    },
    {
     "cell_type": "markdown",
     "metadata": {},
     "source": [
      "See if the value read in by the first sensor is greater than or equal to .3\n",
      "\n",
      "Store the result in variable boo"
     ]
    },
    {
     "cell_type": "code",
     "collapsed": false,
     "input": [
      "# Your code goes here!~"
     ],
     "language": "python",
     "metadata": {},
     "outputs": []
    },
    {
     "cell_type": "markdown",
     "metadata": {},
     "source": [
      "### Now let's use sensors while driving the robot"
     ]
    },
    {
     "cell_type": "markdown",
     "metadata": {},
     "source": [
      "Try to do the following:\n",
      "\n",
      "* Set the robot to be perpendicular to some retro reflective tape a few inches away\n",
      "\n",
      "* Let the robot drive until the robot reaches the tape\n",
      "\n",
      "* Run the cell multiple times for varrying distance from the reflective tape.\n",
      "\n",
      "Think about your tests under different lighting conditions and logical operators."
     ]
    },
    {
     "cell_type": "code",
     "collapsed": false,
     "input": [
      "# Your code goes here!~\n",
      "r.drive(.15,.15)\n",
      "temp = r.read_sensors()\n",
      "while temp[0] > .4:\n",
      "#     r.drive(.15,.15)\n",
      "    temp = r.read_sensors()\n",
      "r.drive(0,0)"
     ],
     "language": "python",
     "metadata": {},
     "outputs": [],
     "prompt_number": 74
    },
    {
     "cell_type": "code",
     "collapsed": false,
     "input": [
      "# Your code goes here!~\n",
      "r.drive(.15,.15)\n",
      "# temp = r.read_sensors()\n",
      "while r.read_sensors()[0] > .4:\n",
      "    time.sleep(.001)\n",
      "r.drive(0,0)"
     ],
     "language": "python",
     "metadata": {},
     "outputs": [],
     "prompt_number": 75
    },
    {
     "cell_type": "markdown",
     "metadata": {},
     "source": [
      "Now put the robot on reflective tape parallel to it and have it drive until it is off the reflective tape."
     ]
    },
    {
     "cell_type": "code",
     "collapsed": false,
     "input": [
      "# Your code goes here!~"
     ],
     "language": "python",
     "metadata": {},
     "outputs": [],
     "prompt_number": 58
    },
    {
     "cell_type": "markdown",
     "metadata": {},
     "source": [
      "Congratulations, you are on your way to follow a line!"
     ]
    },
    {
     "cell_type": "markdown",
     "metadata": {},
     "source": [
      "### Conditionals"
     ]
    },
    {
     "cell_type": "markdown",
     "metadata": {},
     "source": [
      "The final step to make to follow lines is learning about conditionals"
     ]
    },
    {
     "cell_type": "code",
     "collapsed": false,
     "input": [
      "temp = 0\n",
      "\n",
      "if temp > 8:\n",
      "    print \"hello\"\n",
      "else:\n",
      "    if temp > 4:\n",
      "        print \"bye\"\n",
      "    else:\n",
      "        print \"Your number is too small\"\n",
      "    "
     ],
     "language": "python",
     "metadata": {},
     "outputs": [
      {
       "output_type": "stream",
       "stream": "stdout",
       "text": [
        "Your number is too small\n"
       ]
      }
     ],
     "prompt_number": 59
    },
    {
     "cell_type": "code",
     "collapsed": false,
     "input": [],
     "language": "python",
     "metadata": {},
     "outputs": []
    }
   ],
   "metadata": {}
  }
 ]
}