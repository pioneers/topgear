{
 "metadata": {
  "name": "",
  "signature": "sha256:ab507ee821c356f6e7c17b8ed98047e5da913f25d7231931f6acfab1533af669"
 },
 "nbformat": 3,
 "nbformat_minor": 0,
 "worksheets": [
  {
   "cells": [
    {
     "cell_type": "markdown",
     "metadata": {},
     "source": [
      "<img src=\"http://mirageforum.com/forum/attachment.php?attachmentid=159&d=1370617142\">"
     ]
    },
    {
     "cell_type": "markdown",
     "metadata": {},
     "source": [
      "back to [Index](index.ipynb)"
     ]
    },
    {
     "cell_type": "heading",
     "level": 1,
     "metadata": {},
     "source": [
      "base_lcm_driver"
     ]
    },
    {
     "cell_type": "markdown",
     "metadata": {},
     "source": [
      "2014-08-07"
     ]
    },
    {
     "cell_type": "markdown",
     "metadata": {},
     "source": [
      "Example student code.\n",
      "This needs to be run on the robot in order to work."
     ]
    },
    {
     "cell_type": "code",
     "collapsed": false,
     "input": [
      "# Cross-notebook include shim\n",
      "with open(\"nbinclude.ipynb\") as nbinclude_f: # don't rename nbinclude_f\n",
      "    import IPython.nbformat.current\n",
      "    get_ipython().run_cell(IPython.nbformat.current.read(nbinclude_f, 'json').worksheets[0].cells[0].input)"
     ],
     "language": "python",
     "metadata": {},
     "outputs": [],
     "prompt_number": 1
    },
    {
     "cell_type": "code",
     "collapsed": false,
     "input": [
      "import time, lcm\n",
      "from python.forseti2 import piemos_cmd\n",
      "from python.fearing import base_cmd, reflectance_scan\n",
      "import python.fearing\n",
      "import threading\n",
      "import sys"
     ],
     "language": "python",
     "metadata": {},
     "outputs": [],
     "prompt_number": 2
    },
    {
     "cell_type": "code",
     "collapsed": false,
     "input": [
      "from python.mbedrpc import *\n",
      "import threading\n",
      "\n",
      "class Motor:\n",
      "    def __init__(self, a1, a2):\n",
      "        self.a1=a1\n",
      "        self.a2=a2\n",
      "    def cmd(self, speed):\n",
      "        if speed >=0:\n",
      "            self.a1.write(speed)\n",
      "            self.a2.write(0)\n",
      "        else:\n",
      "            self.a1.write(0)\n",
      "            self.a2.write(-speed)\n",
      "class Robot:\n",
      "    def __init__(self, dev='/dev/ttyACM0'):\n",
      "        self.mbed=SerialRPC(dev, 115200)\n",
      "        a1=PwmOut(self.mbed, p21)\n",
      "        a2=PwmOut(self.mbed, p22)\n",
      "        b1=PwmOut(self.mbed, p23)\n",
      "        b2=PwmOut(self.mbed, p24)\n",
      "        self.m_right = Motor(a1, a2)\n",
      "        self.m_left = Motor(b1, b2)\n",
      "        self.enabled=True\n",
      "        self.last_left=0\n",
      "        self.last_right=0\n",
      "        self.sensors=[]\n",
      "        for i in (p20,p19,p18,p17,p16,p15):\n",
      "            self.sensors.append(AnalogIn(self.mbed, i))\n",
      "        self.rlock=threading.Lock()\n",
      "    def enable(self):\n",
      "        self.rlock.acquire()\n",
      "        self.enabled=True\n",
      "        self._cmd(self.last_left, self.last_right)\n",
      "        self.rlock.release()\n",
      "    def disable(self):\n",
      "        self.rlock.acquire()\n",
      "        self.enabled=False\n",
      "        self._cmd(self.last_left, self.last_right)\n",
      "        self.rlock.release()\n",
      "    def drive(self, left, right):\n",
      "        self.rlock.acquire()\n",
      "        self._cmd(left, right)\n",
      "        self.rlock.release()\n",
      "    def cmd(self, left, right):\n",
      "        self.rlock.acquire()\n",
      "        self._cmd(left, right)\n",
      "        self.rlock.release()\n",
      "    def _cmd(self, left, right):\n",
      "        self.last_left=left\n",
      "        self.last_right=right\n",
      "        if self.enabled:\n",
      "            self.m_left.cmd(-left)\n",
      "            self.m_right.cmd(right)\n",
      "        else:\n",
      "            self.m_left.cmd(0)\n",
      "            self.m_right.cmd(0)\n",
      "    def read_sensors(self):\n",
      "        \"\"\" returns an array of the line sensor reflectance values\n",
      "        \"\"\"\n",
      "        self.rlock.acquire()\n",
      "        def read(sensor): return sensor.read()\n",
      "        retu=map(read, self.sensors)\n",
      "        self.rlock.release()\n",
      "        return retu"
     ],
     "language": "python",
     "metadata": {},
     "outputs": [],
     "prompt_number": 3
    },
    {
     "cell_type": "code",
     "collapsed": false,
     "input": [
      "class Base_LCM_Driver:\n",
      "    def __init__(self, robot):\n",
      "        self.robot=robot\n",
      "        self.lcm = lcm.LCM('udpm://239.255.76.67:7667?ttl=1')\n",
      "        sub = self.lcm.subscribe(\"robot0/cmd\", self.handle_base_cmd)\n",
      "        \n",
      "        self.running = False\n",
      "        self.msg = reflectance_scan()\n",
      "        self.msg.header = python.fearing.header()\n",
      "        \n",
      "    def handle_base_cmd(self, chan, data):\n",
      "        msg = base_cmd.decode(data)\n",
      "#         print 'handle_base_cmd', msg.left_cmd, msg.right_cmd\n",
      "#         sys.stdout.flush()\n",
      "        self.robot.cmd(msg.left_cmd, msg.right_cmd)\n",
      "        \n",
      "    def transmit_start(self):\n",
      "        t=threading.Thread(target=self.transmit_run)\n",
      "        t.daemon = True\n",
      "        t.start()\n",
      "    \n",
      "    def transmit_run(self):\n",
      "        self.running = True\n",
      "        while self.running:\n",
      "            self.transmit_state()\n",
      "#             time.sleep(.01)\n",
      "        \n",
      "    def transmit_state(self):\n",
      "        self.msg.reflectaces = self.robot.read_sensors()\n",
      "        self.lcm.publish('robot0/state', self.msg.encode())\n",
      "#         self.robot.cmd(l,r)\n",
      "\n",
      "#     def handle_joy(self, chan, data):\n",
      "#         msg = xbox_joystick_state.decode(data)\n",
      "#         l,r = msg.axes[1], msg.axes[4]\n",
      "#         self.robot.cmd(l,r)\n",
      "        \n",
      "#     def handle_piemos(self, channel, data):\n",
      "#         msg=piemos_cmd.decode(data)\n",
      "#         if msg.enabled:\n",
      "#             self.robot.enable()\n",
      "#         else:\n",
      "#             self.robot.disable()\n",
      "\n",
      "    def lcm_run(self):\n",
      "#         sub2=lc.subscribe(\"piemos0/cmd\", self.handle_piemos)\n",
      "        while True:\n",
      "            self.lcm.handle()\n",
      "            time.sleep(.01)"
     ],
     "language": "python",
     "metadata": {},
     "outputs": [],
     "prompt_number": 4
    },
    {
     "cell_type": "code",
     "collapsed": false,
     "input": [
      "r0=Robot('/dev/ttyACM0')"
     ],
     "language": "python",
     "metadata": {},
     "outputs": [],
     "prompt_number": 5
    },
    {
     "cell_type": "code",
     "collapsed": false,
     "input": [
      "r0.cmd(.1, .1)"
     ],
     "language": "python",
     "metadata": {},
     "outputs": [],
     "prompt_number": 6
    },
    {
     "cell_type": "code",
     "collapsed": false,
     "input": [
      "r0.cmd(0,0)"
     ],
     "language": "python",
     "metadata": {},
     "outputs": [],
     "prompt_number": 7
    },
    {
     "cell_type": "code",
     "collapsed": false,
     "input": [
      "bld=Base_LCM_Driver(r0)"
     ],
     "language": "python",
     "metadata": {},
     "outputs": [],
     "prompt_number": 8
    },
    {
     "cell_type": "code",
     "collapsed": false,
     "input": [
      "# bld.transmit_run()"
     ],
     "language": "python",
     "metadata": {},
     "outputs": [],
     "prompt_number": 9
    },
    {
     "cell_type": "code",
     "collapsed": false,
     "input": [
      "bld.transmit_start()"
     ],
     "language": "python",
     "metadata": {},
     "outputs": [],
     "prompt_number": 10
    },
    {
     "cell_type": "code",
     "collapsed": false,
     "input": [
      "bld.lcm_run()"
     ],
     "language": "python",
     "metadata": {},
     "outputs": []
    },
    {
     "cell_type": "code",
     "collapsed": false,
     "input": [
      "bld.running=False"
     ],
     "language": "python",
     "metadata": {},
     "outputs": [],
     "prompt_number": 11
    },
    {
     "cell_type": "code",
     "collapsed": false,
     "input": [],
     "language": "python",
     "metadata": {},
     "outputs": []
    }
   ],
   "metadata": {}
  }
 ]
}