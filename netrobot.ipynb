{
 "metadata": {
  "name": "",
  "signature": "sha256:3de57060834f705651b4508a9f1e76bc162915981bdc9f6d5c1cc9c1c836fafc"
 },
 "nbformat": 3,
 "nbformat_minor": 0,
 "worksheets": [
  {
   "cells": [
    {
     "cell_type": "markdown",
     "metadata": {},
     "source": [
      "<img src=\"http://mirageforum.com/forum/attachment.php?attachmentid=159&d=1370617142\">"
     ]
    },
    {
     "cell_type": "markdown",
     "metadata": {},
     "source": [
      "back to [Index](index.ipynb)"
     ]
    },
    {
     "cell_type": "heading",
     "level": 1,
     "metadata": {},
     "source": [
      "netrobot"
     ]
    },
    {
     "cell_type": "markdown",
     "metadata": {},
     "source": [
      "2014-07-19"
     ]
    },
    {
     "cell_type": "markdown",
     "metadata": {},
     "source": [
      "network robot driver"
     ]
    },
    {
     "cell_type": "code",
     "collapsed": false,
     "input": [
      "# Cross-notebook include shim\n",
      "with open(\"nbinclude.ipynb\") as nbinclude_f: # don't rename nbinclude_f\n",
      "    import IPython.nbformat.current\n",
      "    get_ipython().run_cell(IPython.nbformat.current.read(nbinclude_f, 'json').worksheets[0].cells[0].input)"
     ],
     "language": "python",
     "metadata": {},
     "outputs": [],
     "prompt_number": 5
    },
    {
     "cell_type": "code",
     "collapsed": false,
     "input": [
      "import time, lcm\n",
      "from python.forseti2 import piemos_cmd\n",
      "from python.fearing import xbox_joystick_state\n",
      "import python.fearing"
     ],
     "language": "python",
     "metadata": {},
     "outputs": [],
     "prompt_number": 6
    },
    {
     "cell_type": "code",
     "collapsed": false,
     "input": [
      "class NetRobot:\n",
      "    def __init__(self):\n",
      "        self.lc=lcm.LCM('udpm://239.255.76.67:7667?ttl=1')\n",
      "        self.xbs=xbox_joystick_state()\n",
      "        self.xbs.header = python.fearing.header()\n",
      "        self.enabled=True\n",
      "        self.last_left=0\n",
      "        self.last_right=0\n",
      "    def enable(self):\n",
      "        self.enabled=True\n",
      "        self.cmd(self.last_left, self.last_right)\n",
      "    def disable(self):\n",
      "        self.enabled=False\n",
      "        self.cmd(self.last_left, self.last_right)\n",
      "    def cmd(self, left, right):\n",
      "        self.last_left=left\n",
      "        self.last_right=right\n",
      "        if self.enabled:\n",
      "            self.xbs.axes[1]=left\n",
      "            self.xbs.axes[4]=right\n",
      "        else:\n",
      "            self.xbs.axes[1]=0\n",
      "            self.xbs.axes[4]=0\n",
      "        self.lc.publish('robot0/cmd', self.xbs.encode())"
     ],
     "language": "python",
     "metadata": {},
     "outputs": [],
     "prompt_number": 7
    },
    {
     "cell_type": "code",
     "collapsed": false,
     "input": [
      "#NBINCLUDE_STOP"
     ],
     "language": "python",
     "metadata": {},
     "outputs": [],
     "prompt_number": 8
    },
    {
     "cell_type": "code",
     "collapsed": false,
     "input": [
      "nr=NetRobot()"
     ],
     "language": "python",
     "metadata": {},
     "outputs": [],
     "prompt_number": 9
    },
    {
     "cell_type": "code",
     "collapsed": false,
     "input": [
      "nr.cmd(1,1)"
     ],
     "language": "python",
     "metadata": {},
     "outputs": [],
     "prompt_number": 12
    },
    {
     "cell_type": "code",
     "collapsed": false,
     "input": [
      "nr.disable()"
     ],
     "language": "python",
     "metadata": {},
     "outputs": [],
     "prompt_number": 13
    },
    {
     "cell_type": "code",
     "collapsed": false,
     "input": [
      "nr.enable()"
     ],
     "language": "python",
     "metadata": {},
     "outputs": [],
     "prompt_number": 15
    },
    {
     "cell_type": "code",
     "collapsed": false,
     "input": [
      "nr.cmd(0,0)"
     ],
     "language": "python",
     "metadata": {},
     "outputs": [],
     "prompt_number": 16
    },
    {
     "cell_type": "code",
     "collapsed": false,
     "input": [],
     "language": "python",
     "metadata": {},
     "outputs": []
    }
   ],
   "metadata": {}
  }
 ]
}